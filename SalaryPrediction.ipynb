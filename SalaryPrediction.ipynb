{
 "cells": [
  {
   "cell_type": "code",
   "execution_count": 1,
   "id": "e358204d-a46b-4adb-b449-521b483ca273",
   "metadata": {},
   "outputs": [],
   "source": [
    "import pandas as pd\n",
    "import numpy as np\n",
    "import matplotlib.pyplot as plt\n",
    "from sklearn import datasets, linear_model\n",
    "from sklearn.metrics import  mean_squared_error\n",
    "%matplotlib inline"
   ]
  },
  {
   "cell_type": "code",
   "execution_count": 2,
   "id": "11984961-4062-47f7-8b20-e07ad1fb90ae",
   "metadata": {},
   "outputs": [],
   "source": [
    "df = pd.read_csv(\"glassdoor_jobs.csv\")"
   ]
  },
  {
   "cell_type": "markdown",
   "id": "25ac9ab4-bdf5-4907-ae04-74928a9e72dd",
   "metadata": {},
   "source": [
    "# Exploring Dataset"
   ]
  },
  {
   "cell_type": "code",
   "execution_count": 3,
   "id": "08cf67c0-7a6e-4cf2-8b35-0cc720e2ae93",
   "metadata": {},
   "outputs": [
    {
     "data": {
      "text/html": [
       "<div>\n",
       "<style scoped>\n",
       "    .dataframe tbody tr th:only-of-type {\n",
       "        vertical-align: middle;\n",
       "    }\n",
       "\n",
       "    .dataframe tbody tr th {\n",
       "        vertical-align: top;\n",
       "    }\n",
       "\n",
       "    .dataframe thead th {\n",
       "        text-align: right;\n",
       "    }\n",
       "</style>\n",
       "<table border=\"1\" class=\"dataframe\">\n",
       "  <thead>\n",
       "    <tr style=\"text-align: right;\">\n",
       "      <th></th>\n",
       "      <th>Unnamed: 0</th>\n",
       "      <th>Job Title</th>\n",
       "      <th>Salary Estimate</th>\n",
       "      <th>Job Description</th>\n",
       "      <th>Rating</th>\n",
       "      <th>Company Name</th>\n",
       "      <th>Location</th>\n",
       "      <th>Headquarters</th>\n",
       "      <th>Size</th>\n",
       "      <th>Founded</th>\n",
       "      <th>Type of ownership</th>\n",
       "      <th>Industry</th>\n",
       "      <th>Sector</th>\n",
       "      <th>Revenue</th>\n",
       "      <th>Competitors</th>\n",
       "    </tr>\n",
       "  </thead>\n",
       "  <tbody>\n",
       "    <tr>\n",
       "      <th>0</th>\n",
       "      <td>0</td>\n",
       "      <td>Data Scientist</td>\n",
       "      <td>$53K-$91K (Glassdoor est.)</td>\n",
       "      <td>Data Scientist\\nLocation: Albuquerque, NM\\nEdu...</td>\n",
       "      <td>3.8</td>\n",
       "      <td>Tecolote Research\\n3.8</td>\n",
       "      <td>Albuquerque, NM</td>\n",
       "      <td>Goleta, CA</td>\n",
       "      <td>501 to 1000 employees</td>\n",
       "      <td>1973</td>\n",
       "      <td>Company - Private</td>\n",
       "      <td>Aerospace &amp; Defense</td>\n",
       "      <td>Aerospace &amp; Defense</td>\n",
       "      <td>$50 to $100 million (USD)</td>\n",
       "      <td>-1</td>\n",
       "    </tr>\n",
       "    <tr>\n",
       "      <th>1</th>\n",
       "      <td>1</td>\n",
       "      <td>Healthcare Data Scientist</td>\n",
       "      <td>$63K-$112K (Glassdoor est.)</td>\n",
       "      <td>What You Will Do:\\n\\nI. General Summary\\n\\nThe...</td>\n",
       "      <td>3.4</td>\n",
       "      <td>University of Maryland Medical System\\n3.4</td>\n",
       "      <td>Linthicum, MD</td>\n",
       "      <td>Baltimore, MD</td>\n",
       "      <td>10000+ employees</td>\n",
       "      <td>1984</td>\n",
       "      <td>Other Organization</td>\n",
       "      <td>Health Care Services &amp; Hospitals</td>\n",
       "      <td>Health Care</td>\n",
       "      <td>$2 to $5 billion (USD)</td>\n",
       "      <td>-1</td>\n",
       "    </tr>\n",
       "    <tr>\n",
       "      <th>2</th>\n",
       "      <td>2</td>\n",
       "      <td>Data Scientist</td>\n",
       "      <td>$80K-$90K (Glassdoor est.)</td>\n",
       "      <td>KnowBe4, Inc. is a high growth information sec...</td>\n",
       "      <td>4.8</td>\n",
       "      <td>KnowBe4\\n4.8</td>\n",
       "      <td>Clearwater, FL</td>\n",
       "      <td>Clearwater, FL</td>\n",
       "      <td>501 to 1000 employees</td>\n",
       "      <td>2010</td>\n",
       "      <td>Company - Private</td>\n",
       "      <td>Security Services</td>\n",
       "      <td>Business Services</td>\n",
       "      <td>$100 to $500 million (USD)</td>\n",
       "      <td>-1</td>\n",
       "    </tr>\n",
       "    <tr>\n",
       "      <th>3</th>\n",
       "      <td>3</td>\n",
       "      <td>Data Scientist</td>\n",
       "      <td>$56K-$97K (Glassdoor est.)</td>\n",
       "      <td>*Organization and Job ID**\\nJob ID: 310709\\n\\n...</td>\n",
       "      <td>3.8</td>\n",
       "      <td>PNNL\\n3.8</td>\n",
       "      <td>Richland, WA</td>\n",
       "      <td>Richland, WA</td>\n",
       "      <td>1001 to 5000 employees</td>\n",
       "      <td>1965</td>\n",
       "      <td>Government</td>\n",
       "      <td>Energy</td>\n",
       "      <td>Oil, Gas, Energy &amp; Utilities</td>\n",
       "      <td>$500 million to $1 billion (USD)</td>\n",
       "      <td>Oak Ridge National Laboratory, National Renewa...</td>\n",
       "    </tr>\n",
       "    <tr>\n",
       "      <th>4</th>\n",
       "      <td>4</td>\n",
       "      <td>Data Scientist</td>\n",
       "      <td>$86K-$143K (Glassdoor est.)</td>\n",
       "      <td>Data Scientist\\nAffinity Solutions / Marketing...</td>\n",
       "      <td>2.9</td>\n",
       "      <td>Affinity Solutions\\n2.9</td>\n",
       "      <td>New York, NY</td>\n",
       "      <td>New York, NY</td>\n",
       "      <td>51 to 200 employees</td>\n",
       "      <td>1998</td>\n",
       "      <td>Company - Private</td>\n",
       "      <td>Advertising &amp; Marketing</td>\n",
       "      <td>Business Services</td>\n",
       "      <td>Unknown / Non-Applicable</td>\n",
       "      <td>Commerce Signals, Cardlytics, Yodlee</td>\n",
       "    </tr>\n",
       "    <tr>\n",
       "      <th>...</th>\n",
       "      <td>...</td>\n",
       "      <td>...</td>\n",
       "      <td>...</td>\n",
       "      <td>...</td>\n",
       "      <td>...</td>\n",
       "      <td>...</td>\n",
       "      <td>...</td>\n",
       "      <td>...</td>\n",
       "      <td>...</td>\n",
       "      <td>...</td>\n",
       "      <td>...</td>\n",
       "      <td>...</td>\n",
       "      <td>...</td>\n",
       "      <td>...</td>\n",
       "      <td>...</td>\n",
       "    </tr>\n",
       "    <tr>\n",
       "      <th>951</th>\n",
       "      <td>951</td>\n",
       "      <td>Senior Data Engineer</td>\n",
       "      <td>$72K-$133K (Glassdoor est.)</td>\n",
       "      <td>THE CHALLENGE\\nEventbrite has a world-class da...</td>\n",
       "      <td>4.4</td>\n",
       "      <td>Eventbrite\\n4.4</td>\n",
       "      <td>Nashville, TN</td>\n",
       "      <td>San Francisco, CA</td>\n",
       "      <td>1001 to 5000 employees</td>\n",
       "      <td>2006</td>\n",
       "      <td>Company - Public</td>\n",
       "      <td>Internet</td>\n",
       "      <td>Information Technology</td>\n",
       "      <td>$100 to $500 million (USD)</td>\n",
       "      <td>See Tickets, TicketWeb, Vendini</td>\n",
       "    </tr>\n",
       "    <tr>\n",
       "      <th>952</th>\n",
       "      <td>952</td>\n",
       "      <td>Project Scientist - Auton Lab, Robotics Institute</td>\n",
       "      <td>$56K-$91K (Glassdoor est.)</td>\n",
       "      <td>The Auton Lab at Carnegie Mellon University is...</td>\n",
       "      <td>2.6</td>\n",
       "      <td>Software Engineering Institute\\n2.6</td>\n",
       "      <td>Pittsburgh, PA</td>\n",
       "      <td>Pittsburgh, PA</td>\n",
       "      <td>501 to 1000 employees</td>\n",
       "      <td>1984</td>\n",
       "      <td>College / University</td>\n",
       "      <td>Colleges &amp; Universities</td>\n",
       "      <td>Education</td>\n",
       "      <td>Unknown / Non-Applicable</td>\n",
       "      <td>-1</td>\n",
       "    </tr>\n",
       "    <tr>\n",
       "      <th>953</th>\n",
       "      <td>953</td>\n",
       "      <td>Data Science Manager</td>\n",
       "      <td>$95K-$160K (Glassdoor est.)</td>\n",
       "      <td>Data Science ManagerResponsibilities:\\n\\nOvers...</td>\n",
       "      <td>3.2</td>\n",
       "      <td>Numeric, LLC\\n3.2</td>\n",
       "      <td>Allentown, PA</td>\n",
       "      <td>Chadds Ford, PA</td>\n",
       "      <td>1 to 50 employees</td>\n",
       "      <td>-1</td>\n",
       "      <td>Company - Private</td>\n",
       "      <td>Staffing &amp; Outsourcing</td>\n",
       "      <td>Business Services</td>\n",
       "      <td>$5 to $10 million (USD)</td>\n",
       "      <td>-1</td>\n",
       "    </tr>\n",
       "    <tr>\n",
       "      <th>954</th>\n",
       "      <td>954</td>\n",
       "      <td>Data Engineer</td>\n",
       "      <td>-1</td>\n",
       "      <td>Loading...\\n\\nTitle: Data Engineer\\n\\nLocation...</td>\n",
       "      <td>4.8</td>\n",
       "      <td>IGNW\\n4.8</td>\n",
       "      <td>Austin, TX</td>\n",
       "      <td>Portland, OR</td>\n",
       "      <td>201 to 500 employees</td>\n",
       "      <td>2015</td>\n",
       "      <td>Company - Private</td>\n",
       "      <td>IT Services</td>\n",
       "      <td>Information Technology</td>\n",
       "      <td>$25 to $50 million (USD)</td>\n",
       "      <td>Slalom</td>\n",
       "    </tr>\n",
       "    <tr>\n",
       "      <th>955</th>\n",
       "      <td>955</td>\n",
       "      <td>Research Scientist – Security and Privacy</td>\n",
       "      <td>$61K-$126K (Glassdoor est.)</td>\n",
       "      <td>Returning Candidate? Log back in to the Career...</td>\n",
       "      <td>3.6</td>\n",
       "      <td>Riverside Research Institute\\n3.6</td>\n",
       "      <td>Beavercreek, OH</td>\n",
       "      <td>Arlington, VA</td>\n",
       "      <td>501 to 1000 employees</td>\n",
       "      <td>1967</td>\n",
       "      <td>Nonprofit Organization</td>\n",
       "      <td>Federal Agencies</td>\n",
       "      <td>Government</td>\n",
       "      <td>$50 to $100 million (USD)</td>\n",
       "      <td>-1</td>\n",
       "    </tr>\n",
       "  </tbody>\n",
       "</table>\n",
       "<p>956 rows × 15 columns</p>\n",
       "</div>"
      ],
      "text/plain": [
       "     Unnamed: 0                                          Job Title  \\\n",
       "0             0                                     Data Scientist   \n",
       "1             1                          Healthcare Data Scientist   \n",
       "2             2                                     Data Scientist   \n",
       "3             3                                     Data Scientist   \n",
       "4             4                                     Data Scientist   \n",
       "..          ...                                                ...   \n",
       "951         951                               Senior Data Engineer   \n",
       "952         952  Project Scientist - Auton Lab, Robotics Institute   \n",
       "953         953                               Data Science Manager   \n",
       "954         954                                      Data Engineer   \n",
       "955         955          Research Scientist – Security and Privacy   \n",
       "\n",
       "                 Salary Estimate  \\\n",
       "0     $53K-$91K (Glassdoor est.)   \n",
       "1    $63K-$112K (Glassdoor est.)   \n",
       "2     $80K-$90K (Glassdoor est.)   \n",
       "3     $56K-$97K (Glassdoor est.)   \n",
       "4    $86K-$143K (Glassdoor est.)   \n",
       "..                           ...   \n",
       "951  $72K-$133K (Glassdoor est.)   \n",
       "952   $56K-$91K (Glassdoor est.)   \n",
       "953  $95K-$160K (Glassdoor est.)   \n",
       "954                           -1   \n",
       "955  $61K-$126K (Glassdoor est.)   \n",
       "\n",
       "                                       Job Description  Rating  \\\n",
       "0    Data Scientist\\nLocation: Albuquerque, NM\\nEdu...     3.8   \n",
       "1    What You Will Do:\\n\\nI. General Summary\\n\\nThe...     3.4   \n",
       "2    KnowBe4, Inc. is a high growth information sec...     4.8   \n",
       "3    *Organization and Job ID**\\nJob ID: 310709\\n\\n...     3.8   \n",
       "4    Data Scientist\\nAffinity Solutions / Marketing...     2.9   \n",
       "..                                                 ...     ...   \n",
       "951  THE CHALLENGE\\nEventbrite has a world-class da...     4.4   \n",
       "952  The Auton Lab at Carnegie Mellon University is...     2.6   \n",
       "953  Data Science ManagerResponsibilities:\\n\\nOvers...     3.2   \n",
       "954  Loading...\\n\\nTitle: Data Engineer\\n\\nLocation...     4.8   \n",
       "955  Returning Candidate? Log back in to the Career...     3.6   \n",
       "\n",
       "                                   Company Name         Location  \\\n",
       "0                        Tecolote Research\\n3.8  Albuquerque, NM   \n",
       "1    University of Maryland Medical System\\n3.4    Linthicum, MD   \n",
       "2                                  KnowBe4\\n4.8   Clearwater, FL   \n",
       "3                                     PNNL\\n3.8     Richland, WA   \n",
       "4                       Affinity Solutions\\n2.9     New York, NY   \n",
       "..                                          ...              ...   \n",
       "951                             Eventbrite\\n4.4    Nashville, TN   \n",
       "952         Software Engineering Institute\\n2.6   Pittsburgh, PA   \n",
       "953                           Numeric, LLC\\n3.2    Allentown, PA   \n",
       "954                                   IGNW\\n4.8       Austin, TX   \n",
       "955           Riverside Research Institute\\n3.6  Beavercreek, OH   \n",
       "\n",
       "          Headquarters                    Size  Founded  \\\n",
       "0           Goleta, CA   501 to 1000 employees     1973   \n",
       "1        Baltimore, MD        10000+ employees     1984   \n",
       "2       Clearwater, FL   501 to 1000 employees     2010   \n",
       "3         Richland, WA  1001 to 5000 employees     1965   \n",
       "4         New York, NY     51 to 200 employees     1998   \n",
       "..                 ...                     ...      ...   \n",
       "951  San Francisco, CA  1001 to 5000 employees     2006   \n",
       "952     Pittsburgh, PA   501 to 1000 employees     1984   \n",
       "953    Chadds Ford, PA       1 to 50 employees       -1   \n",
       "954       Portland, OR    201 to 500 employees     2015   \n",
       "955      Arlington, VA   501 to 1000 employees     1967   \n",
       "\n",
       "          Type of ownership                          Industry  \\\n",
       "0         Company - Private               Aerospace & Defense   \n",
       "1        Other Organization  Health Care Services & Hospitals   \n",
       "2         Company - Private                 Security Services   \n",
       "3                Government                            Energy   \n",
       "4         Company - Private           Advertising & Marketing   \n",
       "..                      ...                               ...   \n",
       "951        Company - Public                          Internet   \n",
       "952    College / University           Colleges & Universities   \n",
       "953       Company - Private            Staffing & Outsourcing   \n",
       "954       Company - Private                       IT Services   \n",
       "955  Nonprofit Organization                  Federal Agencies   \n",
       "\n",
       "                           Sector                           Revenue  \\\n",
       "0             Aerospace & Defense         $50 to $100 million (USD)   \n",
       "1                     Health Care            $2 to $5 billion (USD)   \n",
       "2               Business Services        $100 to $500 million (USD)   \n",
       "3    Oil, Gas, Energy & Utilities  $500 million to $1 billion (USD)   \n",
       "4               Business Services          Unknown / Non-Applicable   \n",
       "..                            ...                               ...   \n",
       "951        Information Technology        $100 to $500 million (USD)   \n",
       "952                     Education          Unknown / Non-Applicable   \n",
       "953             Business Services           $5 to $10 million (USD)   \n",
       "954        Information Technology          $25 to $50 million (USD)   \n",
       "955                    Government         $50 to $100 million (USD)   \n",
       "\n",
       "                                           Competitors  \n",
       "0                                                   -1  \n",
       "1                                                   -1  \n",
       "2                                                   -1  \n",
       "3    Oak Ridge National Laboratory, National Renewa...  \n",
       "4                 Commerce Signals, Cardlytics, Yodlee  \n",
       "..                                                 ...  \n",
       "951                    See Tickets, TicketWeb, Vendini  \n",
       "952                                                 -1  \n",
       "953                                                 -1  \n",
       "954                                             Slalom  \n",
       "955                                                 -1  \n",
       "\n",
       "[956 rows x 15 columns]"
      ]
     },
     "execution_count": 3,
     "metadata": {},
     "output_type": "execute_result"
    }
   ],
   "source": [
    "df"
   ]
  },
  {
   "cell_type": "code",
   "execution_count": 4,
   "id": "8be79c30-acd9-446c-aa13-3cebc686c0e4",
   "metadata": {},
   "outputs": [
    {
     "data": {
      "text/plain": [
       "(956, 15)"
      ]
     },
     "execution_count": 4,
     "metadata": {},
     "output_type": "execute_result"
    }
   ],
   "source": [
    "df.shape"
   ]
  },
  {
   "cell_type": "code",
   "execution_count": 5,
   "id": "c8f8106f-8615-4145-900e-936a995ce748",
   "metadata": {},
   "outputs": [
    {
     "data": {
      "text/plain": [
       "Unnamed: 0             int64\n",
       "Job Title             object\n",
       "Salary Estimate       object\n",
       "Job Description       object\n",
       "Rating               float64\n",
       "Company Name          object\n",
       "Location              object\n",
       "Headquarters          object\n",
       "Size                  object\n",
       "Founded                int64\n",
       "Type of ownership     object\n",
       "Industry              object\n",
       "Sector                object\n",
       "Revenue               object\n",
       "Competitors           object\n",
       "dtype: object"
      ]
     },
     "execution_count": 5,
     "metadata": {},
     "output_type": "execute_result"
    }
   ],
   "source": [
    "df.dtypes"
   ]
  },
  {
   "cell_type": "code",
   "execution_count": 6,
   "id": "ee8d13aa-3d0b-4075-a036-640d16fa041d",
   "metadata": {},
   "outputs": [
    {
     "name": "stdout",
     "output_type": "stream",
     "text": [
      "<class 'pandas.core.frame.DataFrame'>\n",
      "RangeIndex: 956 entries, 0 to 955\n",
      "Data columns (total 15 columns):\n",
      " #   Column             Non-Null Count  Dtype  \n",
      "---  ------             --------------  -----  \n",
      " 0   Unnamed: 0         956 non-null    int64  \n",
      " 1   Job Title          956 non-null    object \n",
      " 2   Salary Estimate    956 non-null    object \n",
      " 3   Job Description    956 non-null    object \n",
      " 4   Rating             956 non-null    float64\n",
      " 5   Company Name       956 non-null    object \n",
      " 6   Location           956 non-null    object \n",
      " 7   Headquarters       956 non-null    object \n",
      " 8   Size               956 non-null    object \n",
      " 9   Founded            956 non-null    int64  \n",
      " 10  Type of ownership  956 non-null    object \n",
      " 11  Industry           956 non-null    object \n",
      " 12  Sector             956 non-null    object \n",
      " 13  Revenue            956 non-null    object \n",
      " 14  Competitors        956 non-null    object \n",
      "dtypes: float64(1), int64(2), object(12)\n",
      "memory usage: 112.2+ KB\n"
     ]
    }
   ],
   "source": [
    "df.info()"
   ]
  },
  {
   "cell_type": "code",
   "execution_count": 7,
   "id": "10052fac-07b7-474e-bb52-2e91057cad9a",
   "metadata": {},
   "outputs": [
    {
     "data": {
      "text/html": [
       "<div>\n",
       "<style scoped>\n",
       "    .dataframe tbody tr th:only-of-type {\n",
       "        vertical-align: middle;\n",
       "    }\n",
       "\n",
       "    .dataframe tbody tr th {\n",
       "        vertical-align: top;\n",
       "    }\n",
       "\n",
       "    .dataframe thead th {\n",
       "        text-align: right;\n",
       "    }\n",
       "</style>\n",
       "<table border=\"1\" class=\"dataframe\">\n",
       "  <thead>\n",
       "    <tr style=\"text-align: right;\">\n",
       "      <th></th>\n",
       "      <th>Unnamed: 0</th>\n",
       "      <th>Rating</th>\n",
       "      <th>Founded</th>\n",
       "    </tr>\n",
       "  </thead>\n",
       "  <tbody>\n",
       "    <tr>\n",
       "      <th>count</th>\n",
       "      <td>956.000000</td>\n",
       "      <td>956.000000</td>\n",
       "      <td>956.000000</td>\n",
       "    </tr>\n",
       "    <tr>\n",
       "      <th>mean</th>\n",
       "      <td>477.500000</td>\n",
       "      <td>3.601255</td>\n",
       "      <td>1774.605649</td>\n",
       "    </tr>\n",
       "    <tr>\n",
       "      <th>std</th>\n",
       "      <td>276.117729</td>\n",
       "      <td>1.067619</td>\n",
       "      <td>598.942517</td>\n",
       "    </tr>\n",
       "    <tr>\n",
       "      <th>min</th>\n",
       "      <td>0.000000</td>\n",
       "      <td>-1.000000</td>\n",
       "      <td>-1.000000</td>\n",
       "    </tr>\n",
       "    <tr>\n",
       "      <th>25%</th>\n",
       "      <td>238.750000</td>\n",
       "      <td>3.300000</td>\n",
       "      <td>1937.000000</td>\n",
       "    </tr>\n",
       "    <tr>\n",
       "      <th>50%</th>\n",
       "      <td>477.500000</td>\n",
       "      <td>3.800000</td>\n",
       "      <td>1992.000000</td>\n",
       "    </tr>\n",
       "    <tr>\n",
       "      <th>75%</th>\n",
       "      <td>716.250000</td>\n",
       "      <td>4.200000</td>\n",
       "      <td>2008.000000</td>\n",
       "    </tr>\n",
       "    <tr>\n",
       "      <th>max</th>\n",
       "      <td>955.000000</td>\n",
       "      <td>5.000000</td>\n",
       "      <td>2019.000000</td>\n",
       "    </tr>\n",
       "  </tbody>\n",
       "</table>\n",
       "</div>"
      ],
      "text/plain": [
       "       Unnamed: 0      Rating      Founded\n",
       "count  956.000000  956.000000   956.000000\n",
       "mean   477.500000    3.601255  1774.605649\n",
       "std    276.117729    1.067619   598.942517\n",
       "min      0.000000   -1.000000    -1.000000\n",
       "25%    238.750000    3.300000  1937.000000\n",
       "50%    477.500000    3.800000  1992.000000\n",
       "75%    716.250000    4.200000  2008.000000\n",
       "max    955.000000    5.000000  2019.000000"
      ]
     },
     "execution_count": 7,
     "metadata": {},
     "output_type": "execute_result"
    }
   ],
   "source": [
    "df.describe()"
   ]
  },
  {
   "cell_type": "markdown",
   "id": "d1b6f756-830d-4cc3-a99f-9f6d6380d850",
   "metadata": {},
   "source": [
    "# Data Cleaning"
   ]
  },
  {
   "cell_type": "code",
   "execution_count": 8,
   "id": "a8e5c3dd-8105-461e-b2c9-14d0bb784cd3",
   "metadata": {},
   "outputs": [
    {
     "data": {
      "text/plain": [
       "Unnamed: 0           False\n",
       "Job Title            False\n",
       "Salary Estimate      False\n",
       "Job Description      False\n",
       "Rating               False\n",
       "Company Name         False\n",
       "Location             False\n",
       "Headquarters         False\n",
       "Size                 False\n",
       "Founded              False\n",
       "Type of ownership    False\n",
       "Industry             False\n",
       "Sector               False\n",
       "Revenue              False\n",
       "Competitors          False\n",
       "dtype: bool"
      ]
     },
     "execution_count": 8,
     "metadata": {},
     "output_type": "execute_result"
    }
   ],
   "source": [
    "df.isnull().any()"
   ]
  },
  {
   "cell_type": "code",
   "execution_count": 9,
   "id": "1134ccf2-9612-418f-bc69-6d06e97ff5bb",
   "metadata": {},
   "outputs": [
    {
     "data": {
      "text/plain": [
       "Unnamed: 0           0\n",
       "Job Title            0\n",
       "Salary Estimate      0\n",
       "Job Description      0\n",
       "Rating               0\n",
       "Company Name         0\n",
       "Location             0\n",
       "Headquarters         0\n",
       "Size                 0\n",
       "Founded              0\n",
       "Type of ownership    0\n",
       "Industry             0\n",
       "Sector               0\n",
       "Revenue              0\n",
       "Competitors          0\n",
       "dtype: int64"
      ]
     },
     "execution_count": 9,
     "metadata": {},
     "output_type": "execute_result"
    }
   ],
   "source": [
    "df.isnull().sum()"
   ]
  },
  {
   "cell_type": "code",
   "execution_count": 10,
   "id": "82e70d81-7cf2-4747-931f-de98720f8614",
   "metadata": {},
   "outputs": [
    {
     "data": {
      "text/plain": [
       "Index(['Job Title', 'Salary Estimate', 'Job Description', 'Rating',\n",
       "       'Company Name', 'Location', 'Headquarters', 'Size', 'Founded',\n",
       "       'Type of ownership', 'Industry', 'Sector', 'Revenue', 'Competitors'],\n",
       "      dtype='object')"
      ]
     },
     "execution_count": 10,
     "metadata": {},
     "output_type": "execute_result"
    }
   ],
   "source": [
    "df.drop(labels = 'Unnamed: 0', axis = 'columns', inplace = True)\n",
    "df.columns"
   ]
  },
  {
   "cell_type": "code",
   "execution_count": 11,
   "id": "2d98cc3c-1600-4166-9f78-e13349c02852",
   "metadata": {},
   "outputs": [],
   "source": [
    "df = df[df['Salary Estimate'] != '-1']"
   ]
  },
  {
   "cell_type": "code",
   "execution_count": 12,
   "id": "c2e85406-becc-4c47-ae2e-bb330bb52b8e",
   "metadata": {},
   "outputs": [
    {
     "data": {
      "text/plain": [
       "(742, 14)"
      ]
     },
     "execution_count": 12,
     "metadata": {},
     "output_type": "execute_result"
    }
   ],
   "source": [
    "df.shape"
   ]
  },
  {
   "cell_type": "code",
   "execution_count": 13,
   "id": "ae1d4ac0-3a16-4a0c-8ae9-da2ea27c2821",
   "metadata": {},
   "outputs": [],
   "source": [
    "test = lambda x: x.split(\"(\")[0]"
   ]
  },
  {
   "cell_type": "code",
   "execution_count": 14,
   "id": "d66b9f23-c6d1-40ae-bff9-667edec557c9",
   "metadata": {},
   "outputs": [
    {
     "data": {
      "text/plain": [
       "'$53K-$91K '"
      ]
     },
     "execution_count": 14,
     "metadata": {},
     "output_type": "execute_result"
    }
   ],
   "source": [
    "test(\"$53K-$91K (Glassdoor est.)\")"
   ]
  },
  {
   "cell_type": "code",
   "execution_count": 15,
   "id": "679385c8-882c-483a-983e-542473080686",
   "metadata": {},
   "outputs": [],
   "source": [
    "salary = df['Salary Estimate'].apply(lambda x: x.split(\"(\")[0])"
   ]
  },
  {
   "cell_type": "code",
   "execution_count": 16,
   "id": "cff33ac6-53be-43cb-9fdb-48132975b807",
   "metadata": {},
   "outputs": [
    {
     "data": {
      "text/plain": [
       "0       $53K-$91K \n",
       "1      $63K-$112K \n",
       "2       $80K-$90K \n",
       "3       $56K-$97K \n",
       "4      $86K-$143K \n",
       "          ...     \n",
       "950    $58K-$111K \n",
       "951    $72K-$133K \n",
       "952     $56K-$91K \n",
       "953    $95K-$160K \n",
       "955    $61K-$126K \n",
       "Name: Salary Estimate, Length: 742, dtype: object"
      ]
     },
     "execution_count": 16,
     "metadata": {},
     "output_type": "execute_result"
    }
   ],
   "source": [
    "salary"
   ]
  },
  {
   "cell_type": "code",
   "execution_count": 17,
   "id": "cbf802da-0142-42b3-8bf1-761c1f395f5d",
   "metadata": {},
   "outputs": [],
   "source": [
    "salary = salary.apply(lambda x: x.replace(\"$\",\"\").replace(\"K\",\"\"))"
   ]
  },
  {
   "cell_type": "code",
   "execution_count": 18,
   "id": "ea795597-a315-46be-868e-d9571a8b8921",
   "metadata": {},
   "outputs": [
    {
     "data": {
      "text/plain": [
       "0       53-91 \n",
       "1      63-112 \n",
       "2       80-90 \n",
       "3       56-97 \n",
       "4      86-143 \n",
       "        ...   \n",
       "950    58-111 \n",
       "951    72-133 \n",
       "952     56-91 \n",
       "953    95-160 \n",
       "955    61-126 \n",
       "Name: Salary Estimate, Length: 742, dtype: object"
      ]
     },
     "execution_count": 18,
     "metadata": {},
     "output_type": "execute_result"
    }
   ],
   "source": [
    "salary"
   ]
  },
  {
   "cell_type": "code",
   "execution_count": 19,
   "id": "33fe9732-b87f-42f9-a198-28920515160d",
   "metadata": {},
   "outputs": [
    {
     "data": {
      "text/plain": [
       "array(['53-91 ', '63-112 ', '80-90 ', '56-97 ', '86-143 ', '71-119 ',\n",
       "       '54-93 ', '86-142 ', '38-84 ', '120-160 ', '126-201 ', '64-106 ',\n",
       "       '106-172 ', '46-85 ', '83-144 ', '102-190 ', '67-137 ', '118-189 ',\n",
       "       '110-175 ', '64-111 ', '81-130 ', '73-119 ', '86-139 ', '63-105 ',\n",
       "       '109-177 ', '63-110 ', '75-124 ', '34-61 ', '72-120 ', '93-149 ',\n",
       "       '85-140 ', '77-135 ', '82-132 ', '83-137 ', '115-180 ', '74-138 ',\n",
       "       '64-112 ', '68-129 ', '52-113 ', '110-150',\n",
       "       'Employer Provided Salary:150-160', '158-211 ', '20-39 ',\n",
       "       '56-117 ', '63-99 ', '68-114 ', '41-95 ', '86-144 ', '80-139 ',\n",
       "       '56-95 ', '120-189 ', '111-176 ', '84-146 ', '107-172 ', '49-85 ',\n",
       "       '61-109 ', '88-148 ', '60-99 ', '41-72 ', '96-161 ', '65-130 ',\n",
       "       '52-81 ', '139-220 ', '50-102 ', '85-139 ', '74-122 ', '99-157 ',\n",
       "       '79-222 ', '57-118 ', '86-141 ', '94-154 ', '37-76 ', '100-160 ',\n",
       "       '55-100 ', '60-114 ', '39-68 ', '64-107 ', '31-65 ', '34-62 ',\n",
       "       '117-231 ', '79-134 ', '52-93 ', '55-116 ', '72-123 ', '74-124 ',\n",
       "       '40-73 ', '102-164 ', '89-153 ', '61-110 ', '65-110 ', '200-275',\n",
       "       '68-123 ', '80-129 ', '39-71 ', '38-85 ', '121-193 ', '54-102 ',\n",
       "       '102-163 ', '76-140 ', '60-101 ', '82-133 ', '65-125 ', '91-148 ',\n",
       "       '95-173 ', '77-124 ', '80-135 ', '85-159 ', '80-105', '43-81 ',\n",
       "       '29-50 ', '26-55 ', '61-118 ', '60-102 ', '112-182 ', '51-112 ',\n",
       "       '113-223 ', '72-129 ', '71-123 ',\n",
       "       'Employer Provided Salary:120-145', '80-120 ', '80-130 ',\n",
       "       '59-115 ', '71-136 ', '81-167 ', '71-204 ', '75-125 ', '77-136 ',\n",
       "       '74-123 ', '44-78 ', '65-148 ', '59-110 ', '85-134 ', '124-204 ',\n",
       "       '131-207 ', '110-174 ', '52-101 ', '81-133 ', '132-211 ',\n",
       "       '74-140 ', '100-190 ', '43-80 ', '17-24 Per Hour', '91-149 ',\n",
       "       '42-82 ', '116-185 ', '59-116 ', '48-95 ', '31-72 ', '105-198 ',\n",
       "       '98-182 ', '73-124 ', 'Employer Provided Salary:200-250',\n",
       "       '21-34 Per Hour', '117-206 ', '111-183 ', '81-159 ', '83-166 ',\n",
       "       '114-182 ', '42-76 ', '114-179 ', '60-123 ', '100-166 ',\n",
       "       '108-173 ', '48-93 ', '54-115 ', '60-127 ', '90-179 ', '138-224 ',\n",
       "       '190-220', '35-62 ', '18-25 Per Hour', '39-66 ', '42-86 ',\n",
       "       '69-127 ', '40-68 ', '49-113 ', '75-140 ', '66-112 ', '76-125 ',\n",
       "       '44-86 ', '15-25 Per Hour', '53-92 ', '65-120 ', '60-103 ',\n",
       "       '53-105 ', '33-62 ', '48-90 ', '34-64 ', '66-111 ', '91-138 ',\n",
       "       '62-114 ', '71-129 ', '74-119 ', '55-97 ', '15-16', '61-106 ',\n",
       "       '127-199 ', '74-126 ', '33-72 ', '37-63 ', '67-119 ', '72-117 ',\n",
       "       '78-126 ', '116-194 ', '83-133 ', '45-82 ', '83-135 ', '70-122 ',\n",
       "       '70-132 ', '54-101 ', '68-112 ', '42-74 ', '95-161 ', '76-126 ',\n",
       "       '108-176 ', '130-208 ', '37-68 ', '52-99 ', '105-173 ', '71-134 ',\n",
       "       '39-82 ', '88-162 ', '55-99 ', '67-117 ', '92-150 ', '116-209 ',\n",
       "       '38-82 ', 'Employer Provided Salary:85-90', '62-119 ', '84-136 ',\n",
       "       '52-89 ', '65-119 ', '63-101 ', '127-202 ', '31-57 ', '75-143 ',\n",
       "       '105-194 ', '45-86 ', '95-154 ', '80-148 ', '36-62 ', '50-92 ',\n",
       "       '67-135 ', '42-80 ', '68-139 ', '34-92 ', '54-71 ', '65-124 ',\n",
       "       '109-200 ', '61-113 ', '43-86 ', '74-149 ', '113-196 ', '97-160 ',\n",
       "       '24-39 Per Hour', '102-172 ', '108-171 ', '76-142 ', '202-306 ',\n",
       "       '49-97 ', '65-134 ', '32-59 ', '87-158 ', '107-173 ', '56-99 ',\n",
       "       'Employer Provided Salary:25-28 Per Hour', '80-155 ', '43-98 ',\n",
       "       '45-78 ', '44-96 ', '50-110 ', '61-119 ',\n",
       "       'Employer Provided Salary:100-140', '56-91 ', '101-158 ',\n",
       "       '125-210 ', '43-77 ', '139-221 ', '78-147 ', '37-66 ', '38-64 ',\n",
       "       '43-82 ', '90-110', '93-151 ', '40-101 ', '97-180 ', '81-134 ',\n",
       "       '84-157 ', '121-203 ', '52-85 ', '81-140 ', '83-148 ', '31-55 ',\n",
       "       '102-178 ', 'Employer Provided Salary:110-130', '48-85 ',\n",
       "       '66-123 ', '92-146 ', '21-29 Per Hour', '10-17 Per Hour',\n",
       "       '150-239 ', '52-91 ', '82-129', '47-101 ', '49-76 ', '43-88 ',\n",
       "       '124-199 ', '97-181 ', '100-173 ', '53-96 ', '65-96 ', '75-127 ',\n",
       "       '94-139 ', '176-289 ', '92-149 ', '118-188 ', '108-146 ',\n",
       "       '65-106 ', '55-98 ', '94-162 ', '63-120 ', '126-228 ', '80-134 ',\n",
       "       '85-142 ', '87-140 ', '76-127 ', '54-92 ', '61-100 ', '112-179 ',\n",
       "       '63-111 ', '75-126 ', '110-184 ', '76-145 ', '70-118 ', '94-153 ',\n",
       "       '150-180 ', '42-77 ', '47-85 ', '62-112 ', '64-108 ', '89-144 ',\n",
       "       '55-105 ', '135-211 ', '57-80 ', '129-215 ', '63-127 ', '50-89 ',\n",
       "       '71-124 ', '69-121 ', '150-238 ', '77-132 ', '59-112 ', '35-65 ',\n",
       "       '79-147 ', '119-187 ', '90-157 ', '32-62 ', '116-208 ', '102-165 ',\n",
       "       '91-159 ', '80-133 ', '39-69 ', '27-48 ', '36-71 ', '130-206 ',\n",
       "       '99-178 ', '86-137 ', '37-100 ', '58-111 ', '72-133 ', '61-126 ',\n",
       "       '95-160 ', '33-61 ', '69-119 ', '67-127 ', '66-117 ', '50-98 ',\n",
       "       '90-153 ', 'Employer Provided Salary:100-135', '42-79 ', '84-153 ',\n",
       "       '44-73 ', '40-87 ', '72-142 ', '74-137 ', '57-109 ', '136-208 ',\n",
       "       '171-272 ', '65-126 ', '118-228 ', '113-182 ', '58-104 ',\n",
       "       '58-108 ', '81-161 ', '115-220 ', '71-144 ', '32-57 ', '79-136 ',\n",
       "       '48-113 ', '27-47 Per Hour', '68-125 ', '39-67 ', '71-135 ',\n",
       "       '61-123 ', '87-141 ', '71-121 ', '72-121 ', '51-88 ', '101-141 ',\n",
       "       '79-127 ', '81-132 ', 'Employer Provided Salary:120-140',\n",
       "       '65-113 ', '59-125 ', '80-142 ', '62-113 '], dtype=object)"
      ]
     },
     "execution_count": 19,
     "metadata": {},
     "output_type": "execute_result"
    }
   ],
   "source": [
    "salary.unique()"
   ]
  },
  {
   "cell_type": "code",
   "execution_count": 20,
   "id": "38834955-c210-49f1-8b6e-dfccd7fa50c4",
   "metadata": {},
   "outputs": [
    {
     "name": "stderr",
     "output_type": "stream",
     "text": [
      "C:\\Users\\hp\\AppData\\Local\\Temp\\ipykernel_7000\\2787094830.py:1: SettingWithCopyWarning: \n",
      "A value is trying to be set on a copy of a slice from a DataFrame.\n",
      "Try using .loc[row_indexer,col_indexer] = value instead\n",
      "\n",
      "See the caveats in the documentation: https://pandas.pydata.org/pandas-docs/stable/user_guide/indexing.html#returning-a-view-versus-a-copy\n",
      "  df['salary_per_hour'] = salary.apply(lambda x: 1 if \"per hour\" in x.lower() else 0)\n"
     ]
    }
   ],
   "source": [
    "df['salary_per_hour'] = salary.apply(lambda x: 1 if \"per hour\" in x.lower() else 0)"
   ]
  },
  {
   "cell_type": "code",
   "execution_count": 21,
   "id": "2d85b79f-5fb7-486a-a74f-9a244976e099",
   "metadata": {},
   "outputs": [
    {
     "data": {
      "text/plain": [
       "salary_per_hour\n",
       "0    718\n",
       "1     24\n",
       "Name: count, dtype: int64"
      ]
     },
     "execution_count": 21,
     "metadata": {},
     "output_type": "execute_result"
    }
   ],
   "source": [
    "df['salary_per_hour'].value_counts()"
   ]
  },
  {
   "cell_type": "code",
   "execution_count": 22,
   "id": "fba99186-4281-4c42-b7e4-dccc9ef02ff6",
   "metadata": {},
   "outputs": [
    {
     "name": "stderr",
     "output_type": "stream",
     "text": [
      "C:\\Users\\hp\\AppData\\Local\\Temp\\ipykernel_7000\\2227071390.py:1: SettingWithCopyWarning: \n",
      "A value is trying to be set on a copy of a slice from a DataFrame.\n",
      "Try using .loc[row_indexer,col_indexer] = value instead\n",
      "\n",
      "See the caveats in the documentation: https://pandas.pydata.org/pandas-docs/stable/user_guide/indexing.html#returning-a-view-versus-a-copy\n",
      "  df['emp_provided_salary'] = salary.apply(lambda x: 1 if \"employer provided salary\" in x.lower() else 0)\n"
     ]
    }
   ],
   "source": [
    "df['emp_provided_salary'] = salary.apply(lambda x: 1 if \"employer provided salary\" in x.lower() else 0)"
   ]
  },
  {
   "cell_type": "code",
   "execution_count": 23,
   "id": "4b96418a-a35d-484b-b5b8-803a6cd9ef8d",
   "metadata": {},
   "outputs": [
    {
     "data": {
      "text/plain": [
       "emp_provided_salary\n",
       "0    725\n",
       "1     17\n",
       "Name: count, dtype: int64"
      ]
     },
     "execution_count": 23,
     "metadata": {},
     "output_type": "execute_result"
    }
   ],
   "source": [
    "df['emp_provided_salary'].value_counts()"
   ]
  },
  {
   "cell_type": "code",
   "execution_count": 24,
   "id": "6e8bce5f-879a-4d91-ac41-b42f1d26b2af",
   "metadata": {},
   "outputs": [],
   "source": [
    "salary = salary.apply(lambda x: x.lower().replace(\"per hour\",\"\").replace(\"employer provided salary:\", \"\").replace(\" \", \"\"))"
   ]
  },
  {
   "cell_type": "code",
   "execution_count": 25,
   "id": "50caf71f-eb0a-443a-8b6b-f9f3b11b9fc8",
   "metadata": {},
   "outputs": [
    {
     "data": {
      "text/plain": [
       "array(['53-91', '63-112', '80-90', '56-97', '86-143', '71-119', '54-93',\n",
       "       '86-142', '38-84', '120-160', '126-201', '64-106', '106-172',\n",
       "       '46-85', '83-144', '102-190', '67-137', '118-189', '110-175',\n",
       "       '64-111', '81-130', '73-119', '86-139', '63-105', '109-177',\n",
       "       '63-110', '75-124', '34-61', '72-120', '93-149', '85-140',\n",
       "       '77-135', '82-132', '83-137', '115-180', '74-138', '64-112',\n",
       "       '68-129', '52-113', '110-150', '150-160', '158-211', '20-39',\n",
       "       '56-117', '63-99', '68-114', '41-95', '86-144', '80-139', '56-95',\n",
       "       '120-189', '111-176', '84-146', '107-172', '49-85', '61-109',\n",
       "       '88-148', '60-99', '41-72', '96-161', '65-130', '52-81', '139-220',\n",
       "       '50-102', '85-139', '74-122', '99-157', '79-222', '57-118',\n",
       "       '86-141', '94-154', '37-76', '100-160', '55-100', '60-114',\n",
       "       '39-68', '64-107', '31-65', '34-62', '117-231', '79-134', '52-93',\n",
       "       '55-116', '72-123', '74-124', '40-73', '102-164', '89-153',\n",
       "       '61-110', '65-110', '200-275', '68-123', '80-129', '39-71',\n",
       "       '38-85', '121-193', '54-102', '102-163', '76-140', '60-101',\n",
       "       '82-133', '65-125', '91-148', '95-173', '77-124', '80-135',\n",
       "       '85-159', '80-105', '43-81', '29-50', '26-55', '61-118', '60-102',\n",
       "       '112-182', '51-112', '113-223', '72-129', '71-123', '120-145',\n",
       "       '80-120', '80-130', '59-115', '71-136', '81-167', '71-204',\n",
       "       '75-125', '77-136', '74-123', '44-78', '65-148', '59-110',\n",
       "       '85-134', '124-204', '131-207', '110-174', '52-101', '81-133',\n",
       "       '132-211', '74-140', '100-190', '43-80', '17-24', '91-149',\n",
       "       '42-82', '116-185', '59-116', '48-95', '31-72', '105-198',\n",
       "       '98-182', '73-124', '200-250', '21-34', '117-206', '111-183',\n",
       "       '81-159', '83-166', '114-182', '42-76', '114-179', '60-123',\n",
       "       '100-166', '108-173', '48-93', '54-115', '60-127', '90-179',\n",
       "       '138-224', '190-220', '35-62', '18-25', '39-66', '42-86', '69-127',\n",
       "       '40-68', '49-113', '75-140', '66-112', '76-125', '44-86', '15-25',\n",
       "       '53-92', '65-120', '60-103', '53-105', '33-62', '48-90', '34-64',\n",
       "       '66-111', '91-138', '62-114', '71-129', '74-119', '55-97', '15-16',\n",
       "       '61-106', '127-199', '74-126', '33-72', '37-63', '67-119',\n",
       "       '72-117', '78-126', '116-194', '83-133', '45-82', '83-135',\n",
       "       '70-122', '70-132', '54-101', '68-112', '42-74', '95-161',\n",
       "       '76-126', '108-176', '130-208', '37-68', '52-99', '105-173',\n",
       "       '71-134', '39-82', '88-162', '55-99', '67-117', '92-150',\n",
       "       '116-209', '38-82', '85-90', '62-119', '84-136', '52-89', '65-119',\n",
       "       '63-101', '127-202', '31-57', '75-143', '105-194', '45-86',\n",
       "       '95-154', '80-148', '36-62', '50-92', '67-135', '42-80', '68-139',\n",
       "       '34-92', '54-71', '65-124', '109-200', '61-113', '43-86', '74-149',\n",
       "       '113-196', '97-160', '24-39', '102-172', '108-171', '76-142',\n",
       "       '202-306', '49-97', '65-134', '32-59', '87-158', '107-173',\n",
       "       '56-99', '25-28', '80-155', '43-98', '45-78', '44-96', '50-110',\n",
       "       '61-119', '100-140', '56-91', '101-158', '125-210', '43-77',\n",
       "       '139-221', '78-147', '37-66', '38-64', '43-82', '90-110', '93-151',\n",
       "       '40-101', '97-180', '81-134', '84-157', '121-203', '52-85',\n",
       "       '81-140', '83-148', '31-55', '102-178', '110-130', '48-85',\n",
       "       '66-123', '92-146', '21-29', '10-17', '150-239', '52-91', '82-129',\n",
       "       '47-101', '49-76', '43-88', '124-199', '97-181', '100-173',\n",
       "       '53-96', '65-96', '75-127', '94-139', '176-289', '92-149',\n",
       "       '118-188', '108-146', '65-106', '55-98', '94-162', '63-120',\n",
       "       '126-228', '80-134', '85-142', '87-140', '76-127', '54-92',\n",
       "       '61-100', '112-179', '63-111', '75-126', '110-184', '76-145',\n",
       "       '70-118', '94-153', '150-180', '42-77', '47-85', '62-112',\n",
       "       '64-108', '89-144', '55-105', '135-211', '57-80', '129-215',\n",
       "       '63-127', '50-89', '71-124', '69-121', '150-238', '77-132',\n",
       "       '59-112', '35-65', '79-147', '119-187', '90-157', '32-62',\n",
       "       '116-208', '102-165', '91-159', '80-133', '39-69', '27-48',\n",
       "       '36-71', '130-206', '99-178', '86-137', '37-100', '58-111',\n",
       "       '72-133', '61-126', '95-160', '33-61', '69-119', '67-127',\n",
       "       '66-117', '50-98', '90-153', '100-135', '42-79', '84-153', '44-73',\n",
       "       '40-87', '72-142', '74-137', '57-109', '136-208', '171-272',\n",
       "       '65-126', '118-228', '113-182', '58-104', '58-108', '81-161',\n",
       "       '115-220', '71-144', '32-57', '79-136', '48-113', '27-47',\n",
       "       '68-125', '39-67', '71-135', '61-123', '87-141', '71-121',\n",
       "       '72-121', '51-88', '101-141', '79-127', '81-132', '120-140',\n",
       "       '65-113', '59-125', '80-142', '62-113'], dtype=object)"
      ]
     },
     "execution_count": 25,
     "metadata": {},
     "output_type": "execute_result"
    }
   ],
   "source": [
    "salary.unique()"
   ]
  },
  {
   "cell_type": "code",
   "execution_count": 26,
   "id": "8d6f500f-edef-4ce1-a02f-68ab6feda035",
   "metadata": {},
   "outputs": [
    {
     "name": "stderr",
     "output_type": "stream",
     "text": [
      "C:\\Users\\hp\\AppData\\Local\\Temp\\ipykernel_7000\\3894635123.py:1: SettingWithCopyWarning: \n",
      "A value is trying to be set on a copy of a slice from a DataFrame.\n",
      "Try using .loc[row_indexer,col_indexer] = value instead\n",
      "\n",
      "See the caveats in the documentation: https://pandas.pydata.org/pandas-docs/stable/user_guide/indexing.html#returning-a-view-versus-a-copy\n",
      "  df['min_salary'] = salary.apply(lambda x: int(x.split(\"-\")[0]))\n"
     ]
    },
    {
     "data": {
      "text/plain": [
       "0      53\n",
       "1      63\n",
       "2      80\n",
       "3      56\n",
       "4      86\n",
       "       ..\n",
       "950    58\n",
       "951    72\n",
       "952    56\n",
       "953    95\n",
       "955    61\n",
       "Name: min_salary, Length: 742, dtype: int64"
      ]
     },
     "execution_count": 26,
     "metadata": {},
     "output_type": "execute_result"
    }
   ],
   "source": [
    "df['min_salary'] = salary.apply(lambda x: int(x.split(\"-\")[0]))\n",
    "df['min_salary']"
   ]
  },
  {
   "cell_type": "code",
   "execution_count": 27,
   "id": "9caa941c-b74a-45fb-85f4-3bf906babcf7",
   "metadata": {},
   "outputs": [
    {
     "name": "stderr",
     "output_type": "stream",
     "text": [
      "C:\\Users\\hp\\AppData\\Local\\Temp\\ipykernel_7000\\2238028822.py:1: SettingWithCopyWarning: \n",
      "A value is trying to be set on a copy of a slice from a DataFrame.\n",
      "Try using .loc[row_indexer,col_indexer] = value instead\n",
      "\n",
      "See the caveats in the documentation: https://pandas.pydata.org/pandas-docs/stable/user_guide/indexing.html#returning-a-view-versus-a-copy\n",
      "  df['max_salary'] = salary.apply(lambda x: int(x.split(\"-\")[1]))\n"
     ]
    },
    {
     "data": {
      "text/plain": [
       "0       91\n",
       "1      112\n",
       "2       90\n",
       "3       97\n",
       "4      143\n",
       "      ... \n",
       "950    111\n",
       "951    133\n",
       "952     91\n",
       "953    160\n",
       "955    126\n",
       "Name: max_salary, Length: 742, dtype: int64"
      ]
     },
     "execution_count": 27,
     "metadata": {},
     "output_type": "execute_result"
    }
   ],
   "source": [
    "df['max_salary'] = salary.apply(lambda x: int(x.split(\"-\")[1]))\n",
    "df['max_salary']"
   ]
  },
  {
   "cell_type": "code",
   "execution_count": 28,
   "id": "f01b7bcc-ddd0-4c0a-a137-bde8031472cd",
   "metadata": {},
   "outputs": [
    {
     "name": "stderr",
     "output_type": "stream",
     "text": [
      "C:\\Users\\hp\\AppData\\Local\\Temp\\ipykernel_7000\\2734051244.py:1: SettingWithCopyWarning: \n",
      "A value is trying to be set on a copy of a slice from a DataFrame.\n",
      "Try using .loc[row_indexer,col_indexer] = value instead\n",
      "\n",
      "See the caveats in the documentation: https://pandas.pydata.org/pandas-docs/stable/user_guide/indexing.html#returning-a-view-versus-a-copy\n",
      "  df[\"avg_salary\"] = (df[\"max_salary\"] + df[\"min_salary\"])/2\n"
     ]
    }
   ],
   "source": [
    "df[\"avg_salary\"] = (df[\"max_salary\"] + df[\"min_salary\"])/2"
   ]
  },
  {
   "cell_type": "code",
   "execution_count": 29,
   "id": "544fec4f-b5c4-4535-8ae6-65b56526a5c0",
   "metadata": {},
   "outputs": [
    {
     "name": "stderr",
     "output_type": "stream",
     "text": [
      "C:\\Users\\hp\\AppData\\Local\\Temp\\ipykernel_7000\\57064555.py:1: SettingWithCopyWarning: \n",
      "A value is trying to be set on a copy of a slice from a DataFrame.\n",
      "Try using .loc[row_indexer,col_indexer] = value instead\n",
      "\n",
      "See the caveats in the documentation: https://pandas.pydata.org/pandas-docs/stable/user_guide/indexing.html#returning-a-view-versus-a-copy\n",
      "  df['min_salary'] = df.apply(lambda x: x['min_salary']*2 if x['salary_per_hour'] == 1 else x['min_salary'], axis=1)\n"
     ]
    }
   ],
   "source": [
    "df['min_salary'] = df.apply(lambda x: x['min_salary']*2 if x['salary_per_hour'] == 1 else x['min_salary'], axis=1)"
   ]
  },
  {
   "cell_type": "code",
   "execution_count": 30,
   "id": "0c5bace8-a16e-4e9f-852f-3bdead73cda1",
   "metadata": {},
   "outputs": [
    {
     "name": "stderr",
     "output_type": "stream",
     "text": [
      "C:\\Users\\hp\\AppData\\Local\\Temp\\ipykernel_7000\\2500011715.py:1: SettingWithCopyWarning: \n",
      "A value is trying to be set on a copy of a slice from a DataFrame.\n",
      "Try using .loc[row_indexer,col_indexer] = value instead\n",
      "\n",
      "See the caveats in the documentation: https://pandas.pydata.org/pandas-docs/stable/user_guide/indexing.html#returning-a-view-versus-a-copy\n",
      "  df['max_salary'] = df.apply(lambda x: x['max_salary']*2 if x['salary_per_hour'] == 1 else x['max_salary'], axis=1)\n"
     ]
    }
   ],
   "source": [
    "df['max_salary'] = df.apply(lambda x: x['max_salary']*2 if x['salary_per_hour'] == 1 else x['max_salary'], axis=1)"
   ]
  },
  {
   "cell_type": "code",
   "execution_count": 31,
   "id": "2cdf7586-3742-4267-b55b-cea3da29a974",
   "metadata": {},
   "outputs": [
    {
     "data": {
      "text/html": [
       "<div>\n",
       "<style scoped>\n",
       "    .dataframe tbody tr th:only-of-type {\n",
       "        vertical-align: middle;\n",
       "    }\n",
       "\n",
       "    .dataframe tbody tr th {\n",
       "        vertical-align: top;\n",
       "    }\n",
       "\n",
       "    .dataframe thead th {\n",
       "        text-align: right;\n",
       "    }\n",
       "</style>\n",
       "<table border=\"1\" class=\"dataframe\">\n",
       "  <thead>\n",
       "    <tr style=\"text-align: right;\">\n",
       "      <th></th>\n",
       "      <th>salary_per_hour</th>\n",
       "      <th>min_salary</th>\n",
       "      <th>max_salary</th>\n",
       "    </tr>\n",
       "  </thead>\n",
       "  <tbody>\n",
       "    <tr>\n",
       "      <th>197</th>\n",
       "      <td>1</td>\n",
       "      <td>34</td>\n",
       "      <td>48</td>\n",
       "    </tr>\n",
       "    <tr>\n",
       "      <th>209</th>\n",
       "      <td>1</td>\n",
       "      <td>42</td>\n",
       "      <td>68</td>\n",
       "    </tr>\n",
       "    <tr>\n",
       "      <th>240</th>\n",
       "      <td>1</td>\n",
       "      <td>36</td>\n",
       "      <td>50</td>\n",
       "    </tr>\n",
       "    <tr>\n",
       "      <th>247</th>\n",
       "      <td>1</td>\n",
       "      <td>42</td>\n",
       "      <td>68</td>\n",
       "    </tr>\n",
       "    <tr>\n",
       "      <th>257</th>\n",
       "      <td>1</td>\n",
       "      <td>30</td>\n",
       "      <td>50</td>\n",
       "    </tr>\n",
       "    <tr>\n",
       "      <th>307</th>\n",
       "      <td>1</td>\n",
       "      <td>34</td>\n",
       "      <td>48</td>\n",
       "    </tr>\n",
       "    <tr>\n",
       "      <th>337</th>\n",
       "      <td>1</td>\n",
       "      <td>42</td>\n",
       "      <td>68</td>\n",
       "    </tr>\n",
       "    <tr>\n",
       "      <th>427</th>\n",
       "      <td>1</td>\n",
       "      <td>36</td>\n",
       "      <td>50</td>\n",
       "    </tr>\n",
       "    <tr>\n",
       "      <th>437</th>\n",
       "      <td>1</td>\n",
       "      <td>48</td>\n",
       "      <td>78</td>\n",
       "    </tr>\n",
       "    <tr>\n",
       "      <th>456</th>\n",
       "      <td>1</td>\n",
       "      <td>42</td>\n",
       "      <td>68</td>\n",
       "    </tr>\n",
       "    <tr>\n",
       "      <th>464</th>\n",
       "      <td>1</td>\n",
       "      <td>50</td>\n",
       "      <td>56</td>\n",
       "    </tr>\n",
       "    <tr>\n",
       "      <th>522</th>\n",
       "      <td>1</td>\n",
       "      <td>42</td>\n",
       "      <td>58</td>\n",
       "    </tr>\n",
       "    <tr>\n",
       "      <th>523</th>\n",
       "      <td>1</td>\n",
       "      <td>20</td>\n",
       "      <td>34</td>\n",
       "    </tr>\n",
       "    <tr>\n",
       "      <th>632</th>\n",
       "      <td>1</td>\n",
       "      <td>36</td>\n",
       "      <td>50</td>\n",
       "    </tr>\n",
       "    <tr>\n",
       "      <th>652</th>\n",
       "      <td>1</td>\n",
       "      <td>48</td>\n",
       "      <td>78</td>\n",
       "    </tr>\n",
       "    <tr>\n",
       "      <th>682</th>\n",
       "      <td>1</td>\n",
       "      <td>42</td>\n",
       "      <td>68</td>\n",
       "    </tr>\n",
       "    <tr>\n",
       "      <th>694</th>\n",
       "      <td>1</td>\n",
       "      <td>50</td>\n",
       "      <td>56</td>\n",
       "    </tr>\n",
       "    <tr>\n",
       "      <th>786</th>\n",
       "      <td>1</td>\n",
       "      <td>42</td>\n",
       "      <td>58</td>\n",
       "    </tr>\n",
       "    <tr>\n",
       "      <th>787</th>\n",
       "      <td>1</td>\n",
       "      <td>20</td>\n",
       "      <td>34</td>\n",
       "    </tr>\n",
       "    <tr>\n",
       "      <th>823</th>\n",
       "      <td>1</td>\n",
       "      <td>54</td>\n",
       "      <td>94</td>\n",
       "    </tr>\n",
       "    <tr>\n",
       "      <th>854</th>\n",
       "      <td>1</td>\n",
       "      <td>36</td>\n",
       "      <td>50</td>\n",
       "    </tr>\n",
       "    <tr>\n",
       "      <th>875</th>\n",
       "      <td>1</td>\n",
       "      <td>48</td>\n",
       "      <td>78</td>\n",
       "    </tr>\n",
       "    <tr>\n",
       "      <th>919</th>\n",
       "      <td>1</td>\n",
       "      <td>42</td>\n",
       "      <td>68</td>\n",
       "    </tr>\n",
       "    <tr>\n",
       "      <th>936</th>\n",
       "      <td>1</td>\n",
       "      <td>50</td>\n",
       "      <td>56</td>\n",
       "    </tr>\n",
       "  </tbody>\n",
       "</table>\n",
       "</div>"
      ],
      "text/plain": [
       "     salary_per_hour  min_salary  max_salary\n",
       "197                1          34          48\n",
       "209                1          42          68\n",
       "240                1          36          50\n",
       "247                1          42          68\n",
       "257                1          30          50\n",
       "307                1          34          48\n",
       "337                1          42          68\n",
       "427                1          36          50\n",
       "437                1          48          78\n",
       "456                1          42          68\n",
       "464                1          50          56\n",
       "522                1          42          58\n",
       "523                1          20          34\n",
       "632                1          36          50\n",
       "652                1          48          78\n",
       "682                1          42          68\n",
       "694                1          50          56\n",
       "786                1          42          58\n",
       "787                1          20          34\n",
       "823                1          54          94\n",
       "854                1          36          50\n",
       "875                1          48          78\n",
       "919                1          42          68\n",
       "936                1          50          56"
      ]
     },
     "execution_count": 31,
     "metadata": {},
     "output_type": "execute_result"
    }
   ],
   "source": [
    "df[df['salary_per_hour'] == 1][['salary_per_hour','min_salary','max_salary']]"
   ]
  },
  {
   "cell_type": "code",
   "execution_count": 32,
   "id": "16bb6913-01c9-422a-8786-811e25631af3",
   "metadata": {},
   "outputs": [
    {
     "name": "stderr",
     "output_type": "stream",
     "text": [
      "C:\\Users\\hp\\AppData\\Local\\Temp\\ipykernel_7000\\6606881.py:1: SettingWithCopyWarning: \n",
      "A value is trying to be set on a copy of a slice from a DataFrame.\n",
      "Try using .loc[row_indexer,col_indexer] = value instead\n",
      "\n",
      "See the caveats in the documentation: https://pandas.pydata.org/pandas-docs/stable/user_guide/indexing.html#returning-a-view-versus-a-copy\n",
      "  df['Company Name'] = df['Company Name'].apply(lambda x: x.split(\"\\n\")[0])\n"
     ]
    }
   ],
   "source": [
    "df['Company Name'] = df['Company Name'].apply(lambda x: x.split(\"\\n\")[0])"
   ]
  },
  {
   "cell_type": "code",
   "execution_count": 33,
   "id": "b6dc3a69-0849-49f3-b168-aee27f578e17",
   "metadata": {},
   "outputs": [
    {
     "data": {
      "text/plain": [
       "0                          Tecolote Research\n",
       "1      University of Maryland Medical System\n",
       "2                                    KnowBe4\n",
       "3                                       PNNL\n",
       "4                         Affinity Solutions\n",
       "                       ...                  \n",
       "950                                      GSK\n",
       "951                               Eventbrite\n",
       "952           Software Engineering Institute\n",
       "953                             Numeric, LLC\n",
       "955             Riverside Research Institute\n",
       "Name: Company Name, Length: 742, dtype: object"
      ]
     },
     "execution_count": 33,
     "metadata": {},
     "output_type": "execute_result"
    }
   ],
   "source": [
    "df['Company Name']"
   ]
  },
  {
   "cell_type": "code",
   "execution_count": 34,
   "id": "e7a81063-1fd5-4914-a8e5-bda47319279e",
   "metadata": {},
   "outputs": [
    {
     "data": {
      "text/html": [
       "<div>\n",
       "<style scoped>\n",
       "    .dataframe tbody tr th:only-of-type {\n",
       "        vertical-align: middle;\n",
       "    }\n",
       "\n",
       "    .dataframe tbody tr th {\n",
       "        vertical-align: top;\n",
       "    }\n",
       "\n",
       "    .dataframe thead th {\n",
       "        text-align: right;\n",
       "    }\n",
       "</style>\n",
       "<table border=\"1\" class=\"dataframe\">\n",
       "  <thead>\n",
       "    <tr style=\"text-align: right;\">\n",
       "      <th></th>\n",
       "      <th>Job Title</th>\n",
       "      <th>Salary Estimate</th>\n",
       "      <th>Job Description</th>\n",
       "      <th>Rating</th>\n",
       "      <th>Company Name</th>\n",
       "      <th>Location</th>\n",
       "      <th>Headquarters</th>\n",
       "      <th>Size</th>\n",
       "      <th>Founded</th>\n",
       "      <th>Type of ownership</th>\n",
       "      <th>Industry</th>\n",
       "      <th>Sector</th>\n",
       "      <th>Revenue</th>\n",
       "      <th>Competitors</th>\n",
       "      <th>salary_per_hour</th>\n",
       "      <th>emp_provided_salary</th>\n",
       "      <th>min_salary</th>\n",
       "      <th>max_salary</th>\n",
       "      <th>avg_salary</th>\n",
       "    </tr>\n",
       "  </thead>\n",
       "  <tbody>\n",
       "    <tr>\n",
       "      <th>0</th>\n",
       "      <td>Data Scientist</td>\n",
       "      <td>$53K-$91K (Glassdoor est.)</td>\n",
       "      <td>Data Scientist\\nLocation: Albuquerque, NM\\nEdu...</td>\n",
       "      <td>3.8</td>\n",
       "      <td>Tecolote Research</td>\n",
       "      <td>Albuquerque, NM</td>\n",
       "      <td>Goleta, CA</td>\n",
       "      <td>501 to 1000 employees</td>\n",
       "      <td>1973</td>\n",
       "      <td>Company - Private</td>\n",
       "      <td>Aerospace &amp; Defense</td>\n",
       "      <td>Aerospace &amp; Defense</td>\n",
       "      <td>$50 to $100 million (USD)</td>\n",
       "      <td>-1</td>\n",
       "      <td>0</td>\n",
       "      <td>0</td>\n",
       "      <td>53</td>\n",
       "      <td>91</td>\n",
       "      <td>72.0</td>\n",
       "    </tr>\n",
       "    <tr>\n",
       "      <th>1</th>\n",
       "      <td>Healthcare Data Scientist</td>\n",
       "      <td>$63K-$112K (Glassdoor est.)</td>\n",
       "      <td>What You Will Do:\\n\\nI. General Summary\\n\\nThe...</td>\n",
       "      <td>3.4</td>\n",
       "      <td>University of Maryland Medical System</td>\n",
       "      <td>Linthicum, MD</td>\n",
       "      <td>Baltimore, MD</td>\n",
       "      <td>10000+ employees</td>\n",
       "      <td>1984</td>\n",
       "      <td>Other Organization</td>\n",
       "      <td>Health Care Services &amp; Hospitals</td>\n",
       "      <td>Health Care</td>\n",
       "      <td>$2 to $5 billion (USD)</td>\n",
       "      <td>-1</td>\n",
       "      <td>0</td>\n",
       "      <td>0</td>\n",
       "      <td>63</td>\n",
       "      <td>112</td>\n",
       "      <td>87.5</td>\n",
       "    </tr>\n",
       "    <tr>\n",
       "      <th>2</th>\n",
       "      <td>Data Scientist</td>\n",
       "      <td>$80K-$90K (Glassdoor est.)</td>\n",
       "      <td>KnowBe4, Inc. is a high growth information sec...</td>\n",
       "      <td>4.8</td>\n",
       "      <td>KnowBe4</td>\n",
       "      <td>Clearwater, FL</td>\n",
       "      <td>Clearwater, FL</td>\n",
       "      <td>501 to 1000 employees</td>\n",
       "      <td>2010</td>\n",
       "      <td>Company - Private</td>\n",
       "      <td>Security Services</td>\n",
       "      <td>Business Services</td>\n",
       "      <td>$100 to $500 million (USD)</td>\n",
       "      <td>-1</td>\n",
       "      <td>0</td>\n",
       "      <td>0</td>\n",
       "      <td>80</td>\n",
       "      <td>90</td>\n",
       "      <td>85.0</td>\n",
       "    </tr>\n",
       "    <tr>\n",
       "      <th>3</th>\n",
       "      <td>Data Scientist</td>\n",
       "      <td>$56K-$97K (Glassdoor est.)</td>\n",
       "      <td>*Organization and Job ID**\\nJob ID: 310709\\n\\n...</td>\n",
       "      <td>3.8</td>\n",
       "      <td>PNNL</td>\n",
       "      <td>Richland, WA</td>\n",
       "      <td>Richland, WA</td>\n",
       "      <td>1001 to 5000 employees</td>\n",
       "      <td>1965</td>\n",
       "      <td>Government</td>\n",
       "      <td>Energy</td>\n",
       "      <td>Oil, Gas, Energy &amp; Utilities</td>\n",
       "      <td>$500 million to $1 billion (USD)</td>\n",
       "      <td>Oak Ridge National Laboratory, National Renewa...</td>\n",
       "      <td>0</td>\n",
       "      <td>0</td>\n",
       "      <td>56</td>\n",
       "      <td>97</td>\n",
       "      <td>76.5</td>\n",
       "    </tr>\n",
       "    <tr>\n",
       "      <th>4</th>\n",
       "      <td>Data Scientist</td>\n",
       "      <td>$86K-$143K (Glassdoor est.)</td>\n",
       "      <td>Data Scientist\\nAffinity Solutions / Marketing...</td>\n",
       "      <td>2.9</td>\n",
       "      <td>Affinity Solutions</td>\n",
       "      <td>New York, NY</td>\n",
       "      <td>New York, NY</td>\n",
       "      <td>51 to 200 employees</td>\n",
       "      <td>1998</td>\n",
       "      <td>Company - Private</td>\n",
       "      <td>Advertising &amp; Marketing</td>\n",
       "      <td>Business Services</td>\n",
       "      <td>Unknown / Non-Applicable</td>\n",
       "      <td>Commerce Signals, Cardlytics, Yodlee</td>\n",
       "      <td>0</td>\n",
       "      <td>0</td>\n",
       "      <td>86</td>\n",
       "      <td>143</td>\n",
       "      <td>114.5</td>\n",
       "    </tr>\n",
       "  </tbody>\n",
       "</table>\n",
       "</div>"
      ],
      "text/plain": [
       "                   Job Title              Salary Estimate  \\\n",
       "0             Data Scientist   $53K-$91K (Glassdoor est.)   \n",
       "1  Healthcare Data Scientist  $63K-$112K (Glassdoor est.)   \n",
       "2             Data Scientist   $80K-$90K (Glassdoor est.)   \n",
       "3             Data Scientist   $56K-$97K (Glassdoor est.)   \n",
       "4             Data Scientist  $86K-$143K (Glassdoor est.)   \n",
       "\n",
       "                                     Job Description  Rating  \\\n",
       "0  Data Scientist\\nLocation: Albuquerque, NM\\nEdu...     3.8   \n",
       "1  What You Will Do:\\n\\nI. General Summary\\n\\nThe...     3.4   \n",
       "2  KnowBe4, Inc. is a high growth information sec...     4.8   \n",
       "3  *Organization and Job ID**\\nJob ID: 310709\\n\\n...     3.8   \n",
       "4  Data Scientist\\nAffinity Solutions / Marketing...     2.9   \n",
       "\n",
       "                            Company Name         Location    Headquarters  \\\n",
       "0                      Tecolote Research  Albuquerque, NM      Goleta, CA   \n",
       "1  University of Maryland Medical System    Linthicum, MD   Baltimore, MD   \n",
       "2                                KnowBe4   Clearwater, FL  Clearwater, FL   \n",
       "3                                   PNNL     Richland, WA    Richland, WA   \n",
       "4                     Affinity Solutions     New York, NY    New York, NY   \n",
       "\n",
       "                     Size  Founded   Type of ownership  \\\n",
       "0   501 to 1000 employees     1973   Company - Private   \n",
       "1        10000+ employees     1984  Other Organization   \n",
       "2   501 to 1000 employees     2010   Company - Private   \n",
       "3  1001 to 5000 employees     1965          Government   \n",
       "4     51 to 200 employees     1998   Company - Private   \n",
       "\n",
       "                           Industry                        Sector  \\\n",
       "0               Aerospace & Defense           Aerospace & Defense   \n",
       "1  Health Care Services & Hospitals                   Health Care   \n",
       "2                 Security Services             Business Services   \n",
       "3                            Energy  Oil, Gas, Energy & Utilities   \n",
       "4           Advertising & Marketing             Business Services   \n",
       "\n",
       "                            Revenue  \\\n",
       "0         $50 to $100 million (USD)   \n",
       "1            $2 to $5 billion (USD)   \n",
       "2        $100 to $500 million (USD)   \n",
       "3  $500 million to $1 billion (USD)   \n",
       "4          Unknown / Non-Applicable   \n",
       "\n",
       "                                         Competitors  salary_per_hour  \\\n",
       "0                                                 -1                0   \n",
       "1                                                 -1                0   \n",
       "2                                                 -1                0   \n",
       "3  Oak Ridge National Laboratory, National Renewa...                0   \n",
       "4               Commerce Signals, Cardlytics, Yodlee                0   \n",
       "\n",
       "   emp_provided_salary  min_salary  max_salary  avg_salary  \n",
       "0                    0          53          91        72.0  \n",
       "1                    0          63         112        87.5  \n",
       "2                    0          80          90        85.0  \n",
       "3                    0          56          97        76.5  \n",
       "4                    0          86         143       114.5  "
      ]
     },
     "execution_count": 34,
     "metadata": {},
     "output_type": "execute_result"
    }
   ],
   "source": [
    "df.head()"
   ]
  },
  {
   "cell_type": "code",
   "execution_count": 35,
   "id": "e2b09f1c-e58e-4aa6-af2a-8a6620fdd740",
   "metadata": {},
   "outputs": [
    {
     "data": {
      "text/plain": [
       "0      Albuquerque, NM\n",
       "1        Linthicum, MD\n",
       "2       Clearwater, FL\n",
       "3         Richland, WA\n",
       "4         New York, NY\n",
       "            ...       \n",
       "950      Cambridge, MA\n",
       "951      Nashville, TN\n",
       "952     Pittsburgh, PA\n",
       "953      Allentown, PA\n",
       "955    Beavercreek, OH\n",
       "Name: Location, Length: 742, dtype: object"
      ]
     },
     "execution_count": 35,
     "metadata": {},
     "output_type": "execute_result"
    }
   ],
   "source": [
    "df['Location']"
   ]
  },
  {
   "cell_type": "code",
   "execution_count": 36,
   "id": "0f5c261a-89d5-4b2a-835c-07a32860c2e2",
   "metadata": {},
   "outputs": [
    {
     "name": "stderr",
     "output_type": "stream",
     "text": [
      "C:\\Users\\hp\\AppData\\Local\\Temp\\ipykernel_7000\\685029915.py:2: SettingWithCopyWarning: \n",
      "A value is trying to be set on a copy of a slice from a DataFrame.\n",
      "Try using .loc[row_indexer,col_indexer] = value instead\n",
      "\n",
      "See the caveats in the documentation: https://pandas.pydata.org/pandas-docs/stable/user_guide/indexing.html#returning-a-view-versus-a-copy\n",
      "  df['job_state'] = df['Location'].apply(lambda x: x.split(\",\")[1])\n"
     ]
    }
   ],
   "source": [
    "# df[\"job_state\"] = df[\"Location\"].apply(lambda x: x.split(',')[1])\n",
    "df['job_state'] = df['Location'].apply(lambda x: x.split(\",\")[1])\n"
   ]
  },
  {
   "cell_type": "code",
   "execution_count": 37,
   "id": "022c791d-a068-4ce4-898b-9ce820904c38",
   "metadata": {},
   "outputs": [
    {
     "data": {
      "text/plain": [
       "0       NM\n",
       "1       MD\n",
       "2       FL\n",
       "3       WA\n",
       "4       NY\n",
       "      ... \n",
       "950     MA\n",
       "951     TN\n",
       "952     PA\n",
       "953     PA\n",
       "955     OH\n",
       "Name: job_state, Length: 742, dtype: object"
      ]
     },
     "execution_count": 37,
     "metadata": {},
     "output_type": "execute_result"
    }
   ],
   "source": [
    "df['job_state']"
   ]
  },
  {
   "cell_type": "code",
   "execution_count": 38,
   "id": "f5abc37b-95c1-4579-884e-3960f302d508",
   "metadata": {},
   "outputs": [
    {
     "data": {
      "text/plain": [
       "array([' NM', ' MD', ' FL', ' WA', ' NY', ' TX', ' CA', ' VA', ' MA',\n",
       "       ' NJ', ' CO', ' IL', ' KY', ' OR', ' CT', ' MI', ' DC', ' OH',\n",
       "       ' AL', ' MO', ' PA', ' GA', ' IN', ' LA', ' WI', ' NC', ' AZ',\n",
       "       ' NE', ' MN', ' Los Angeles', ' UT', ' TN', ' DE', ' ID', ' RI',\n",
       "       ' IA', ' SC', ' KS'], dtype=object)"
      ]
     },
     "execution_count": 38,
     "metadata": {},
     "output_type": "execute_result"
    }
   ],
   "source": [
    "df['job_state'].unique()"
   ]
  },
  {
   "cell_type": "code",
   "execution_count": 39,
   "id": "f59005fb-f454-4a52-bbab-b97b68863d01",
   "metadata": {},
   "outputs": [
    {
     "name": "stderr",
     "output_type": "stream",
     "text": [
      "C:\\Users\\hp\\AppData\\Local\\Temp\\ipykernel_7000\\4211558610.py:1: SettingWithCopyWarning: \n",
      "A value is trying to be set on a copy of a slice from a DataFrame.\n",
      "Try using .loc[row_indexer,col_indexer] = value instead\n",
      "\n",
      "See the caveats in the documentation: https://pandas.pydata.org/pandas-docs/stable/user_guide/indexing.html#returning-a-view-versus-a-copy\n",
      "  df['job_state'] = df['job_state'].apply(lambda x: x.strip() if x.strip().lower() != 'los angeles' else 'LA')\n"
     ]
    }
   ],
   "source": [
    "df['job_state'] = df['job_state'].apply(lambda x: x.strip() if x.strip().lower() != 'los angeles' else 'LA')\n"
   ]
  },
  {
   "cell_type": "code",
   "execution_count": 40,
   "id": "299d6cf3-2f81-42ea-94e8-a7827ebeb2e6",
   "metadata": {},
   "outputs": [
    {
     "data": {
      "text/plain": [
       "job_state\n",
       "CA    151\n",
       "MA    103\n",
       "NY     72\n",
       "VA     41\n",
       "IL     40\n",
       "MD     35\n",
       "PA     33\n",
       "TX     28\n",
       "NC     21\n",
       "WA     21\n",
       "NJ     17\n",
       "FL     16\n",
       "OH     14\n",
       "TN     13\n",
       "DC     11\n",
       "CO     11\n",
       "WI     10\n",
       "UT     10\n",
       "IN     10\n",
       "AZ      9\n",
       "MO      9\n",
       "AL      8\n",
       "GA      6\n",
       "DE      6\n",
       "KY      6\n",
       "MI      6\n",
       "LA      5\n",
       "CT      5\n",
       "IA      5\n",
       "OR      4\n",
       "NE      4\n",
       "NM      3\n",
       "KS      3\n",
       "ID      2\n",
       "MN      2\n",
       "RI      1\n",
       "SC      1\n",
       "Name: count, dtype: int64"
      ]
     },
     "execution_count": 40,
     "metadata": {},
     "output_type": "execute_result"
    }
   ],
   "source": [
    "df['job_state'].value_counts()"
   ]
  },
  {
   "cell_type": "code",
   "execution_count": 41,
   "id": "a98e5c0b-e9f3-4d90-9d37-11374234da1b",
   "metadata": {},
   "outputs": [
    {
     "name": "stderr",
     "output_type": "stream",
     "text": [
      "C:\\Users\\hp\\AppData\\Local\\Temp\\ipykernel_7000\\3600017979.py:1: SettingWithCopyWarning: \n",
      "A value is trying to be set on a copy of a slice from a DataFrame.\n",
      "Try using .loc[row_indexer,col_indexer] = value instead\n",
      "\n",
      "See the caveats in the documentation: https://pandas.pydata.org/pandas-docs/stable/user_guide/indexing.html#returning-a-view-versus-a-copy\n",
      "  df['company_age'] = df['Founded'].apply(lambda x: x if x<1 else 2023-x)\n"
     ]
    },
    {
     "data": {
      "text/plain": [
       "0       50\n",
       "1       39\n",
       "2       13\n",
       "3       58\n",
       "4       25\n",
       "      ... \n",
       "950    193\n",
       "951     17\n",
       "952     39\n",
       "953     -1\n",
       "955     56\n",
       "Name: company_age, Length: 742, dtype: int64"
      ]
     },
     "execution_count": 41,
     "metadata": {},
     "output_type": "execute_result"
    }
   ],
   "source": [
    "df['company_age'] = df['Founded'].apply(lambda x: x if x<1 else 2023-x)\n",
    "df['company_age']"
   ]
  },
  {
   "cell_type": "code",
   "execution_count": 42,
   "id": "ff9c6bdd-212a-4422-9060-2714715e52c7",
   "metadata": {},
   "outputs": [
    {
     "data": {
      "text/html": [
       "<div>\n",
       "<style scoped>\n",
       "    .dataframe tbody tr th:only-of-type {\n",
       "        vertical-align: middle;\n",
       "    }\n",
       "\n",
       "    .dataframe tbody tr th {\n",
       "        vertical-align: top;\n",
       "    }\n",
       "\n",
       "    .dataframe thead th {\n",
       "        text-align: right;\n",
       "    }\n",
       "</style>\n",
       "<table border=\"1\" class=\"dataframe\">\n",
       "  <thead>\n",
       "    <tr style=\"text-align: right;\">\n",
       "      <th></th>\n",
       "      <th>Job Title</th>\n",
       "      <th>Salary Estimate</th>\n",
       "      <th>Job Description</th>\n",
       "      <th>Rating</th>\n",
       "      <th>Company Name</th>\n",
       "      <th>Location</th>\n",
       "      <th>Headquarters</th>\n",
       "      <th>Size</th>\n",
       "      <th>Founded</th>\n",
       "      <th>Type of ownership</th>\n",
       "      <th>...</th>\n",
       "      <th>Sector</th>\n",
       "      <th>Revenue</th>\n",
       "      <th>Competitors</th>\n",
       "      <th>salary_per_hour</th>\n",
       "      <th>emp_provided_salary</th>\n",
       "      <th>min_salary</th>\n",
       "      <th>max_salary</th>\n",
       "      <th>avg_salary</th>\n",
       "      <th>job_state</th>\n",
       "      <th>company_age</th>\n",
       "    </tr>\n",
       "  </thead>\n",
       "  <tbody>\n",
       "    <tr>\n",
       "      <th>950</th>\n",
       "      <td>Sr Scientist, Immuno-Oncology - Oncology</td>\n",
       "      <td>$58K-$111K (Glassdoor est.)</td>\n",
       "      <td>Site Name: USA - Massachusetts - Cambridge\\nPo...</td>\n",
       "      <td>3.9</td>\n",
       "      <td>GSK</td>\n",
       "      <td>Cambridge, MA</td>\n",
       "      <td>Brentford, United Kingdom</td>\n",
       "      <td>10000+ employees</td>\n",
       "      <td>1830</td>\n",
       "      <td>Company - Public</td>\n",
       "      <td>...</td>\n",
       "      <td>Biotech &amp; Pharmaceuticals</td>\n",
       "      <td>$10+ billion (USD)</td>\n",
       "      <td>Pfizer, AstraZeneca, Merck</td>\n",
       "      <td>0</td>\n",
       "      <td>0</td>\n",
       "      <td>58</td>\n",
       "      <td>111</td>\n",
       "      <td>84.5</td>\n",
       "      <td>MA</td>\n",
       "      <td>193</td>\n",
       "    </tr>\n",
       "    <tr>\n",
       "      <th>951</th>\n",
       "      <td>Senior Data Engineer</td>\n",
       "      <td>$72K-$133K (Glassdoor est.)</td>\n",
       "      <td>THE CHALLENGE\\nEventbrite has a world-class da...</td>\n",
       "      <td>4.4</td>\n",
       "      <td>Eventbrite</td>\n",
       "      <td>Nashville, TN</td>\n",
       "      <td>San Francisco, CA</td>\n",
       "      <td>1001 to 5000 employees</td>\n",
       "      <td>2006</td>\n",
       "      <td>Company - Public</td>\n",
       "      <td>...</td>\n",
       "      <td>Information Technology</td>\n",
       "      <td>$100 to $500 million (USD)</td>\n",
       "      <td>See Tickets, TicketWeb, Vendini</td>\n",
       "      <td>0</td>\n",
       "      <td>0</td>\n",
       "      <td>72</td>\n",
       "      <td>133</td>\n",
       "      <td>102.5</td>\n",
       "      <td>TN</td>\n",
       "      <td>17</td>\n",
       "    </tr>\n",
       "    <tr>\n",
       "      <th>952</th>\n",
       "      <td>Project Scientist - Auton Lab, Robotics Institute</td>\n",
       "      <td>$56K-$91K (Glassdoor est.)</td>\n",
       "      <td>The Auton Lab at Carnegie Mellon University is...</td>\n",
       "      <td>2.6</td>\n",
       "      <td>Software Engineering Institute</td>\n",
       "      <td>Pittsburgh, PA</td>\n",
       "      <td>Pittsburgh, PA</td>\n",
       "      <td>501 to 1000 employees</td>\n",
       "      <td>1984</td>\n",
       "      <td>College / University</td>\n",
       "      <td>...</td>\n",
       "      <td>Education</td>\n",
       "      <td>Unknown / Non-Applicable</td>\n",
       "      <td>-1</td>\n",
       "      <td>0</td>\n",
       "      <td>0</td>\n",
       "      <td>56</td>\n",
       "      <td>91</td>\n",
       "      <td>73.5</td>\n",
       "      <td>PA</td>\n",
       "      <td>39</td>\n",
       "    </tr>\n",
       "    <tr>\n",
       "      <th>953</th>\n",
       "      <td>Data Science Manager</td>\n",
       "      <td>$95K-$160K (Glassdoor est.)</td>\n",
       "      <td>Data Science ManagerResponsibilities:\\n\\nOvers...</td>\n",
       "      <td>3.2</td>\n",
       "      <td>Numeric, LLC</td>\n",
       "      <td>Allentown, PA</td>\n",
       "      <td>Chadds Ford, PA</td>\n",
       "      <td>1 to 50 employees</td>\n",
       "      <td>-1</td>\n",
       "      <td>Company - Private</td>\n",
       "      <td>...</td>\n",
       "      <td>Business Services</td>\n",
       "      <td>$5 to $10 million (USD)</td>\n",
       "      <td>-1</td>\n",
       "      <td>0</td>\n",
       "      <td>0</td>\n",
       "      <td>95</td>\n",
       "      <td>160</td>\n",
       "      <td>127.5</td>\n",
       "      <td>PA</td>\n",
       "      <td>-1</td>\n",
       "    </tr>\n",
       "    <tr>\n",
       "      <th>955</th>\n",
       "      <td>Research Scientist – Security and Privacy</td>\n",
       "      <td>$61K-$126K (Glassdoor est.)</td>\n",
       "      <td>Returning Candidate? Log back in to the Career...</td>\n",
       "      <td>3.6</td>\n",
       "      <td>Riverside Research Institute</td>\n",
       "      <td>Beavercreek, OH</td>\n",
       "      <td>Arlington, VA</td>\n",
       "      <td>501 to 1000 employees</td>\n",
       "      <td>1967</td>\n",
       "      <td>Nonprofit Organization</td>\n",
       "      <td>...</td>\n",
       "      <td>Government</td>\n",
       "      <td>$50 to $100 million (USD)</td>\n",
       "      <td>-1</td>\n",
       "      <td>0</td>\n",
       "      <td>0</td>\n",
       "      <td>61</td>\n",
       "      <td>126</td>\n",
       "      <td>93.5</td>\n",
       "      <td>OH</td>\n",
       "      <td>56</td>\n",
       "    </tr>\n",
       "  </tbody>\n",
       "</table>\n",
       "<p>5 rows × 21 columns</p>\n",
       "</div>"
      ],
      "text/plain": [
       "                                             Job Title  \\\n",
       "950           Sr Scientist, Immuno-Oncology - Oncology   \n",
       "951                               Senior Data Engineer   \n",
       "952  Project Scientist - Auton Lab, Robotics Institute   \n",
       "953                               Data Science Manager   \n",
       "955          Research Scientist – Security and Privacy   \n",
       "\n",
       "                 Salary Estimate  \\\n",
       "950  $58K-$111K (Glassdoor est.)   \n",
       "951  $72K-$133K (Glassdoor est.)   \n",
       "952   $56K-$91K (Glassdoor est.)   \n",
       "953  $95K-$160K (Glassdoor est.)   \n",
       "955  $61K-$126K (Glassdoor est.)   \n",
       "\n",
       "                                       Job Description  Rating  \\\n",
       "950  Site Name: USA - Massachusetts - Cambridge\\nPo...     3.9   \n",
       "951  THE CHALLENGE\\nEventbrite has a world-class da...     4.4   \n",
       "952  The Auton Lab at Carnegie Mellon University is...     2.6   \n",
       "953  Data Science ManagerResponsibilities:\\n\\nOvers...     3.2   \n",
       "955  Returning Candidate? Log back in to the Career...     3.6   \n",
       "\n",
       "                       Company Name         Location  \\\n",
       "950                             GSK    Cambridge, MA   \n",
       "951                      Eventbrite    Nashville, TN   \n",
       "952  Software Engineering Institute   Pittsburgh, PA   \n",
       "953                    Numeric, LLC    Allentown, PA   \n",
       "955    Riverside Research Institute  Beavercreek, OH   \n",
       "\n",
       "                  Headquarters                    Size  Founded  \\\n",
       "950  Brentford, United Kingdom        10000+ employees     1830   \n",
       "951          San Francisco, CA  1001 to 5000 employees     2006   \n",
       "952             Pittsburgh, PA   501 to 1000 employees     1984   \n",
       "953            Chadds Ford, PA       1 to 50 employees       -1   \n",
       "955              Arlington, VA   501 to 1000 employees     1967   \n",
       "\n",
       "          Type of ownership  ...                     Sector  \\\n",
       "950        Company - Public  ...  Biotech & Pharmaceuticals   \n",
       "951        Company - Public  ...     Information Technology   \n",
       "952    College / University  ...                  Education   \n",
       "953       Company - Private  ...          Business Services   \n",
       "955  Nonprofit Organization  ...                 Government   \n",
       "\n",
       "                        Revenue                      Competitors  \\\n",
       "950          $10+ billion (USD)       Pfizer, AstraZeneca, Merck   \n",
       "951  $100 to $500 million (USD)  See Tickets, TicketWeb, Vendini   \n",
       "952    Unknown / Non-Applicable                               -1   \n",
       "953     $5 to $10 million (USD)                               -1   \n",
       "955   $50 to $100 million (USD)                               -1   \n",
       "\n",
       "    salary_per_hour  emp_provided_salary  min_salary  max_salary  avg_salary  \\\n",
       "950               0                    0          58         111        84.5   \n",
       "951               0                    0          72         133       102.5   \n",
       "952               0                    0          56          91        73.5   \n",
       "953               0                    0          95         160       127.5   \n",
       "955               0                    0          61         126        93.5   \n",
       "\n",
       "     job_state company_age  \n",
       "950         MA         193  \n",
       "951         TN          17  \n",
       "952         PA          39  \n",
       "953         PA          -1  \n",
       "955         OH          56  \n",
       "\n",
       "[5 rows x 21 columns]"
      ]
     },
     "execution_count": 42,
     "metadata": {},
     "output_type": "execute_result"
    }
   ],
   "source": [
    "df.tail()"
   ]
  },
  {
   "cell_type": "code",
   "execution_count": 43,
   "id": "f9ed2ad0-842d-45b2-b9ef-26a11486eabe",
   "metadata": {},
   "outputs": [
    {
     "data": {
      "text/plain": [
       "'Data Scientist\\nLocation: Albuquerque, NM\\nEducation Required: Bachelor’s degree required, preferably in math, engineering, business, or the sciences.\\nSkills Required:\\nBachelor’s Degree in relevant field, e.g., math, data analysis, database, computer science, Artificial Intelligence (AI); three years’ experience credit for Master’s degree; five years’ experience credit for a Ph.D\\nApplicant should be proficient in the use of Power BI, Tableau, Python, MATLAB, Microsoft Word, PowerPoint, Excel, and working knowledge of MS Access, LMS, SAS, data visualization tools, and have a strong algorithmic aptitude\\nExcellent verbal and written communication skills, and quantitative analytical skills are required\\nApplicant must be able to work in a team environment\\nU.S. citizenship and ability to obtain a DoD Secret Clearance required\\nResponsibilities: The applicant will be responsible for formulating analytical solutions to complex data problems; creating data analytic models to improve data metrics; analyzing customer behavior and trends; delivering insights to stakeholders, as well as designing and crafting reports, dashboards, models, and algorithms to make data insights actionable; selecting features, building and optimizing classifiers using machine learning techniques; data mining using state-of-the-art methods, extending organization’s data with third party sources of information when needed; enhancing data collection procedures to include information that is relevant for building analytic systems; processing, cleansing, and verifying the integrity of data used for analysis; doing ad-hoc analysis and presenting results in a clear manner; and creating automated anomaly detection systems and constant tracking of its performance.\\nBenefits:\\nWe offer competitive salaries commensurate with education and experience. We have an excellent benefits package that includes:\\nComprehensive health, dental, life, long and short term disability insurance\\n100% Company funded Retirement Plans\\nGenerous vacation, holiday and sick pay plans\\nTuition assistance\\n\\nBenefits are provided to employees regularly working a minimum of 30 hours per week.\\n\\nTecolote Research is a private, employee-owned corporation where people are our primary resource. Our investments in technology and training give our employees the tools to ensure our clients are provided the solutions they need, and our very high employee retention rate and stable workforce is an added value to our customers. Apply now to connect with a company that invests in you.'"
      ]
     },
     "execution_count": 43,
     "metadata": {},
     "output_type": "execute_result"
    }
   ],
   "source": [
    "df['Job Description'][0]"
   ]
  },
  {
   "cell_type": "code",
   "execution_count": 44,
   "id": "84249182-4fc8-4b04-baae-c1499c763ccc",
   "metadata": {},
   "outputs": [
    {
     "data": {
      "text/plain": [
       "'What You Will Do:\\n\\nI. General Summary\\n\\nThe Healthcare Data Scientist position will join our Advanced Analytics group at the University of Maryland Medical System (UMMS) in support of its strategic priority to become a data-driven and outcomes-oriented organization. The successful candidate will have 3+ years of experience with Machine Learning, Predictive Modeling, Statistical Analysis, Mathematical Optimization, Algorithm Development and a passion for working with healthcare data. Previous experience with various computational approaches along with an ability to demonstrate a portfolio of relevant prior projects is essential. This position will report to the UMMS Vice President for Enterprise Data and Analytics (ED&A).\\n\\nII. Principal Responsibilities and Tasks\\n\\n• Develops predictive and prescriptive analytic models in support of the organization’s clinical, operations and business initiatives and priorities.\\n• Deploys solutions so that they provide actionable insights to the organization and are embedded or integrated with application systems\\n• Supports and drives analytic efforts designed around organization’s strategic priorities and clinical/business problems\\n• Works in a team to drive disruptive innovation, which may translate into improved quality of care, clinical outcomes, reduced costs, temporal efficiencies and process improvements.\\n• Builds and extends our analytics portfolio supported by robust documentation\\n• Works with autonomy to find solutions to complex problems using open source tools and in-house development\\n• Stays abreast of state-of-the-art literature in the fields of operations research, statistical modeling, statistical process control and mathematical optimization\\n• Creates, communicates, and manages the project plans and other required project documentation and provides updates to leadership as necessary\\n• Develops and maintains relationships with business, IT and clinical leaders and stakeholders across the enterprise to facilitate collaboration and effective communication\\n• Works with the analytics team and clinical/business stakeholders to develop pilots so that they may be tested and validated in pilot settings\\n• Performs analysis to evaluate primary and secondary objectives from such pilots\\n• Assists leadership with strategies for scaling successful projects across the organization and enhances the analytics applications based on feedback from end-users and clinical/business consumers\\n• Assists leadership with dissemination of success stories (and failures) in an effort to increase analytics literacy and adoption across the organization.\\n\\nWhat You Need to Be Successful:\\n\\nIII. Education and Experience\\n\\n• Master’s or higher degree (may be substituted by relevant work experience) in applied mathematics, physics, computer science, engineering, statistics or a related field\\n• 3+ years of Mathematical Optimization, Machine Learning, Predictive Analytics and Algorithm Development experience (experience with tools such as WEKA, RapidMiner, R. Python or other open source tools strongly desired)\\n• Strong development skills in two or more of the following: C/C++, C#, Python, Java\\n• Combining analytic methods with advanced data visualizations\\n• Expert ability to breakdown and clearly define problems\\n• Experience with Natural Language Processing preferred\\n\\nIV. Knowledge, Skills and Abilities\\n\\n• Proven communications skills – Effective at working independently and in collaboration with other staff members. Capable of clearly presenting findings orally, in writing, or through graphics.\\n• Proven analytical skills – Able to compare, contrast, and validate work with keen attention to detail. Skilled in working with “real world” data including scrubbing, transformation, and imputation.\\n• Proven problem solving skills – Able to plan work, set clear direction, and coordinate own tasks in a fast-paced multidisciplinary environment. Expert at triaging issues, identifying data anomalies, and debugging software.\\n• Design and prototype new application functionality for our products.\\n• Change oriented – actively generates process improvements; supports and drives change, and confronts difficult circumstances in creative ways\\n• Effective communicator and change agent\\n• Ability to prioritize the tasks of the project timeline to achieve the desired results\\n• Strong analytic and problem solving skills\\n• Ability to cooperatively and effectively work with people from various organization levels\\n\\nWe are an Equal Opportunity Employer and do not discriminate against any employee or applicant for employment because of race, color, sex, age, national origin, religion, sexual orientation, gender identity, status as a veteran, and basis of disability or any other federal, state or local protected class.'"
      ]
     },
     "execution_count": 44,
     "metadata": {},
     "output_type": "execute_result"
    }
   ],
   "source": [
    "df['Job Description'][1]"
   ]
  },
  {
   "cell_type": "code",
   "execution_count": 45,
   "id": "713e98d5-c91f-4623-a7ed-b88f5a719411",
   "metadata": {},
   "outputs": [
    {
     "data": {
      "text/plain": [
       "\"KnowBe4, Inc. is a high growth information security company. We are the world's largest provider of new-school security awareness training and simulated phishing. KnowBe4 was created to help organizations manage the ongoing problem of social engineering. Tens of thousands of organizations worldwide use KnowBe4's platform to mobilize their end users as a last line of defense and enable them to make better security decisions, every day.\\n\\nWe are ranked #1 best place to work in technology nationwide by Fortune Magazine and have placed #1 or #2 in The Tampa Bay Top Workplaces Survey for the last four years. We also just had our 27th record-setting quarter in a row!\\n\\nThe Data Scientist will work closely with the VP of FP&A and the Quantitative Analytics Manager to implement advanced analytical models and other data-driven solutions.\\n\\nResponsibilities:\\nWork with key stakeholders throughout the organization to identify opportunities using financial data to develop business solutions.\\nDevelop new and enhance existing data collection procedures to ensure that all data relevant for analyses is captured.\\nCleanse, consolidate, and verify the integrity of data used in analyses.\\nBuild and validate predictive models to increase customer retention, revenue generation, and other business outcomes.\\nDevelop relevant statistical models to assist with profitability forecasting\\nCreate the analytics to leverage known, inferred and appended information about origins and recognizing patterns to assist in outlook forecasting\\nAssist in the design and data modeling of data warehouse.\\nVisualize data, especially in reports and dashboards, to communicate analysis results to stakeholders.\\nExtend data collection to unstructured data within the company and external sources\\nMine and collect data (both structured and unstructured) to detect patterns, opportunities and insights that drive our organization\\nCreate and execute automation and data mining requests utilizing SQL, Access, Excel, SAS and other statistical programs\\nTrouble shoot forecast and optimization anomalies with FP&A team through the use of statistical and mathematical optimization models. Develop testing to explain and or reduce these anomalies.\\nOversee and develop key metric forecasts as well as provide budget support based on trends in the business/industry.\\nMinimum Qualifications:\\nMaster's degree in Statistics, Computer Science, Mathematics or other quantitative discipline required\\n2-3 years of experience in similar role (Master's Degree)\\n0-2 years of experience in similar role (PhD)\\nExperience leveraging predictive modeling, big data analytics, exploratory data analysis and machine learning to drive significant business impact\\nExperience with statistical computer languages (Python, R etc.) to manipulate and analyze large datasets preferred.\\nExperience with data visualization tools like D3.js, matplotlib, etc., preferred\\nExceptional understanding of machine learning algorithms such as Random Forest, SVM, k-NN, Naïve Bayes, Gradient Boosting a plus.\\nApplied statistical skills including statistical testing, regression, etc.\\nExperience with data bases, query languages, and associated data architecture.\\nExperience with distributed computing tools (Hive, Spark, etc.) is a plus.\\nStrong analytical skills and ability to meet project deadlines.\\nNote: An applicant assessment, background check and drug test may be part of your hiring procedure.\\n\\nNo recruitment agencies, please.\""
      ]
     },
     "execution_count": 45,
     "metadata": {},
     "output_type": "execute_result"
    }
   ],
   "source": [
    "df['Job Description'][2]"
   ]
  },
  {
   "cell_type": "code",
   "execution_count": 46,
   "id": "4d7064a6-8196-45ce-a1a0-89823c4fc0ba",
   "metadata": {},
   "outputs": [
    {
     "data": {
      "text/plain": [
       "'About Bill.com\\n\\nBill.com is a leading provider of cloud-based software that simplifies, digitizes, and automates complex, back-office financial operations for small and midsize businesses. Customers use the Bill.com platform to manage end-to-end financial workflows and to process payments, which totaled over $70 billion for fiscal 2019. The Bill.com AI-enabled, financial software platform creates connections between businesses and their suppliers and clients. It helps manage cash inflows and outflows. The company partners with several of the largest U.S. financial institutions, more than 70 of the top 100 U.S. accounting firms, and popular accounting software providers. Bill.com has offices in Palo Alto, California and Houston, Texas. For more information, visit www.bill.com or follow @billcom.\\n\\nMission: We are looking for a talented, enthusiastic and dedicated data science leader to join Bill.com’s Risk Management team. The incumbent will be responsible for managing junior data scientists as well as leading key projects associated with predictive fraud detection, transaction risk modeling and loss mitigation at Bill.com. This position requires a person who has experience with developing machine learning models and performing analytics preferably in risk domain.\\nProfessional Experience/Background to be successful in this role:\\nMinimum 5 years (with M.S. degree) or 3 years (with PhD) of industry experience in data science\\nAn advanced degree (M.S., PhD.), preferably in Statistics, Physical Sciences, Computer Science, Economics, or a related technical field\\nStrong track record of performing data analysis and statistical modeling using SQL, SAS or similar tools\\nMastery of a wide range of Machine Learning techniques, tools, and methodologies with a demonstrated capability to apply them to a broad range of business problems and data sources\\nMachine Learning techniques include clustering, classification, regression, decision trees, neural nets, anomaly detection etc.\\nAbility to clearly communicate complex results to technical experts, business partners, and executives\\nComfortable with ambiguity and yet able to steer analytics projects toward clear business goals, testable hypotheses and action-oriented outcomes\\nDesirable to have experience solving problems related to risk using data science and analytics\\nExperience with implementation of Machine Learning models\\nPrior team management and payment risk experience is a plus\\nCompetencies (Attributes needed to be successful in this role):\\nFunctional/Technical Expertise\\nThought leadership/People leadership\\nLearning Abilities/Tech Savvy\\nCommunication\\nTeam Player\\nBill.com Culture:\\n● Humble – No ego\\n● Fun – Celebrate the moments\\n● Authentic – We are who we are\\n● Passionate – Love what you do\\n● Dedicated – To each other and the customer\\n\\nOur Applicant Privacy Notice describes how Bill.com treats the personal information it receives from applicants.'"
      ]
     },
     "execution_count": 46,
     "metadata": {},
     "output_type": "execute_result"
    }
   ],
   "source": [
    "df['Job Description'][67]"
   ]
  },
  {
   "cell_type": "code",
   "execution_count": 47,
   "id": "4f1ed090-f971-4b00-8166-8c3eb10a2aa1",
   "metadata": {},
   "outputs": [
    {
     "name": "stderr",
     "output_type": "stream",
     "text": [
      "C:\\Users\\hp\\AppData\\Local\\Temp\\ipykernel_7000\\2421013120.py:1: SettingWithCopyWarning: \n",
      "A value is trying to be set on a copy of a slice from a DataFrame.\n",
      "Try using .loc[row_indexer,col_indexer] = value instead\n",
      "\n",
      "See the caveats in the documentation: https://pandas.pydata.org/pandas-docs/stable/user_guide/indexing.html#returning-a-view-versus-a-copy\n",
      "  df['python_job'] = df['Job Description'].apply(lambda x: 1 if 'python' in x.lower() else 0)\n",
      "C:\\Users\\hp\\AppData\\Local\\Temp\\ipykernel_7000\\2421013120.py:2: SettingWithCopyWarning: \n",
      "A value is trying to be set on a copy of a slice from a DataFrame.\n",
      "Try using .loc[row_indexer,col_indexer] = value instead\n",
      "\n",
      "See the caveats in the documentation: https://pandas.pydata.org/pandas-docs/stable/user_guide/indexing.html#returning-a-view-versus-a-copy\n",
      "  df['r_job'] = df['Job Description'].apply(lambda x: 1 if 'r studio' in x.lower() else 0)\n",
      "C:\\Users\\hp\\AppData\\Local\\Temp\\ipykernel_7000\\2421013120.py:3: SettingWithCopyWarning: \n",
      "A value is trying to be set on a copy of a slice from a DataFrame.\n",
      "Try using .loc[row_indexer,col_indexer] = value instead\n",
      "\n",
      "See the caveats in the documentation: https://pandas.pydata.org/pandas-docs/stable/user_guide/indexing.html#returning-a-view-versus-a-copy\n",
      "  df['aws_job'] = df['Job Description'].apply(lambda x: 1 if 'aws' in x.lower() else 0)\n",
      "C:\\Users\\hp\\AppData\\Local\\Temp\\ipykernel_7000\\2421013120.py:4: SettingWithCopyWarning: \n",
      "A value is trying to be set on a copy of a slice from a DataFrame.\n",
      "Try using .loc[row_indexer,col_indexer] = value instead\n",
      "\n",
      "See the caveats in the documentation: https://pandas.pydata.org/pandas-docs/stable/user_guide/indexing.html#returning-a-view-versus-a-copy\n",
      "  df['spark_job'] = df['Job Description'].apply(lambda x: 1 if 'spark' in x.lower() else 0)\n",
      "C:\\Users\\hp\\AppData\\Local\\Temp\\ipykernel_7000\\2421013120.py:5: SettingWithCopyWarning: \n",
      "A value is trying to be set on a copy of a slice from a DataFrame.\n",
      "Try using .loc[row_indexer,col_indexer] = value instead\n",
      "\n",
      "See the caveats in the documentation: https://pandas.pydata.org/pandas-docs/stable/user_guide/indexing.html#returning-a-view-versus-a-copy\n",
      "  df['excel_job'] = df['Job Description'].apply(lambda x: 1 if 'excel' in x.lower() else 0)\n",
      "C:\\Users\\hp\\AppData\\Local\\Temp\\ipykernel_7000\\2421013120.py:6: SettingWithCopyWarning: \n",
      "A value is trying to be set on a copy of a slice from a DataFrame.\n",
      "Try using .loc[row_indexer,col_indexer] = value instead\n",
      "\n",
      "See the caveats in the documentation: https://pandas.pydata.org/pandas-docs/stable/user_guide/indexing.html#returning-a-view-versus-a-copy\n",
      "  df['sql_job'] = df['Job Description'].apply(lambda x: 1 if 'sql' in x.lower() else 0)\n"
     ]
    }
   ],
   "source": [
    "df['python_job'] = df['Job Description'].apply(lambda x: 1 if 'python' in x.lower() else 0)\n",
    "df['r_job'] = df['Job Description'].apply(lambda x: 1 if 'r studio' in x.lower() else 0)\n",
    "df['aws_job'] = df['Job Description'].apply(lambda x: 1 if 'aws' in x.lower() else 0)\n",
    "df['spark_job'] = df['Job Description'].apply(lambda x: 1 if 'spark' in x.lower() else 0)\n",
    "df['excel_job'] = df['Job Description'].apply(lambda x: 1 if 'excel' in x.lower() else 0)\n",
    "df['sql_job'] = df['Job Description'].apply(lambda x: 1 if 'sql' in x.lower() else 0)"
   ]
  },
  {
   "cell_type": "code",
   "execution_count": 48,
   "id": "8ef7f8e4-b75b-4f48-908a-3b53ca6a13ef",
   "metadata": {},
   "outputs": [
    {
     "data": {
      "text/plain": [
       "sql_job\n",
       "1    380\n",
       "0    362\n",
       "Name: count, dtype: int64"
      ]
     },
     "execution_count": 48,
     "metadata": {},
     "output_type": "execute_result"
    }
   ],
   "source": [
    "df.sql_job.value_counts()"
   ]
  },
  {
   "cell_type": "code",
   "execution_count": 49,
   "id": "17c1f50c-c1f5-4d65-9ab8-81762e7dda43",
   "metadata": {},
   "outputs": [
    {
     "name": "stderr",
     "output_type": "stream",
     "text": [
      "C:\\Users\\hp\\AppData\\Local\\Temp\\ipykernel_7000\\2039339806.py:17: SettingWithCopyWarning: \n",
      "A value is trying to be set on a copy of a slice from a DataFrame.\n",
      "Try using .loc[row_indexer,col_indexer] = value instead\n",
      "\n",
      "See the caveats in the documentation: https://pandas.pydata.org/pandas-docs/stable/user_guide/indexing.html#returning-a-view-versus-a-copy\n",
      "  df['simplified_data'] = df['Job Title'].apply(designation)\n"
     ]
    }
   ],
   "source": [
    "def designation(title):\n",
    "    if 'data scientist' in title.lower():\n",
    "        return 'data scientist'\n",
    "    elif 'data engineer' in title.lower():\n",
    "        return 'data engineer'\n",
    "    elif 'analyst' in title.lower():\n",
    "        return 'analyst'\n",
    "    elif 'machine learning' in title.lower():\n",
    "        return 'mle'\n",
    "    elif 'manager' in title.lower():\n",
    "        return 'manager'\n",
    "    elif 'director' in title.lower():\n",
    "        return 'director'\n",
    "    else:\n",
    "        return 'na'\n",
    "\n",
    "df['simplified_data'] = df['Job Title'].apply(designation)"
   ]
  },
  {
   "cell_type": "code",
   "execution_count": 50,
   "id": "702e73b7-2609-4910-b78a-bc3d6c684b91",
   "metadata": {},
   "outputs": [
    {
     "data": {
      "text/plain": [
       "simplified_data\n",
       "data scientist    279\n",
       "na                184\n",
       "data engineer     119\n",
       "analyst           102\n",
       "manager            22\n",
       "mle                22\n",
       "director           14\n",
       "Name: count, dtype: int64"
      ]
     },
     "execution_count": 50,
     "metadata": {},
     "output_type": "execute_result"
    }
   ],
   "source": [
    "df['simplified_data'].value_counts()"
   ]
  },
  {
   "cell_type": "code",
   "execution_count": 51,
   "id": "97d69cd5-e133-42c4-8b28-3d5cbd434f8b",
   "metadata": {},
   "outputs": [
    {
     "name": "stderr",
     "output_type": "stream",
     "text": [
      "C:\\Users\\hp\\AppData\\Local\\Temp\\ipykernel_7000\\1202755994.py:9: SettingWithCopyWarning: \n",
      "A value is trying to be set on a copy of a slice from a DataFrame.\n",
      "Try using .loc[row_indexer,col_indexer] = value instead\n",
      "\n",
      "See the caveats in the documentation: https://pandas.pydata.org/pandas-docs/stable/user_guide/indexing.html#returning-a-view-versus-a-copy\n",
      "  df['Job_seniority'] = df['Job Title'].apply(seniority)\n"
     ]
    }
   ],
   "source": [
    "def seniority(title):\n",
    "    if 'sr' in title.lower() or 'senior' in title.lower() or 'lead' in title.lower() or 'principal' in title.lower():\n",
    "        return 'sr'\n",
    "    if 'jr' in title.lower() or 'jr.' in title.lower():\n",
    "        return 'jr'\n",
    "    else:\n",
    "        return 'na'\n",
    "\n",
    "df['Job_seniority'] = df['Job Title'].apply(seniority)"
   ]
  },
  {
   "cell_type": "code",
   "execution_count": 52,
   "id": "06c5a0f9-7f04-418c-92c4-52e7bf1145b8",
   "metadata": {},
   "outputs": [
    {
     "data": {
      "text/plain": [
       "0      na\n",
       "1      na\n",
       "2      na\n",
       "3      na\n",
       "4      na\n",
       "       ..\n",
       "950    sr\n",
       "951    sr\n",
       "952    na\n",
       "953    na\n",
       "955    na\n",
       "Name: Job_seniority, Length: 742, dtype: object"
      ]
     },
     "execution_count": 52,
     "metadata": {},
     "output_type": "execute_result"
    }
   ],
   "source": [
    "df['Job_seniority']"
   ]
  },
  {
   "cell_type": "code",
   "execution_count": 53,
   "id": "07b5500d-2f5a-424f-862f-d939769b6d03",
   "metadata": {},
   "outputs": [
    {
     "data": {
      "text/plain": [
       "Job_seniority\n",
       "na    520\n",
       "sr    220\n",
       "jr      2\n",
       "Name: count, dtype: int64"
      ]
     },
     "execution_count": 53,
     "metadata": {},
     "output_type": "execute_result"
    }
   ],
   "source": [
    "df['Job_seniority'].value_counts()"
   ]
  },
  {
   "cell_type": "code",
   "execution_count": 54,
   "id": "8c77f64d-a598-4dcd-a580-fc8ff1624c49",
   "metadata": {},
   "outputs": [
    {
     "data": {
      "text/html": [
       "<div>\n",
       "<style scoped>\n",
       "    .dataframe tbody tr th:only-of-type {\n",
       "        vertical-align: middle;\n",
       "    }\n",
       "\n",
       "    .dataframe tbody tr th {\n",
       "        vertical-align: top;\n",
       "    }\n",
       "\n",
       "    .dataframe thead th {\n",
       "        text-align: right;\n",
       "    }\n",
       "</style>\n",
       "<table border=\"1\" class=\"dataframe\">\n",
       "  <thead>\n",
       "    <tr style=\"text-align: right;\">\n",
       "      <th></th>\n",
       "      <th>Job Title</th>\n",
       "      <th>Salary Estimate</th>\n",
       "      <th>Job Description</th>\n",
       "      <th>Rating</th>\n",
       "      <th>Company Name</th>\n",
       "      <th>Location</th>\n",
       "      <th>Headquarters</th>\n",
       "      <th>Size</th>\n",
       "      <th>Founded</th>\n",
       "      <th>Type of ownership</th>\n",
       "      <th>...</th>\n",
       "      <th>job_state</th>\n",
       "      <th>company_age</th>\n",
       "      <th>python_job</th>\n",
       "      <th>r_job</th>\n",
       "      <th>aws_job</th>\n",
       "      <th>spark_job</th>\n",
       "      <th>excel_job</th>\n",
       "      <th>sql_job</th>\n",
       "      <th>simplified_data</th>\n",
       "      <th>Job_seniority</th>\n",
       "    </tr>\n",
       "  </thead>\n",
       "  <tbody>\n",
       "    <tr>\n",
       "      <th>0</th>\n",
       "      <td>Data Scientist</td>\n",
       "      <td>$53K-$91K (Glassdoor est.)</td>\n",
       "      <td>Data Scientist\\nLocation: Albuquerque, NM\\nEdu...</td>\n",
       "      <td>3.8</td>\n",
       "      <td>Tecolote Research</td>\n",
       "      <td>Albuquerque, NM</td>\n",
       "      <td>Goleta, CA</td>\n",
       "      <td>501 to 1000 employees</td>\n",
       "      <td>1973</td>\n",
       "      <td>Company - Private</td>\n",
       "      <td>...</td>\n",
       "      <td>NM</td>\n",
       "      <td>50</td>\n",
       "      <td>1</td>\n",
       "      <td>0</td>\n",
       "      <td>0</td>\n",
       "      <td>0</td>\n",
       "      <td>1</td>\n",
       "      <td>0</td>\n",
       "      <td>data scientist</td>\n",
       "      <td>na</td>\n",
       "    </tr>\n",
       "    <tr>\n",
       "      <th>1</th>\n",
       "      <td>Healthcare Data Scientist</td>\n",
       "      <td>$63K-$112K (Glassdoor est.)</td>\n",
       "      <td>What You Will Do:\\n\\nI. General Summary\\n\\nThe...</td>\n",
       "      <td>3.4</td>\n",
       "      <td>University of Maryland Medical System</td>\n",
       "      <td>Linthicum, MD</td>\n",
       "      <td>Baltimore, MD</td>\n",
       "      <td>10000+ employees</td>\n",
       "      <td>1984</td>\n",
       "      <td>Other Organization</td>\n",
       "      <td>...</td>\n",
       "      <td>MD</td>\n",
       "      <td>39</td>\n",
       "      <td>1</td>\n",
       "      <td>0</td>\n",
       "      <td>0</td>\n",
       "      <td>0</td>\n",
       "      <td>0</td>\n",
       "      <td>0</td>\n",
       "      <td>data scientist</td>\n",
       "      <td>na</td>\n",
       "    </tr>\n",
       "    <tr>\n",
       "      <th>2</th>\n",
       "      <td>Data Scientist</td>\n",
       "      <td>$80K-$90K (Glassdoor est.)</td>\n",
       "      <td>KnowBe4, Inc. is a high growth information sec...</td>\n",
       "      <td>4.8</td>\n",
       "      <td>KnowBe4</td>\n",
       "      <td>Clearwater, FL</td>\n",
       "      <td>Clearwater, FL</td>\n",
       "      <td>501 to 1000 employees</td>\n",
       "      <td>2010</td>\n",
       "      <td>Company - Private</td>\n",
       "      <td>...</td>\n",
       "      <td>FL</td>\n",
       "      <td>13</td>\n",
       "      <td>1</td>\n",
       "      <td>0</td>\n",
       "      <td>0</td>\n",
       "      <td>1</td>\n",
       "      <td>1</td>\n",
       "      <td>1</td>\n",
       "      <td>data scientist</td>\n",
       "      <td>na</td>\n",
       "    </tr>\n",
       "    <tr>\n",
       "      <th>3</th>\n",
       "      <td>Data Scientist</td>\n",
       "      <td>$56K-$97K (Glassdoor est.)</td>\n",
       "      <td>*Organization and Job ID**\\nJob ID: 310709\\n\\n...</td>\n",
       "      <td>3.8</td>\n",
       "      <td>PNNL</td>\n",
       "      <td>Richland, WA</td>\n",
       "      <td>Richland, WA</td>\n",
       "      <td>1001 to 5000 employees</td>\n",
       "      <td>1965</td>\n",
       "      <td>Government</td>\n",
       "      <td>...</td>\n",
       "      <td>WA</td>\n",
       "      <td>58</td>\n",
       "      <td>1</td>\n",
       "      <td>0</td>\n",
       "      <td>0</td>\n",
       "      <td>0</td>\n",
       "      <td>0</td>\n",
       "      <td>0</td>\n",
       "      <td>data scientist</td>\n",
       "      <td>na</td>\n",
       "    </tr>\n",
       "    <tr>\n",
       "      <th>4</th>\n",
       "      <td>Data Scientist</td>\n",
       "      <td>$86K-$143K (Glassdoor est.)</td>\n",
       "      <td>Data Scientist\\nAffinity Solutions / Marketing...</td>\n",
       "      <td>2.9</td>\n",
       "      <td>Affinity Solutions</td>\n",
       "      <td>New York, NY</td>\n",
       "      <td>New York, NY</td>\n",
       "      <td>51 to 200 employees</td>\n",
       "      <td>1998</td>\n",
       "      <td>Company - Private</td>\n",
       "      <td>...</td>\n",
       "      <td>NY</td>\n",
       "      <td>25</td>\n",
       "      <td>1</td>\n",
       "      <td>0</td>\n",
       "      <td>0</td>\n",
       "      <td>0</td>\n",
       "      <td>1</td>\n",
       "      <td>1</td>\n",
       "      <td>data scientist</td>\n",
       "      <td>na</td>\n",
       "    </tr>\n",
       "    <tr>\n",
       "      <th>...</th>\n",
       "      <td>...</td>\n",
       "      <td>...</td>\n",
       "      <td>...</td>\n",
       "      <td>...</td>\n",
       "      <td>...</td>\n",
       "      <td>...</td>\n",
       "      <td>...</td>\n",
       "      <td>...</td>\n",
       "      <td>...</td>\n",
       "      <td>...</td>\n",
       "      <td>...</td>\n",
       "      <td>...</td>\n",
       "      <td>...</td>\n",
       "      <td>...</td>\n",
       "      <td>...</td>\n",
       "      <td>...</td>\n",
       "      <td>...</td>\n",
       "      <td>...</td>\n",
       "      <td>...</td>\n",
       "      <td>...</td>\n",
       "      <td>...</td>\n",
       "    </tr>\n",
       "    <tr>\n",
       "      <th>950</th>\n",
       "      <td>Sr Scientist, Immuno-Oncology - Oncology</td>\n",
       "      <td>$58K-$111K (Glassdoor est.)</td>\n",
       "      <td>Site Name: USA - Massachusetts - Cambridge\\nPo...</td>\n",
       "      <td>3.9</td>\n",
       "      <td>GSK</td>\n",
       "      <td>Cambridge, MA</td>\n",
       "      <td>Brentford, United Kingdom</td>\n",
       "      <td>10000+ employees</td>\n",
       "      <td>1830</td>\n",
       "      <td>Company - Public</td>\n",
       "      <td>...</td>\n",
       "      <td>MA</td>\n",
       "      <td>193</td>\n",
       "      <td>0</td>\n",
       "      <td>0</td>\n",
       "      <td>1</td>\n",
       "      <td>0</td>\n",
       "      <td>0</td>\n",
       "      <td>0</td>\n",
       "      <td>na</td>\n",
       "      <td>sr</td>\n",
       "    </tr>\n",
       "    <tr>\n",
       "      <th>951</th>\n",
       "      <td>Senior Data Engineer</td>\n",
       "      <td>$72K-$133K (Glassdoor est.)</td>\n",
       "      <td>THE CHALLENGE\\nEventbrite has a world-class da...</td>\n",
       "      <td>4.4</td>\n",
       "      <td>Eventbrite</td>\n",
       "      <td>Nashville, TN</td>\n",
       "      <td>San Francisco, CA</td>\n",
       "      <td>1001 to 5000 employees</td>\n",
       "      <td>2006</td>\n",
       "      <td>Company - Public</td>\n",
       "      <td>...</td>\n",
       "      <td>TN</td>\n",
       "      <td>17</td>\n",
       "      <td>1</td>\n",
       "      <td>0</td>\n",
       "      <td>1</td>\n",
       "      <td>1</td>\n",
       "      <td>0</td>\n",
       "      <td>1</td>\n",
       "      <td>data engineer</td>\n",
       "      <td>sr</td>\n",
       "    </tr>\n",
       "    <tr>\n",
       "      <th>952</th>\n",
       "      <td>Project Scientist - Auton Lab, Robotics Institute</td>\n",
       "      <td>$56K-$91K (Glassdoor est.)</td>\n",
       "      <td>The Auton Lab at Carnegie Mellon University is...</td>\n",
       "      <td>2.6</td>\n",
       "      <td>Software Engineering Institute</td>\n",
       "      <td>Pittsburgh, PA</td>\n",
       "      <td>Pittsburgh, PA</td>\n",
       "      <td>501 to 1000 employees</td>\n",
       "      <td>1984</td>\n",
       "      <td>College / University</td>\n",
       "      <td>...</td>\n",
       "      <td>PA</td>\n",
       "      <td>39</td>\n",
       "      <td>0</td>\n",
       "      <td>0</td>\n",
       "      <td>0</td>\n",
       "      <td>0</td>\n",
       "      <td>1</td>\n",
       "      <td>0</td>\n",
       "      <td>na</td>\n",
       "      <td>na</td>\n",
       "    </tr>\n",
       "    <tr>\n",
       "      <th>953</th>\n",
       "      <td>Data Science Manager</td>\n",
       "      <td>$95K-$160K (Glassdoor est.)</td>\n",
       "      <td>Data Science ManagerResponsibilities:\\n\\nOvers...</td>\n",
       "      <td>3.2</td>\n",
       "      <td>Numeric, LLC</td>\n",
       "      <td>Allentown, PA</td>\n",
       "      <td>Chadds Ford, PA</td>\n",
       "      <td>1 to 50 employees</td>\n",
       "      <td>-1</td>\n",
       "      <td>Company - Private</td>\n",
       "      <td>...</td>\n",
       "      <td>PA</td>\n",
       "      <td>-1</td>\n",
       "      <td>0</td>\n",
       "      <td>0</td>\n",
       "      <td>0</td>\n",
       "      <td>0</td>\n",
       "      <td>1</td>\n",
       "      <td>0</td>\n",
       "      <td>manager</td>\n",
       "      <td>na</td>\n",
       "    </tr>\n",
       "    <tr>\n",
       "      <th>955</th>\n",
       "      <td>Research Scientist – Security and Privacy</td>\n",
       "      <td>$61K-$126K (Glassdoor est.)</td>\n",
       "      <td>Returning Candidate? Log back in to the Career...</td>\n",
       "      <td>3.6</td>\n",
       "      <td>Riverside Research Institute</td>\n",
       "      <td>Beavercreek, OH</td>\n",
       "      <td>Arlington, VA</td>\n",
       "      <td>501 to 1000 employees</td>\n",
       "      <td>1967</td>\n",
       "      <td>Nonprofit Organization</td>\n",
       "      <td>...</td>\n",
       "      <td>OH</td>\n",
       "      <td>56</td>\n",
       "      <td>1</td>\n",
       "      <td>0</td>\n",
       "      <td>0</td>\n",
       "      <td>0</td>\n",
       "      <td>0</td>\n",
       "      <td>0</td>\n",
       "      <td>na</td>\n",
       "      <td>na</td>\n",
       "    </tr>\n",
       "  </tbody>\n",
       "</table>\n",
       "<p>742 rows × 29 columns</p>\n",
       "</div>"
      ],
      "text/plain": [
       "                                             Job Title  \\\n",
       "0                                       Data Scientist   \n",
       "1                            Healthcare Data Scientist   \n",
       "2                                       Data Scientist   \n",
       "3                                       Data Scientist   \n",
       "4                                       Data Scientist   \n",
       "..                                                 ...   \n",
       "950           Sr Scientist, Immuno-Oncology - Oncology   \n",
       "951                               Senior Data Engineer   \n",
       "952  Project Scientist - Auton Lab, Robotics Institute   \n",
       "953                               Data Science Manager   \n",
       "955          Research Scientist – Security and Privacy   \n",
       "\n",
       "                 Salary Estimate  \\\n",
       "0     $53K-$91K (Glassdoor est.)   \n",
       "1    $63K-$112K (Glassdoor est.)   \n",
       "2     $80K-$90K (Glassdoor est.)   \n",
       "3     $56K-$97K (Glassdoor est.)   \n",
       "4    $86K-$143K (Glassdoor est.)   \n",
       "..                           ...   \n",
       "950  $58K-$111K (Glassdoor est.)   \n",
       "951  $72K-$133K (Glassdoor est.)   \n",
       "952   $56K-$91K (Glassdoor est.)   \n",
       "953  $95K-$160K (Glassdoor est.)   \n",
       "955  $61K-$126K (Glassdoor est.)   \n",
       "\n",
       "                                       Job Description  Rating  \\\n",
       "0    Data Scientist\\nLocation: Albuquerque, NM\\nEdu...     3.8   \n",
       "1    What You Will Do:\\n\\nI. General Summary\\n\\nThe...     3.4   \n",
       "2    KnowBe4, Inc. is a high growth information sec...     4.8   \n",
       "3    *Organization and Job ID**\\nJob ID: 310709\\n\\n...     3.8   \n",
       "4    Data Scientist\\nAffinity Solutions / Marketing...     2.9   \n",
       "..                                                 ...     ...   \n",
       "950  Site Name: USA - Massachusetts - Cambridge\\nPo...     3.9   \n",
       "951  THE CHALLENGE\\nEventbrite has a world-class da...     4.4   \n",
       "952  The Auton Lab at Carnegie Mellon University is...     2.6   \n",
       "953  Data Science ManagerResponsibilities:\\n\\nOvers...     3.2   \n",
       "955  Returning Candidate? Log back in to the Career...     3.6   \n",
       "\n",
       "                              Company Name         Location  \\\n",
       "0                        Tecolote Research  Albuquerque, NM   \n",
       "1    University of Maryland Medical System    Linthicum, MD   \n",
       "2                                  KnowBe4   Clearwater, FL   \n",
       "3                                     PNNL     Richland, WA   \n",
       "4                       Affinity Solutions     New York, NY   \n",
       "..                                     ...              ...   \n",
       "950                                    GSK    Cambridge, MA   \n",
       "951                             Eventbrite    Nashville, TN   \n",
       "952         Software Engineering Institute   Pittsburgh, PA   \n",
       "953                           Numeric, LLC    Allentown, PA   \n",
       "955           Riverside Research Institute  Beavercreek, OH   \n",
       "\n",
       "                  Headquarters                    Size  Founded  \\\n",
       "0                   Goleta, CA   501 to 1000 employees     1973   \n",
       "1                Baltimore, MD        10000+ employees     1984   \n",
       "2               Clearwater, FL   501 to 1000 employees     2010   \n",
       "3                 Richland, WA  1001 to 5000 employees     1965   \n",
       "4                 New York, NY     51 to 200 employees     1998   \n",
       "..                         ...                     ...      ...   \n",
       "950  Brentford, United Kingdom        10000+ employees     1830   \n",
       "951          San Francisco, CA  1001 to 5000 employees     2006   \n",
       "952             Pittsburgh, PA   501 to 1000 employees     1984   \n",
       "953            Chadds Ford, PA       1 to 50 employees       -1   \n",
       "955              Arlington, VA   501 to 1000 employees     1967   \n",
       "\n",
       "          Type of ownership  ... job_state company_age python_job r_job  \\\n",
       "0         Company - Private  ...        NM          50          1     0   \n",
       "1        Other Organization  ...        MD          39          1     0   \n",
       "2         Company - Private  ...        FL          13          1     0   \n",
       "3                Government  ...        WA          58          1     0   \n",
       "4         Company - Private  ...        NY          25          1     0   \n",
       "..                      ...  ...       ...         ...        ...   ...   \n",
       "950        Company - Public  ...        MA         193          0     0   \n",
       "951        Company - Public  ...        TN          17          1     0   \n",
       "952    College / University  ...        PA          39          0     0   \n",
       "953       Company - Private  ...        PA          -1          0     0   \n",
       "955  Nonprofit Organization  ...        OH          56          1     0   \n",
       "\n",
       "     aws_job  spark_job  excel_job  sql_job  simplified_data Job_seniority  \n",
       "0          0          0          1        0   data scientist            na  \n",
       "1          0          0          0        0   data scientist            na  \n",
       "2          0          1          1        1   data scientist            na  \n",
       "3          0          0          0        0   data scientist            na  \n",
       "4          0          0          1        1   data scientist            na  \n",
       "..       ...        ...        ...      ...              ...           ...  \n",
       "950        1          0          0        0               na            sr  \n",
       "951        1          1          0        1    data engineer            sr  \n",
       "952        0          0          1        0               na            na  \n",
       "953        0          0          1        0          manager            na  \n",
       "955        0          0          0        0               na            na  \n",
       "\n",
       "[742 rows x 29 columns]"
      ]
     },
     "execution_count": 54,
     "metadata": {},
     "output_type": "execute_result"
    }
   ],
   "source": [
    "df"
   ]
  },
  {
   "cell_type": "code",
   "execution_count": 55,
   "id": "19ca0069-df64-4c75-b71d-4de632bef427",
   "metadata": {},
   "outputs": [
    {
     "name": "stderr",
     "output_type": "stream",
     "text": [
      "C:\\Users\\hp\\AppData\\Local\\Temp\\ipykernel_7000\\2320772586.py:1: SettingWithCopyWarning: \n",
      "A value is trying to be set on a copy of a slice from a DataFrame.\n",
      "Try using .loc[row_indexer,col_indexer] = value instead\n",
      "\n",
      "See the caveats in the documentation: https://pandas.pydata.org/pandas-docs/stable/user_guide/indexing.html#returning-a-view-versus-a-copy\n",
      "  df['Competitors'] = df['Competitors'].apply(lambda x: len(x.split(',')) if x != '-1' else 0)\n"
     ]
    }
   ],
   "source": [
    "df['Competitors'] = df['Competitors'].apply(lambda x: len(x.split(',')) if x != '-1' else 0)"
   ]
  },
  {
   "cell_type": "code",
   "execution_count": 56,
   "id": "54fbd67a-4c93-4adb-acc8-f8179b5144c3",
   "metadata": {},
   "outputs": [
    {
     "data": {
      "text/plain": [
       "0      0\n",
       "1      0\n",
       "2      0\n",
       "3      3\n",
       "4      3\n",
       "      ..\n",
       "950    3\n",
       "951    3\n",
       "952    0\n",
       "953    0\n",
       "955    0\n",
       "Name: Competitors, Length: 742, dtype: int64"
      ]
     },
     "execution_count": 56,
     "metadata": {},
     "output_type": "execute_result"
    }
   ],
   "source": [
    "df['Competitors']"
   ]
  },
  {
   "cell_type": "code",
   "execution_count": 57,
   "id": "c7e82111-4189-4893-a896-f067adb27a57",
   "metadata": {},
   "outputs": [],
   "source": [
    "def ownership_simplifier(text):\n",
    "    if 'private' in text.lower():\n",
    "        return 'Private'\n",
    "    elif 'public' in text.lower():\n",
    "        return 'Public'\n",
    "    elif ('-1' in text.lower()) or ('unknown' in text.lower()):\n",
    "        return 'Other Organization'\n",
    "    else:\n",
    "        return text"
   ]
  },
  {
   "cell_type": "code",
   "execution_count": 58,
   "id": "19a89654-8990-48e4-9384-2c7c68406c5f",
   "metadata": {},
   "outputs": [
    {
     "name": "stderr",
     "output_type": "stream",
     "text": [
      "C:\\Users\\hp\\AppData\\Local\\Temp\\ipykernel_7000\\2952218646.py:1: SettingWithCopyWarning: \n",
      "A value is trying to be set on a copy of a slice from a DataFrame.\n",
      "Try using .loc[row_indexer,col_indexer] = value instead\n",
      "\n",
      "See the caveats in the documentation: https://pandas.pydata.org/pandas-docs/stable/user_guide/indexing.html#returning-a-view-versus-a-copy\n",
      "  df['Type of ownership'] = df['Type of ownership'].apply(ownership_simplifier)\n"
     ]
    }
   ],
   "source": [
    "df['Type of ownership'] = df['Type of ownership'].apply(ownership_simplifier)"
   ]
  },
  {
   "cell_type": "code",
   "execution_count": 59,
   "id": "37f87ff8-0044-4d0a-a9b2-3123877595e4",
   "metadata": {},
   "outputs": [
    {
     "data": {
      "text/plain": [
       "Type of ownership\n",
       "Private                           410\n",
       "Public                            193\n",
       "Nonprofit Organization             55\n",
       "Subsidiary or Business Segment     34\n",
       "Government                         15\n",
       "Hospital                           15\n",
       "College / University               13\n",
       "Other Organization                  5\n",
       "School / School District            2\n",
       "Name: count, dtype: int64"
      ]
     },
     "execution_count": 59,
     "metadata": {},
     "output_type": "execute_result"
    }
   ],
   "source": [
    "df['Type of ownership'].value_counts()"
   ]
  },
  {
   "cell_type": "code",
   "execution_count": 60,
   "id": "6e1febfb-5688-4eb5-bb78-147349f549de",
   "metadata": {},
   "outputs": [
    {
     "data": {
      "text/plain": [
       "Revenue\n",
       "Unknown / Non-Applicable            203\n",
       "$10+ billion (USD)                  124\n",
       "$100 to $500 million (USD)           91\n",
       "$1 to $2 billion (USD)               60\n",
       "$500 million to $1 billion (USD)     57\n",
       "$50 to $100 million (USD)            46\n",
       "$25 to $50 million (USD)             40\n",
       "$2 to $5 billion (USD)               39\n",
       "$10 to $25 million (USD)             32\n",
       "$5 to $10 billion (USD)              19\n",
       "$5 to $10 million (USD)              18\n",
       "$1 to $5 million (USD)                8\n",
       "Less than $1 million (USD)            4\n",
       "-1                                    1\n",
       "Name: count, dtype: int64"
      ]
     },
     "execution_count": 60,
     "metadata": {},
     "output_type": "execute_result"
    }
   ],
   "source": [
    "df['Revenue'].value_counts()"
   ]
  },
  {
   "cell_type": "code",
   "execution_count": 61,
   "id": "e6e0b0ac-3027-406f-9023-e94eac341d61",
   "metadata": {},
   "outputs": [
    {
     "name": "stderr",
     "output_type": "stream",
     "text": [
      "C:\\Users\\hp\\AppData\\Local\\Temp\\ipykernel_7000\\2701015825.py:6: SettingWithCopyWarning: \n",
      "A value is trying to be set on a copy of a slice from a DataFrame.\n",
      "Try using .loc[row_indexer,col_indexer] = value instead\n",
      "\n",
      "See the caveats in the documentation: https://pandas.pydata.org/pandas-docs/stable/user_guide/indexing.html#returning-a-view-versus-a-copy\n",
      "  df['Revenue'] = df['Revenue'].apply(simplify_revenue)\n"
     ]
    }
   ],
   "source": [
    "def simplify_revenue(title):\n",
    "    if '-1' in title.lower():\n",
    "        return 'Unknown / Non-Applicable'\n",
    "    else:\n",
    "        return title\n",
    "df['Revenue'] = df['Revenue'].apply(simplify_revenue)"
   ]
  },
  {
   "cell_type": "code",
   "execution_count": 62,
   "id": "fbaebd13-a1ba-433e-8736-9eba51847c18",
   "metadata": {},
   "outputs": [
    {
     "data": {
      "text/plain": [
       "Revenue\n",
       "Unknown / Non-Applicable            204\n",
       "$10+ billion (USD)                  124\n",
       "$100 to $500 million (USD)           91\n",
       "$1 to $2 billion (USD)               60\n",
       "$500 million to $1 billion (USD)     57\n",
       "$50 to $100 million (USD)            46\n",
       "$25 to $50 million (USD)             40\n",
       "$2 to $5 billion (USD)               39\n",
       "$10 to $25 million (USD)             32\n",
       "$5 to $10 billion (USD)              19\n",
       "$5 to $10 million (USD)              18\n",
       "$1 to $5 million (USD)                8\n",
       "Less than $1 million (USD)            4\n",
       "Name: count, dtype: int64"
      ]
     },
     "execution_count": 62,
     "metadata": {},
     "output_type": "execute_result"
    }
   ],
   "source": [
    "df['Revenue'].value_counts()"
   ]
  },
  {
   "cell_type": "code",
   "execution_count": 63,
   "id": "dcab917d-cf30-4f9b-b7f2-9bfbd2fea949",
   "metadata": {},
   "outputs": [
    {
     "data": {
      "text/plain": [
       "Size\n",
       "1001 to 5000 employees     150\n",
       "501 to 1000 employees      134\n",
       "10000+ employees           130\n",
       "201 to 500 employees       117\n",
       "51 to 200 employees         94\n",
       "5001 to 10000 employees     76\n",
       "1 to 50 employees           31\n",
       "Unknown                      9\n",
       "-1                           1\n",
       "Name: count, dtype: int64"
      ]
     },
     "execution_count": 63,
     "metadata": {},
     "output_type": "execute_result"
    }
   ],
   "source": [
    "df.Size.value_counts()"
   ]
  },
  {
   "cell_type": "code",
   "execution_count": 64,
   "id": "267a3948-eaba-4d1d-b1f3-e23b6586c0bf",
   "metadata": {},
   "outputs": [
    {
     "name": "stderr",
     "output_type": "stream",
     "text": [
      "C:\\Users\\hp\\AppData\\Local\\Temp\\ipykernel_7000\\2593419542.py:6: SettingWithCopyWarning: \n",
      "A value is trying to be set on a copy of a slice from a DataFrame.\n",
      "Try using .loc[row_indexer,col_indexer] = value instead\n",
      "\n",
      "See the caveats in the documentation: https://pandas.pydata.org/pandas-docs/stable/user_guide/indexing.html#returning-a-view-versus-a-copy\n",
      "  df['Size'] = df['Size'].apply(simplify_size)\n"
     ]
    }
   ],
   "source": [
    "def simplify_size(title):\n",
    "    if '-1' in title.lower():\n",
    "        return 'Unknown'\n",
    "    else:\n",
    "        return title\n",
    "df['Size'] = df['Size'].apply(simplify_size)"
   ]
  },
  {
   "cell_type": "code",
   "execution_count": 65,
   "id": "66a7ec3f-4ecc-4741-9f95-fea14f1b0511",
   "metadata": {},
   "outputs": [
    {
     "data": {
      "text/plain": [
       "Size\n",
       "1001 to 5000 employees     150\n",
       "501 to 1000 employees      134\n",
       "10000+ employees           130\n",
       "201 to 500 employees       117\n",
       "51 to 200 employees         94\n",
       "5001 to 10000 employees     76\n",
       "1 to 50 employees           31\n",
       "Unknown                     10\n",
       "Name: count, dtype: int64"
      ]
     },
     "execution_count": 65,
     "metadata": {},
     "output_type": "execute_result"
    }
   ],
   "source": [
    "df['Size'].value_counts()"
   ]
  },
  {
   "cell_type": "markdown",
   "id": "d9400f73-8b9d-4c81-aa9a-a3b96e099114",
   "metadata": {},
   "source": [
    "# Exploratory Data Analysis"
   ]
  },
  {
   "cell_type": "code",
   "execution_count": 66,
   "id": "7c4b32af-8900-4374-8b6c-b9ebb05adec3",
   "metadata": {},
   "outputs": [
    {
     "data": {
      "text/html": [
       "<div>\n",
       "<style scoped>\n",
       "    .dataframe tbody tr th:only-of-type {\n",
       "        vertical-align: middle;\n",
       "    }\n",
       "\n",
       "    .dataframe tbody tr th {\n",
       "        vertical-align: top;\n",
       "    }\n",
       "\n",
       "    .dataframe thead th {\n",
       "        text-align: right;\n",
       "    }\n",
       "</style>\n",
       "<table border=\"1\" class=\"dataframe\">\n",
       "  <thead>\n",
       "    <tr style=\"text-align: right;\">\n",
       "      <th></th>\n",
       "      <th>Job Title</th>\n",
       "      <th>Salary Estimate</th>\n",
       "      <th>Job Description</th>\n",
       "      <th>Rating</th>\n",
       "      <th>Company Name</th>\n",
       "      <th>Location</th>\n",
       "      <th>Headquarters</th>\n",
       "      <th>Size</th>\n",
       "      <th>Founded</th>\n",
       "      <th>Type of ownership</th>\n",
       "      <th>...</th>\n",
       "      <th>job_state</th>\n",
       "      <th>company_age</th>\n",
       "      <th>python_job</th>\n",
       "      <th>r_job</th>\n",
       "      <th>aws_job</th>\n",
       "      <th>spark_job</th>\n",
       "      <th>excel_job</th>\n",
       "      <th>sql_job</th>\n",
       "      <th>simplified_data</th>\n",
       "      <th>Job_seniority</th>\n",
       "    </tr>\n",
       "  </thead>\n",
       "  <tbody>\n",
       "    <tr>\n",
       "      <th>0</th>\n",
       "      <td>Data Scientist</td>\n",
       "      <td>$53K-$91K (Glassdoor est.)</td>\n",
       "      <td>Data Scientist\\nLocation: Albuquerque, NM\\nEdu...</td>\n",
       "      <td>3.8</td>\n",
       "      <td>Tecolote Research</td>\n",
       "      <td>Albuquerque, NM</td>\n",
       "      <td>Goleta, CA</td>\n",
       "      <td>501 to 1000 employees</td>\n",
       "      <td>1973</td>\n",
       "      <td>Private</td>\n",
       "      <td>...</td>\n",
       "      <td>NM</td>\n",
       "      <td>50</td>\n",
       "      <td>1</td>\n",
       "      <td>0</td>\n",
       "      <td>0</td>\n",
       "      <td>0</td>\n",
       "      <td>1</td>\n",
       "      <td>0</td>\n",
       "      <td>data scientist</td>\n",
       "      <td>na</td>\n",
       "    </tr>\n",
       "  </tbody>\n",
       "</table>\n",
       "<p>1 rows × 29 columns</p>\n",
       "</div>"
      ],
      "text/plain": [
       "        Job Title             Salary Estimate  \\\n",
       "0  Data Scientist  $53K-$91K (Glassdoor est.)   \n",
       "\n",
       "                                     Job Description  Rating  \\\n",
       "0  Data Scientist\\nLocation: Albuquerque, NM\\nEdu...     3.8   \n",
       "\n",
       "        Company Name         Location Headquarters                   Size  \\\n",
       "0  Tecolote Research  Albuquerque, NM   Goleta, CA  501 to 1000 employees   \n",
       "\n",
       "   Founded Type of ownership  ... job_state company_age python_job  r_job  \\\n",
       "0     1973           Private  ...        NM          50          1      0   \n",
       "\n",
       "   aws_job  spark_job  excel_job  sql_job  simplified_data Job_seniority  \n",
       "0        0          0          1        0   data scientist            na  \n",
       "\n",
       "[1 rows x 29 columns]"
      ]
     },
     "execution_count": 66,
     "metadata": {},
     "output_type": "execute_result"
    }
   ],
   "source": [
    "df.head(1)"
   ]
  },
  {
   "cell_type": "code",
   "execution_count": 67,
   "id": "ab3ffc16-7e22-4b06-b035-758963fa8134",
   "metadata": {},
   "outputs": [
    {
     "data": {
      "text/html": [
       "<div>\n",
       "<style scoped>\n",
       "    .dataframe tbody tr th:only-of-type {\n",
       "        vertical-align: middle;\n",
       "    }\n",
       "\n",
       "    .dataframe tbody tr th {\n",
       "        vertical-align: top;\n",
       "    }\n",
       "\n",
       "    .dataframe thead th {\n",
       "        text-align: right;\n",
       "    }\n",
       "</style>\n",
       "<table border=\"1\" class=\"dataframe\">\n",
       "  <thead>\n",
       "    <tr style=\"text-align: right;\">\n",
       "      <th></th>\n",
       "      <th>count</th>\n",
       "      <th>mean</th>\n",
       "      <th>std</th>\n",
       "      <th>min</th>\n",
       "      <th>25%</th>\n",
       "      <th>50%</th>\n",
       "      <th>75%</th>\n",
       "      <th>max</th>\n",
       "    </tr>\n",
       "  </thead>\n",
       "  <tbody>\n",
       "    <tr>\n",
       "      <th>Rating</th>\n",
       "      <td>742.0</td>\n",
       "      <td>3.618868</td>\n",
       "      <td>0.801210</td>\n",
       "      <td>-1.0</td>\n",
       "      <td>3.3</td>\n",
       "      <td>3.7</td>\n",
       "      <td>4.0</td>\n",
       "      <td>5.0</td>\n",
       "    </tr>\n",
       "    <tr>\n",
       "      <th>Founded</th>\n",
       "      <td>742.0</td>\n",
       "      <td>1837.154987</td>\n",
       "      <td>497.183763</td>\n",
       "      <td>-1.0</td>\n",
       "      <td>1939.0</td>\n",
       "      <td>1988.0</td>\n",
       "      <td>2007.0</td>\n",
       "      <td>2019.0</td>\n",
       "    </tr>\n",
       "    <tr>\n",
       "      <th>Competitors</th>\n",
       "      <td>742.0</td>\n",
       "      <td>1.053908</td>\n",
       "      <td>1.384239</td>\n",
       "      <td>0.0</td>\n",
       "      <td>0.0</td>\n",
       "      <td>0.0</td>\n",
       "      <td>3.0</td>\n",
       "      <td>4.0</td>\n",
       "    </tr>\n",
       "    <tr>\n",
       "      <th>salary_per_hour</th>\n",
       "      <td>742.0</td>\n",
       "      <td>0.032345</td>\n",
       "      <td>0.177034</td>\n",
       "      <td>0.0</td>\n",
       "      <td>0.0</td>\n",
       "      <td>0.0</td>\n",
       "      <td>0.0</td>\n",
       "      <td>1.0</td>\n",
       "    </tr>\n",
       "    <tr>\n",
       "      <th>emp_provided_salary</th>\n",
       "      <td>742.0</td>\n",
       "      <td>0.022911</td>\n",
       "      <td>0.149721</td>\n",
       "      <td>0.0</td>\n",
       "      <td>0.0</td>\n",
       "      <td>0.0</td>\n",
       "      <td>0.0</td>\n",
       "      <td>1.0</td>\n",
       "    </tr>\n",
       "    <tr>\n",
       "      <th>min_salary</th>\n",
       "      <td>742.0</td>\n",
       "      <td>74.719677</td>\n",
       "      <td>30.980593</td>\n",
       "      <td>15.0</td>\n",
       "      <td>52.0</td>\n",
       "      <td>69.5</td>\n",
       "      <td>91.0</td>\n",
       "      <td>202.0</td>\n",
       "    </tr>\n",
       "    <tr>\n",
       "      <th>max_salary</th>\n",
       "      <td>742.0</td>\n",
       "      <td>128.149596</td>\n",
       "      <td>45.220324</td>\n",
       "      <td>16.0</td>\n",
       "      <td>96.0</td>\n",
       "      <td>124.0</td>\n",
       "      <td>155.0</td>\n",
       "      <td>306.0</td>\n",
       "    </tr>\n",
       "    <tr>\n",
       "      <th>avg_salary</th>\n",
       "      <td>742.0</td>\n",
       "      <td>100.626011</td>\n",
       "      <td>38.855948</td>\n",
       "      <td>13.5</td>\n",
       "      <td>73.5</td>\n",
       "      <td>97.5</td>\n",
       "      <td>122.5</td>\n",
       "      <td>254.0</td>\n",
       "    </tr>\n",
       "    <tr>\n",
       "      <th>company_age</th>\n",
       "      <td>742.0</td>\n",
       "      <td>49.389488</td>\n",
       "      <td>53.962906</td>\n",
       "      <td>-1.0</td>\n",
       "      <td>14.0</td>\n",
       "      <td>27.0</td>\n",
       "      <td>62.0</td>\n",
       "      <td>279.0</td>\n",
       "    </tr>\n",
       "    <tr>\n",
       "      <th>python_job</th>\n",
       "      <td>742.0</td>\n",
       "      <td>0.528302</td>\n",
       "      <td>0.499535</td>\n",
       "      <td>0.0</td>\n",
       "      <td>0.0</td>\n",
       "      <td>1.0</td>\n",
       "      <td>1.0</td>\n",
       "      <td>1.0</td>\n",
       "    </tr>\n",
       "    <tr>\n",
       "      <th>r_job</th>\n",
       "      <td>742.0</td>\n",
       "      <td>0.001348</td>\n",
       "      <td>0.036711</td>\n",
       "      <td>0.0</td>\n",
       "      <td>0.0</td>\n",
       "      <td>0.0</td>\n",
       "      <td>0.0</td>\n",
       "      <td>1.0</td>\n",
       "    </tr>\n",
       "    <tr>\n",
       "      <th>aws_job</th>\n",
       "      <td>742.0</td>\n",
       "      <td>0.237197</td>\n",
       "      <td>0.425651</td>\n",
       "      <td>0.0</td>\n",
       "      <td>0.0</td>\n",
       "      <td>0.0</td>\n",
       "      <td>0.0</td>\n",
       "      <td>1.0</td>\n",
       "    </tr>\n",
       "    <tr>\n",
       "      <th>spark_job</th>\n",
       "      <td>742.0</td>\n",
       "      <td>0.225067</td>\n",
       "      <td>0.417908</td>\n",
       "      <td>0.0</td>\n",
       "      <td>0.0</td>\n",
       "      <td>0.0</td>\n",
       "      <td>0.0</td>\n",
       "      <td>1.0</td>\n",
       "    </tr>\n",
       "    <tr>\n",
       "      <th>excel_job</th>\n",
       "      <td>742.0</td>\n",
       "      <td>0.522911</td>\n",
       "      <td>0.499812</td>\n",
       "      <td>0.0</td>\n",
       "      <td>0.0</td>\n",
       "      <td>1.0</td>\n",
       "      <td>1.0</td>\n",
       "      <td>1.0</td>\n",
       "    </tr>\n",
       "    <tr>\n",
       "      <th>sql_job</th>\n",
       "      <td>742.0</td>\n",
       "      <td>0.512129</td>\n",
       "      <td>0.500190</td>\n",
       "      <td>0.0</td>\n",
       "      <td>0.0</td>\n",
       "      <td>1.0</td>\n",
       "      <td>1.0</td>\n",
       "      <td>1.0</td>\n",
       "    </tr>\n",
       "  </tbody>\n",
       "</table>\n",
       "</div>"
      ],
      "text/plain": [
       "                     count         mean         std   min     25%     50%  \\\n",
       "Rating               742.0     3.618868    0.801210  -1.0     3.3     3.7   \n",
       "Founded              742.0  1837.154987  497.183763  -1.0  1939.0  1988.0   \n",
       "Competitors          742.0     1.053908    1.384239   0.0     0.0     0.0   \n",
       "salary_per_hour      742.0     0.032345    0.177034   0.0     0.0     0.0   \n",
       "emp_provided_salary  742.0     0.022911    0.149721   0.0     0.0     0.0   \n",
       "min_salary           742.0    74.719677   30.980593  15.0    52.0    69.5   \n",
       "max_salary           742.0   128.149596   45.220324  16.0    96.0   124.0   \n",
       "avg_salary           742.0   100.626011   38.855948  13.5    73.5    97.5   \n",
       "company_age          742.0    49.389488   53.962906  -1.0    14.0    27.0   \n",
       "python_job           742.0     0.528302    0.499535   0.0     0.0     1.0   \n",
       "r_job                742.0     0.001348    0.036711   0.0     0.0     0.0   \n",
       "aws_job              742.0     0.237197    0.425651   0.0     0.0     0.0   \n",
       "spark_job            742.0     0.225067    0.417908   0.0     0.0     0.0   \n",
       "excel_job            742.0     0.522911    0.499812   0.0     0.0     1.0   \n",
       "sql_job              742.0     0.512129    0.500190   0.0     0.0     1.0   \n",
       "\n",
       "                        75%     max  \n",
       "Rating                  4.0     5.0  \n",
       "Founded              2007.0  2019.0  \n",
       "Competitors             3.0     4.0  \n",
       "salary_per_hour         0.0     1.0  \n",
       "emp_provided_salary     0.0     1.0  \n",
       "min_salary             91.0   202.0  \n",
       "max_salary            155.0   306.0  \n",
       "avg_salary            122.5   254.0  \n",
       "company_age            62.0   279.0  \n",
       "python_job              1.0     1.0  \n",
       "r_job                   0.0     1.0  \n",
       "aws_job                 0.0     1.0  \n",
       "spark_job               0.0     1.0  \n",
       "excel_job               1.0     1.0  \n",
       "sql_job                 1.0     1.0  "
      ]
     },
     "execution_count": 67,
     "metadata": {},
     "output_type": "execute_result"
    }
   ],
   "source": [
    "df.describe().T"
   ]
  },
  {
   "cell_type": "code",
   "execution_count": 68,
   "id": "8c973df9-a8d1-4c17-9005-ff8e0a429ac6",
   "metadata": {},
   "outputs": [
    {
     "data": {
      "text/html": [
       "<div>\n",
       "<style scoped>\n",
       "    .dataframe tbody tr th:only-of-type {\n",
       "        vertical-align: middle;\n",
       "    }\n",
       "\n",
       "    .dataframe tbody tr th {\n",
       "        vertical-align: top;\n",
       "    }\n",
       "\n",
       "    .dataframe thead th {\n",
       "        text-align: right;\n",
       "    }\n",
       "</style>\n",
       "<table border=\"1\" class=\"dataframe\">\n",
       "  <thead>\n",
       "    <tr style=\"text-align: right;\">\n",
       "      <th></th>\n",
       "      <th>Job Title</th>\n",
       "      <th>Salary Estimate</th>\n",
       "      <th>Job Description</th>\n",
       "      <th>Rating</th>\n",
       "      <th>Company Name</th>\n",
       "      <th>Location</th>\n",
       "      <th>Headquarters</th>\n",
       "      <th>Size</th>\n",
       "      <th>Founded</th>\n",
       "      <th>Type of ownership</th>\n",
       "      <th>...</th>\n",
       "      <th>job_state</th>\n",
       "      <th>company_age</th>\n",
       "      <th>python_job</th>\n",
       "      <th>r_job</th>\n",
       "      <th>aws_job</th>\n",
       "      <th>spark_job</th>\n",
       "      <th>excel_job</th>\n",
       "      <th>sql_job</th>\n",
       "      <th>simplified_data</th>\n",
       "      <th>Job_seniority</th>\n",
       "    </tr>\n",
       "  </thead>\n",
       "  <tbody>\n",
       "    <tr>\n",
       "      <th>0</th>\n",
       "      <td>Data Scientist</td>\n",
       "      <td>$53K-$91K (Glassdoor est.)</td>\n",
       "      <td>Data Scientist\\nLocation: Albuquerque, NM\\nEdu...</td>\n",
       "      <td>3.8</td>\n",
       "      <td>Tecolote Research</td>\n",
       "      <td>Albuquerque, NM</td>\n",
       "      <td>Goleta, CA</td>\n",
       "      <td>501 to 1000 employees</td>\n",
       "      <td>1973</td>\n",
       "      <td>Private</td>\n",
       "      <td>...</td>\n",
       "      <td>NM</td>\n",
       "      <td>50</td>\n",
       "      <td>1</td>\n",
       "      <td>0</td>\n",
       "      <td>0</td>\n",
       "      <td>0</td>\n",
       "      <td>1</td>\n",
       "      <td>0</td>\n",
       "      <td>data scientist</td>\n",
       "      <td>na</td>\n",
       "    </tr>\n",
       "    <tr>\n",
       "      <th>1</th>\n",
       "      <td>Healthcare Data Scientist</td>\n",
       "      <td>$63K-$112K (Glassdoor est.)</td>\n",
       "      <td>What You Will Do:\\n\\nI. General Summary\\n\\nThe...</td>\n",
       "      <td>3.4</td>\n",
       "      <td>University of Maryland Medical System</td>\n",
       "      <td>Linthicum, MD</td>\n",
       "      <td>Baltimore, MD</td>\n",
       "      <td>10000+ employees</td>\n",
       "      <td>1984</td>\n",
       "      <td>Other Organization</td>\n",
       "      <td>...</td>\n",
       "      <td>MD</td>\n",
       "      <td>39</td>\n",
       "      <td>1</td>\n",
       "      <td>0</td>\n",
       "      <td>0</td>\n",
       "      <td>0</td>\n",
       "      <td>0</td>\n",
       "      <td>0</td>\n",
       "      <td>data scientist</td>\n",
       "      <td>na</td>\n",
       "    </tr>\n",
       "    <tr>\n",
       "      <th>2</th>\n",
       "      <td>Data Scientist</td>\n",
       "      <td>$80K-$90K (Glassdoor est.)</td>\n",
       "      <td>KnowBe4, Inc. is a high growth information sec...</td>\n",
       "      <td>4.8</td>\n",
       "      <td>KnowBe4</td>\n",
       "      <td>Clearwater, FL</td>\n",
       "      <td>Clearwater, FL</td>\n",
       "      <td>501 to 1000 employees</td>\n",
       "      <td>2010</td>\n",
       "      <td>Private</td>\n",
       "      <td>...</td>\n",
       "      <td>FL</td>\n",
       "      <td>13</td>\n",
       "      <td>1</td>\n",
       "      <td>0</td>\n",
       "      <td>0</td>\n",
       "      <td>1</td>\n",
       "      <td>1</td>\n",
       "      <td>1</td>\n",
       "      <td>data scientist</td>\n",
       "      <td>na</td>\n",
       "    </tr>\n",
       "    <tr>\n",
       "      <th>3</th>\n",
       "      <td>Data Scientist</td>\n",
       "      <td>$56K-$97K (Glassdoor est.)</td>\n",
       "      <td>*Organization and Job ID**\\nJob ID: 310709\\n\\n...</td>\n",
       "      <td>3.8</td>\n",
       "      <td>PNNL</td>\n",
       "      <td>Richland, WA</td>\n",
       "      <td>Richland, WA</td>\n",
       "      <td>1001 to 5000 employees</td>\n",
       "      <td>1965</td>\n",
       "      <td>Government</td>\n",
       "      <td>...</td>\n",
       "      <td>WA</td>\n",
       "      <td>58</td>\n",
       "      <td>1</td>\n",
       "      <td>0</td>\n",
       "      <td>0</td>\n",
       "      <td>0</td>\n",
       "      <td>0</td>\n",
       "      <td>0</td>\n",
       "      <td>data scientist</td>\n",
       "      <td>na</td>\n",
       "    </tr>\n",
       "    <tr>\n",
       "      <th>4</th>\n",
       "      <td>Data Scientist</td>\n",
       "      <td>$86K-$143K (Glassdoor est.)</td>\n",
       "      <td>Data Scientist\\nAffinity Solutions / Marketing...</td>\n",
       "      <td>2.9</td>\n",
       "      <td>Affinity Solutions</td>\n",
       "      <td>New York, NY</td>\n",
       "      <td>New York, NY</td>\n",
       "      <td>51 to 200 employees</td>\n",
       "      <td>1998</td>\n",
       "      <td>Private</td>\n",
       "      <td>...</td>\n",
       "      <td>NY</td>\n",
       "      <td>25</td>\n",
       "      <td>1</td>\n",
       "      <td>0</td>\n",
       "      <td>0</td>\n",
       "      <td>0</td>\n",
       "      <td>1</td>\n",
       "      <td>1</td>\n",
       "      <td>data scientist</td>\n",
       "      <td>na</td>\n",
       "    </tr>\n",
       "    <tr>\n",
       "      <th>...</th>\n",
       "      <td>...</td>\n",
       "      <td>...</td>\n",
       "      <td>...</td>\n",
       "      <td>...</td>\n",
       "      <td>...</td>\n",
       "      <td>...</td>\n",
       "      <td>...</td>\n",
       "      <td>...</td>\n",
       "      <td>...</td>\n",
       "      <td>...</td>\n",
       "      <td>...</td>\n",
       "      <td>...</td>\n",
       "      <td>...</td>\n",
       "      <td>...</td>\n",
       "      <td>...</td>\n",
       "      <td>...</td>\n",
       "      <td>...</td>\n",
       "      <td>...</td>\n",
       "      <td>...</td>\n",
       "      <td>...</td>\n",
       "      <td>...</td>\n",
       "    </tr>\n",
       "    <tr>\n",
       "      <th>950</th>\n",
       "      <td>Sr Scientist, Immuno-Oncology - Oncology</td>\n",
       "      <td>$58K-$111K (Glassdoor est.)</td>\n",
       "      <td>Site Name: USA - Massachusetts - Cambridge\\nPo...</td>\n",
       "      <td>3.9</td>\n",
       "      <td>GSK</td>\n",
       "      <td>Cambridge, MA</td>\n",
       "      <td>Brentford, United Kingdom</td>\n",
       "      <td>10000+ employees</td>\n",
       "      <td>1830</td>\n",
       "      <td>Public</td>\n",
       "      <td>...</td>\n",
       "      <td>MA</td>\n",
       "      <td>193</td>\n",
       "      <td>0</td>\n",
       "      <td>0</td>\n",
       "      <td>1</td>\n",
       "      <td>0</td>\n",
       "      <td>0</td>\n",
       "      <td>0</td>\n",
       "      <td>na</td>\n",
       "      <td>sr</td>\n",
       "    </tr>\n",
       "    <tr>\n",
       "      <th>951</th>\n",
       "      <td>Senior Data Engineer</td>\n",
       "      <td>$72K-$133K (Glassdoor est.)</td>\n",
       "      <td>THE CHALLENGE\\nEventbrite has a world-class da...</td>\n",
       "      <td>4.4</td>\n",
       "      <td>Eventbrite</td>\n",
       "      <td>Nashville, TN</td>\n",
       "      <td>San Francisco, CA</td>\n",
       "      <td>1001 to 5000 employees</td>\n",
       "      <td>2006</td>\n",
       "      <td>Public</td>\n",
       "      <td>...</td>\n",
       "      <td>TN</td>\n",
       "      <td>17</td>\n",
       "      <td>1</td>\n",
       "      <td>0</td>\n",
       "      <td>1</td>\n",
       "      <td>1</td>\n",
       "      <td>0</td>\n",
       "      <td>1</td>\n",
       "      <td>data engineer</td>\n",
       "      <td>sr</td>\n",
       "    </tr>\n",
       "    <tr>\n",
       "      <th>952</th>\n",
       "      <td>Project Scientist - Auton Lab, Robotics Institute</td>\n",
       "      <td>$56K-$91K (Glassdoor est.)</td>\n",
       "      <td>The Auton Lab at Carnegie Mellon University is...</td>\n",
       "      <td>2.6</td>\n",
       "      <td>Software Engineering Institute</td>\n",
       "      <td>Pittsburgh, PA</td>\n",
       "      <td>Pittsburgh, PA</td>\n",
       "      <td>501 to 1000 employees</td>\n",
       "      <td>1984</td>\n",
       "      <td>College / University</td>\n",
       "      <td>...</td>\n",
       "      <td>PA</td>\n",
       "      <td>39</td>\n",
       "      <td>0</td>\n",
       "      <td>0</td>\n",
       "      <td>0</td>\n",
       "      <td>0</td>\n",
       "      <td>1</td>\n",
       "      <td>0</td>\n",
       "      <td>na</td>\n",
       "      <td>na</td>\n",
       "    </tr>\n",
       "    <tr>\n",
       "      <th>953</th>\n",
       "      <td>Data Science Manager</td>\n",
       "      <td>$95K-$160K (Glassdoor est.)</td>\n",
       "      <td>Data Science ManagerResponsibilities:\\n\\nOvers...</td>\n",
       "      <td>3.2</td>\n",
       "      <td>Numeric, LLC</td>\n",
       "      <td>Allentown, PA</td>\n",
       "      <td>Chadds Ford, PA</td>\n",
       "      <td>1 to 50 employees</td>\n",
       "      <td>-1</td>\n",
       "      <td>Private</td>\n",
       "      <td>...</td>\n",
       "      <td>PA</td>\n",
       "      <td>-1</td>\n",
       "      <td>0</td>\n",
       "      <td>0</td>\n",
       "      <td>0</td>\n",
       "      <td>0</td>\n",
       "      <td>1</td>\n",
       "      <td>0</td>\n",
       "      <td>manager</td>\n",
       "      <td>na</td>\n",
       "    </tr>\n",
       "    <tr>\n",
       "      <th>955</th>\n",
       "      <td>Research Scientist – Security and Privacy</td>\n",
       "      <td>$61K-$126K (Glassdoor est.)</td>\n",
       "      <td>Returning Candidate? Log back in to the Career...</td>\n",
       "      <td>3.6</td>\n",
       "      <td>Riverside Research Institute</td>\n",
       "      <td>Beavercreek, OH</td>\n",
       "      <td>Arlington, VA</td>\n",
       "      <td>501 to 1000 employees</td>\n",
       "      <td>1967</td>\n",
       "      <td>Nonprofit Organization</td>\n",
       "      <td>...</td>\n",
       "      <td>OH</td>\n",
       "      <td>56</td>\n",
       "      <td>1</td>\n",
       "      <td>0</td>\n",
       "      <td>0</td>\n",
       "      <td>0</td>\n",
       "      <td>0</td>\n",
       "      <td>0</td>\n",
       "      <td>na</td>\n",
       "      <td>na</td>\n",
       "    </tr>\n",
       "  </tbody>\n",
       "</table>\n",
       "<p>742 rows × 29 columns</p>\n",
       "</div>"
      ],
      "text/plain": [
       "                                             Job Title  \\\n",
       "0                                       Data Scientist   \n",
       "1                            Healthcare Data Scientist   \n",
       "2                                       Data Scientist   \n",
       "3                                       Data Scientist   \n",
       "4                                       Data Scientist   \n",
       "..                                                 ...   \n",
       "950           Sr Scientist, Immuno-Oncology - Oncology   \n",
       "951                               Senior Data Engineer   \n",
       "952  Project Scientist - Auton Lab, Robotics Institute   \n",
       "953                               Data Science Manager   \n",
       "955          Research Scientist – Security and Privacy   \n",
       "\n",
       "                 Salary Estimate  \\\n",
       "0     $53K-$91K (Glassdoor est.)   \n",
       "1    $63K-$112K (Glassdoor est.)   \n",
       "2     $80K-$90K (Glassdoor est.)   \n",
       "3     $56K-$97K (Glassdoor est.)   \n",
       "4    $86K-$143K (Glassdoor est.)   \n",
       "..                           ...   \n",
       "950  $58K-$111K (Glassdoor est.)   \n",
       "951  $72K-$133K (Glassdoor est.)   \n",
       "952   $56K-$91K (Glassdoor est.)   \n",
       "953  $95K-$160K (Glassdoor est.)   \n",
       "955  $61K-$126K (Glassdoor est.)   \n",
       "\n",
       "                                       Job Description  Rating  \\\n",
       "0    Data Scientist\\nLocation: Albuquerque, NM\\nEdu...     3.8   \n",
       "1    What You Will Do:\\n\\nI. General Summary\\n\\nThe...     3.4   \n",
       "2    KnowBe4, Inc. is a high growth information sec...     4.8   \n",
       "3    *Organization and Job ID**\\nJob ID: 310709\\n\\n...     3.8   \n",
       "4    Data Scientist\\nAffinity Solutions / Marketing...     2.9   \n",
       "..                                                 ...     ...   \n",
       "950  Site Name: USA - Massachusetts - Cambridge\\nPo...     3.9   \n",
       "951  THE CHALLENGE\\nEventbrite has a world-class da...     4.4   \n",
       "952  The Auton Lab at Carnegie Mellon University is...     2.6   \n",
       "953  Data Science ManagerResponsibilities:\\n\\nOvers...     3.2   \n",
       "955  Returning Candidate? Log back in to the Career...     3.6   \n",
       "\n",
       "                              Company Name         Location  \\\n",
       "0                        Tecolote Research  Albuquerque, NM   \n",
       "1    University of Maryland Medical System    Linthicum, MD   \n",
       "2                                  KnowBe4   Clearwater, FL   \n",
       "3                                     PNNL     Richland, WA   \n",
       "4                       Affinity Solutions     New York, NY   \n",
       "..                                     ...              ...   \n",
       "950                                    GSK    Cambridge, MA   \n",
       "951                             Eventbrite    Nashville, TN   \n",
       "952         Software Engineering Institute   Pittsburgh, PA   \n",
       "953                           Numeric, LLC    Allentown, PA   \n",
       "955           Riverside Research Institute  Beavercreek, OH   \n",
       "\n",
       "                  Headquarters                    Size  Founded  \\\n",
       "0                   Goleta, CA   501 to 1000 employees     1973   \n",
       "1                Baltimore, MD        10000+ employees     1984   \n",
       "2               Clearwater, FL   501 to 1000 employees     2010   \n",
       "3                 Richland, WA  1001 to 5000 employees     1965   \n",
       "4                 New York, NY     51 to 200 employees     1998   \n",
       "..                         ...                     ...      ...   \n",
       "950  Brentford, United Kingdom        10000+ employees     1830   \n",
       "951          San Francisco, CA  1001 to 5000 employees     2006   \n",
       "952             Pittsburgh, PA   501 to 1000 employees     1984   \n",
       "953            Chadds Ford, PA       1 to 50 employees       -1   \n",
       "955              Arlington, VA   501 to 1000 employees     1967   \n",
       "\n",
       "          Type of ownership  ... job_state company_age python_job  r_job  \\\n",
       "0                   Private  ...        NM          50          1      0   \n",
       "1        Other Organization  ...        MD          39          1      0   \n",
       "2                   Private  ...        FL          13          1      0   \n",
       "3                Government  ...        WA          58          1      0   \n",
       "4                   Private  ...        NY          25          1      0   \n",
       "..                      ...  ...       ...         ...        ...    ...   \n",
       "950                  Public  ...        MA         193          0      0   \n",
       "951                  Public  ...        TN          17          1      0   \n",
       "952    College / University  ...        PA          39          0      0   \n",
       "953                 Private  ...        PA          -1          0      0   \n",
       "955  Nonprofit Organization  ...        OH          56          1      0   \n",
       "\n",
       "     aws_job  spark_job  excel_job  sql_job  simplified_data Job_seniority  \n",
       "0          0          0          1        0   data scientist            na  \n",
       "1          0          0          0        0   data scientist            na  \n",
       "2          0          1          1        1   data scientist            na  \n",
       "3          0          0          0        0   data scientist            na  \n",
       "4          0          0          1        1   data scientist            na  \n",
       "..       ...        ...        ...      ...              ...           ...  \n",
       "950        1          0          0        0               na            sr  \n",
       "951        1          1          0        1    data engineer            sr  \n",
       "952        0          0          1        0               na            na  \n",
       "953        0          0          1        0          manager            na  \n",
       "955        0          0          0        0               na            na  \n",
       "\n",
       "[742 rows x 29 columns]"
      ]
     },
     "execution_count": 68,
     "metadata": {},
     "output_type": "execute_result"
    }
   ],
   "source": [
    "df"
   ]
  },
  {
   "cell_type": "code",
   "execution_count": 69,
   "id": "dadad4a8-e4f0-4780-8b0f-6cdecc834055",
   "metadata": {},
   "outputs": [
    {
     "data": {
      "text/html": [
       "<div>\n",
       "<style scoped>\n",
       "    .dataframe tbody tr th:only-of-type {\n",
       "        vertical-align: middle;\n",
       "    }\n",
       "\n",
       "    .dataframe tbody tr th {\n",
       "        vertical-align: top;\n",
       "    }\n",
       "\n",
       "    .dataframe thead th {\n",
       "        text-align: right;\n",
       "    }\n",
       "</style>\n",
       "<table border=\"1\" class=\"dataframe\">\n",
       "  <thead>\n",
       "    <tr style=\"text-align: right;\">\n",
       "      <th></th>\n",
       "      <th>Job Title</th>\n",
       "      <th>Salary Estimate</th>\n",
       "      <th>Job Description</th>\n",
       "      <th>Rating</th>\n",
       "      <th>Company Name</th>\n",
       "      <th>Location</th>\n",
       "      <th>Headquarters</th>\n",
       "      <th>Size</th>\n",
       "      <th>Founded</th>\n",
       "      <th>Type of ownership</th>\n",
       "      <th>...</th>\n",
       "      <th>job_state</th>\n",
       "      <th>company_age</th>\n",
       "      <th>python_job</th>\n",
       "      <th>r_job</th>\n",
       "      <th>aws_job</th>\n",
       "      <th>spark_job</th>\n",
       "      <th>excel_job</th>\n",
       "      <th>sql_job</th>\n",
       "      <th>simplified_data</th>\n",
       "      <th>Job_seniority</th>\n",
       "    </tr>\n",
       "  </thead>\n",
       "  <tbody>\n",
       "    <tr>\n",
       "      <th>0</th>\n",
       "      <td>Data Scientist</td>\n",
       "      <td>$53K-$91K (Glassdoor est.)</td>\n",
       "      <td>Data Scientist\\nLocation: Albuquerque, NM\\nEdu...</td>\n",
       "      <td>3.8</td>\n",
       "      <td>Tecolote Research</td>\n",
       "      <td>Albuquerque, NM</td>\n",
       "      <td>Goleta, CA</td>\n",
       "      <td>501 to 1000 employees</td>\n",
       "      <td>1973</td>\n",
       "      <td>Private</td>\n",
       "      <td>...</td>\n",
       "      <td>NM</td>\n",
       "      <td>50</td>\n",
       "      <td>1</td>\n",
       "      <td>0</td>\n",
       "      <td>0</td>\n",
       "      <td>0</td>\n",
       "      <td>1</td>\n",
       "      <td>0</td>\n",
       "      <td>data scientist</td>\n",
       "      <td>na</td>\n",
       "    </tr>\n",
       "  </tbody>\n",
       "</table>\n",
       "<p>1 rows × 29 columns</p>\n",
       "</div>"
      ],
      "text/plain": [
       "        Job Title             Salary Estimate  \\\n",
       "0  Data Scientist  $53K-$91K (Glassdoor est.)   \n",
       "\n",
       "                                     Job Description  Rating  \\\n",
       "0  Data Scientist\\nLocation: Albuquerque, NM\\nEdu...     3.8   \n",
       "\n",
       "        Company Name         Location Headquarters                   Size  \\\n",
       "0  Tecolote Research  Albuquerque, NM   Goleta, CA  501 to 1000 employees   \n",
       "\n",
       "   Founded Type of ownership  ... job_state company_age python_job  r_job  \\\n",
       "0     1973           Private  ...        NM          50          1      0   \n",
       "\n",
       "   aws_job  spark_job  excel_job  sql_job  simplified_data Job_seniority  \n",
       "0        0          0          1        0   data scientist            na  \n",
       "\n",
       "[1 rows x 29 columns]"
      ]
     },
     "execution_count": 69,
     "metadata": {},
     "output_type": "execute_result"
    }
   ],
   "source": [
    "df.head(1)"
   ]
  },
  {
   "cell_type": "code",
   "execution_count": 70,
   "id": "7f8e5e38-8938-44ba-abff-e81efb701e30",
   "metadata": {},
   "outputs": [
    {
     "data": {
      "text/plain": [
       "Index(['Job Title', 'Salary Estimate', 'Job Description', 'Rating',\n",
       "       'Company Name', 'Location', 'Headquarters', 'Size', 'Founded',\n",
       "       'Type of ownership', 'Industry', 'Sector', 'Revenue', 'Competitors',\n",
       "       'salary_per_hour', 'emp_provided_salary', 'min_salary', 'max_salary',\n",
       "       'avg_salary', 'job_state', 'company_age', 'python_job', 'r_job',\n",
       "       'aws_job', 'spark_job', 'excel_job', 'sql_job', 'simplified_data',\n",
       "       'Job_seniority'],\n",
       "      dtype='object')"
      ]
     },
     "execution_count": 70,
     "metadata": {},
     "output_type": "execute_result"
    }
   ],
   "source": [
    "df.columns"
   ]
  },
  {
   "cell_type": "code",
   "execution_count": 71,
   "id": "b54f073b-d276-4d11-a718-2bb4389ad4f4",
   "metadata": {},
   "outputs": [],
   "source": [
    "import seaborn as sns\n",
    "import warnings\n",
    "warnings.filterwarnings('ignore')"
   ]
  },
  {
   "cell_type": "code",
   "execution_count": 72,
   "id": "e773e96e-f0f9-4f34-a9ec-89324e92d78c",
   "metadata": {},
   "outputs": [
    {
     "data": {
      "text/plain": [
       "Text(0.5, 1.0, 'Rating Histograms')"
      ]
     },
     "execution_count": 72,
     "metadata": {},
     "output_type": "execute_result"
    },
    {
     "data": {
      "image/png": "[encoded data removed]",
      "text/plain": [
       "<Figure size 640x480 with 1 Axes>"
      ]
     },
     "metadata": {},
     "output_type": "display_data"
    }
   ],
   "source": [
    "df['Rating'].hist()\n",
    "plt.xlabel('Rating')\n",
    "plt.ylabel('Count')\n",
    "plt.title('Rating Histograms')"
   ]
  },
  {
   "cell_type": "code",
   "execution_count": 73,
   "id": "519f4b5f-201b-4452-90af-a6fae8cf200f",
   "metadata": {},
   "outputs": [
    {
     "data": {
      "text/plain": [
       "Text(0.5, 1.0, 'Companies Age Histogram')"
      ]
     },
     "execution_count": 73,
     "metadata": {},
     "output_type": "execute_result"
    },
    {
     "data": {
      "image/png": "[encoded data removed]",
      "text/plain": [
       "<Figure size 640x480 with 1 Axes>"
      ]
     },
     "metadata": {},
     "output_type": "display_data"
    }
   ],
   "source": [
    "df['company_age'].hist()\n",
    "plt.xlabel('Time (in years)')\n",
    "plt.ylabel('Count')\n",
    "plt.title(\"Companies Age Histogram\")"
   ]
  },
  {
   "cell_type": "code",
   "execution_count": 74,
   "id": "679689d3-c5b2-4f70-89ca-a64b5aae7926",
   "metadata": {},
   "outputs": [
    {
     "data": {
      "text/plain": [
       "Text(0.5, 1.0, 'Different roles in Job')"
      ]
     },
     "execution_count": 74,
     "metadata": {},
     "output_type": "execute_result"
    },
    {
     "data": {
      "image/png": "[encoded data removed]",
      "text/plain": [
       "<Figure size 640x480 with 1 Axes>"
      ]
     },
     "metadata": {},
     "output_type": "display_data"
    }
   ],
   "source": [
    "df['avg_salary'].hist()\n",
    "plt.xlabel('Annual Salary (in $ )')\n",
    "plt.ylabel('Count')\n",
    "plt.title('Different roles in Job')"
   ]
  },
  {
   "cell_type": "code",
   "execution_count": 75,
   "id": "c53c6c50-0e25-41e2-9bd7-ea7eb1e353c2",
   "metadata": {},
   "outputs": [
    {
     "data": {
      "text/plain": [
       "<Axes: ylabel='avg_salary'>"
      ]
     },
     "execution_count": 75,
     "metadata": {},
     "output_type": "execute_result"
    },
    {
     "data": {
      "image/png": "[encoded data removed]",
      "text/plain": [
       "<Figure size 640x480 with 1 Axes>"
      ]
     },
     "metadata": {},
     "output_type": "display_data"
    }
   ],
   "source": [
    "sns.boxplot(y = 'avg_salary', data = df, orient = 'v', palette = 'Set3')"
   ]
  },
  {
   "cell_type": "code",
   "execution_count": 76,
   "id": "e33354ad-fa48-4981-80dd-6ed1ace835e1",
   "metadata": {},
   "outputs": [
    {
     "data": {
      "text/plain": [
       "<Axes: ylabel='company_age'>"
      ]
     },
     "execution_count": 76,
     "metadata": {},
     "output_type": "execute_result"
    },
    {
     "data": {
      "image/png": "[encoded data removed]",
      "text/plain": [
       "<Figure size 640x480 with 1 Axes>"
      ]
     },
     "metadata": {},
     "output_type": "display_data"
    }
   ],
   "source": [
    "sns.boxplot(y = 'company_age', data = df, orient = 'v', palette = 'Set3')"
   ]
  },
  {
   "cell_type": "code",
   "execution_count": 77,
   "id": "7f6c8921-a8df-4bf3-bc1f-4c4a96c3a072",
   "metadata": {},
   "outputs": [
    {
     "data": {
      "text/plain": [
       "<Axes: ylabel='Rating'>"
      ]
     },
     "execution_count": 77,
     "metadata": {},
     "output_type": "execute_result"
    },
    {
     "data": {
      "image/png": "[encoded data removed]",
      "text/plain": [
       "<Figure size 640x480 with 1 Axes>"
      ]
     },
     "metadata": {},
     "output_type": "display_data"
    }
   ],
   "source": [
    "sns.boxplot(y = 'Rating', data = df, orient = 'v', palette = 'Set3')"
   ]
  },
  {
   "cell_type": "code",
   "execution_count": 78,
   "id": "02771509-1067-41ce-88f0-67ea7db312d0",
   "metadata": {},
   "outputs": [
    {
     "data": {
      "text/html": [
       "<div>\n",
       "<style scoped>\n",
       "    .dataframe tbody tr th:only-of-type {\n",
       "        vertical-align: middle;\n",
       "    }\n",
       "\n",
       "    .dataframe tbody tr th {\n",
       "        vertical-align: top;\n",
       "    }\n",
       "\n",
       "    .dataframe thead th {\n",
       "        text-align: right;\n",
       "    }\n",
       "</style>\n",
       "<table border=\"1\" class=\"dataframe\">\n",
       "  <thead>\n",
       "    <tr style=\"text-align: right;\">\n",
       "      <th></th>\n",
       "      <th>company_age</th>\n",
       "      <th>Rating</th>\n",
       "      <th>avg_salary</th>\n",
       "    </tr>\n",
       "  </thead>\n",
       "  <tbody>\n",
       "    <tr>\n",
       "      <th>company_age</th>\n",
       "      <td>1.000000</td>\n",
       "      <td>0.026164</td>\n",
       "      <td>0.019410</td>\n",
       "    </tr>\n",
       "    <tr>\n",
       "      <th>Rating</th>\n",
       "      <td>0.026164</td>\n",
       "      <td>1.000000</td>\n",
       "      <td>0.013492</td>\n",
       "    </tr>\n",
       "    <tr>\n",
       "      <th>avg_salary</th>\n",
       "      <td>0.019410</td>\n",
       "      <td>0.013492</td>\n",
       "      <td>1.000000</td>\n",
       "    </tr>\n",
       "  </tbody>\n",
       "</table>\n",
       "</div>"
      ],
      "text/plain": [
       "             company_age    Rating  avg_salary\n",
       "company_age     1.000000  0.026164    0.019410\n",
       "Rating          0.026164  1.000000    0.013492\n",
       "avg_salary      0.019410  0.013492    1.000000"
      ]
     },
     "execution_count": 78,
     "metadata": {},
     "output_type": "execute_result"
    }
   ],
   "source": [
    "df[['company_age', 'Rating', 'avg_salary']].corr()"
   ]
  },
  {
   "cell_type": "code",
   "execution_count": 79,
   "id": "02f35261-5dc1-4799-b4f8-1f757c3a4eff",
   "metadata": {},
   "outputs": [
    {
     "data": {
      "text/plain": [
       "<Axes: >"
      ]
     },
     "execution_count": 79,
     "metadata": {},
     "output_type": "execute_result"
    },
    {
     "data": {
      "image/png": "[encoded data removed]",
      "text/plain": [
       "<Figure size 640x480 with 2 Axes>"
      ]
     },
     "metadata": {},
     "output_type": "display_data"
    }
   ],
   "source": [
    "cmap = sns.diverging_palette(220,10, as_cmap = True)\n",
    "sns.heatmap(df[['company_age', 'Rating', 'avg_salary']].corr(), vmax = .3, center = 0, cmap = cmap, square = True)"
   ]
  },
  {
   "cell_type": "code",
   "execution_count": 80,
   "id": "d0344dde-3cfa-46f6-ae38-8324e90213c3",
   "metadata": {},
   "outputs": [
    {
     "data": {
      "text/plain": [
       "Index(['Job Title', 'Salary Estimate', 'Job Description', 'Rating',\n",
       "       'Company Name', 'Location', 'Headquarters', 'Size', 'Founded',\n",
       "       'Type of ownership', 'Industry', 'Sector', 'Revenue', 'Competitors',\n",
       "       'salary_per_hour', 'emp_provided_salary', 'min_salary', 'max_salary',\n",
       "       'avg_salary', 'job_state', 'company_age', 'python_job', 'r_job',\n",
       "       'aws_job', 'spark_job', 'excel_job', 'sql_job', 'simplified_data',\n",
       "       'Job_seniority'],\n",
       "      dtype='object')"
      ]
     },
     "execution_count": 80,
     "metadata": {},
     "output_type": "execute_result"
    }
   ],
   "source": [
    "df.columns"
   ]
  },
  {
   "cell_type": "code",
   "execution_count": 81,
   "id": "77265b83-dd38-416f-8df0-bd59b47d9d9e",
   "metadata": {},
   "outputs": [
    {
     "data": {
      "text/plain": [
       "Job Title               object\n",
       "Salary Estimate         object\n",
       "Job Description         object\n",
       "Rating                 float64\n",
       "Company Name            object\n",
       "Location                object\n",
       "Headquarters            object\n",
       "Size                    object\n",
       "Founded                  int64\n",
       "Type of ownership       object\n",
       "Industry                object\n",
       "Sector                  object\n",
       "Revenue                 object\n",
       "Competitors              int64\n",
       "salary_per_hour          int64\n",
       "emp_provided_salary      int64\n",
       "min_salary               int64\n",
       "max_salary               int64\n",
       "avg_salary             float64\n",
       "job_state               object\n",
       "company_age              int64\n",
       "python_job               int64\n",
       "r_job                    int64\n",
       "aws_job                  int64\n",
       "spark_job                int64\n",
       "excel_job                int64\n",
       "sql_job                  int64\n",
       "simplified_data         object\n",
       "Job_seniority           object\n",
       "dtype: object"
      ]
     },
     "execution_count": 81,
     "metadata": {},
     "output_type": "execute_result"
    }
   ],
   "source": [
    "df.dtypes"
   ]
  },
  {
   "cell_type": "code",
   "execution_count": 82,
   "id": "3079e4ba-fa74-4f6f-91b8-258d93e599d3",
   "metadata": {},
   "outputs": [],
   "source": [
    "df_categorical = df[['Job Title','Company Name','Size','Sector', 'Location','Headquarters','Type of ownership','Industry','Revenue','simplified_data','Job_seniority']]"
   ]
  },
  {
   "cell_type": "code",
   "execution_count": 83,
   "id": "275830ea-b1b5-41c7-8b13-4eff8bfcb38f",
   "metadata": {},
   "outputs": [
    {
     "name": "stdout",
     "output_type": "stream",
     "text": [
      "Graph for Location \n",
      "Total records: 20\n"
     ]
    },
    {
     "data": {
      "image/png": "[encoded data removed]",
      "text/plain": [
       "<Figure size 640x480 with 1 Axes>"
      ]
     },
     "metadata": {},
     "output_type": "display_data"
    },
    {
     "name": "stdout",
     "output_type": "stream",
     "text": [
      "Graph for Headquarters \n",
      "Total records: 20\n"
     ]
    },
    {
     "data": {
      "image/png": "[encoded data removed]",
      "text/plain": [
       "<Figure size 640x480 with 1 Axes>"
      ]
     },
     "metadata": {},
     "output_type": "display_data"
    }
   ],
   "source": [
    "for i in ['Location','Headquarters']:\n",
    "    unique_categories = df_categorical[i].value_counts()[:20]\n",
    "    print('Graph for {} \\nTotal records: {}'. format(i, len(unique_categories)))\n",
    "    chart = sns.barplot(x = unique_categories, y = unique_categories.index)\n",
    "    chart.set_xticklabels(chart.get_xticklabels(), rotation = 90)\n",
    "    plt.show()\n",
    "    "
   ]
  },
  {
   "cell_type": "code",
   "execution_count": 84,
   "id": "91e0aff7-4f24-4444-b466-dca51321f73b",
   "metadata": {},
   "outputs": [
    {
     "name": "stdout",
     "output_type": "stream",
     "text": [
      "Graph for Company Name \n",
      "Total records: 20\n"
     ]
    },
    {
     "data": {
      "image/png": "[encoded data removed]",
      "text/plain": [
       "<Figure size 640x480 with 1 Axes>"
      ]
     },
     "metadata": {},
     "output_type": "display_data"
    },
    {
     "name": "stdout",
     "output_type": "stream",
     "text": [
      "Graph for Size \n",
      "Total records: 8\n"
     ]
    },
    {
     "data": {
      "image/png": "[encoded data removed]",
      "text/plain": [
       "<Figure size 640x480 with 1 Axes>"
      ]
     },
     "metadata": {},
     "output_type": "display_data"
    },
    {
     "name": "stdout",
     "output_type": "stream",
     "text": [
      "Graph for Type of ownership \n",
      "Total records: 9\n"
     ]
    },
    {
     "data": {
      "image/png": "[encoded data removed]",
      "text/plain": [
       "<Figure size 640x480 with 1 Axes>"
      ]
     },
     "metadata": {},
     "output_type": "display_data"
    },
    {
     "name": "stdout",
     "output_type": "stream",
     "text": [
      "Graph for Revenue \n",
      "Total records: 13\n"
     ]
    },
    {
     "data": {
      "image/png": "[encoded data removed]",
      "text/plain": [
       "<Figure size 640x480 with 1 Axes>"
      ]
     },
     "metadata": {},
     "output_type": "display_data"
    }
   ],
   "source": [
    "for i in ['Company Name','Size','Type of ownership','Revenue']:\n",
    "    unique_categories = df_categorical[i].value_counts()[:20]\n",
    "    print('Graph for {} \\nTotal records: {}'. format(i, len(unique_categories)))\n",
    "    chart = sns.barplot(x = unique_categories, y = unique_categories.index)\n",
    "    chart.set_xticklabels(chart.get_xticklabels(), rotation = 90)\n",
    "    plt.show()\n",
    "    "
   ]
  },
  {
   "cell_type": "code",
   "execution_count": 85,
   "id": "e5b05e9c-c3f1-4bb0-820d-04caa9dd4ce2",
   "metadata": {},
   "outputs": [
    {
     "name": "stdout",
     "output_type": "stream",
     "text": [
      "Graph for Industry \n",
      "Total records: 20\n"
     ]
    },
    {
     "data": {
      "image/png": "[encoded data removed]",
      "text/plain": [
       "<Figure size 640x480 with 1 Axes>"
      ]
     },
     "metadata": {},
     "output_type": "display_data"
    },
    {
     "name": "stdout",
     "output_type": "stream",
     "text": [
      "Graph for Sector \n",
      "Total records: 20\n"
     ]
    },
    {
     "data": {
      "image/png": "[encoded data removed]",
      "text/plain": [
       "<Figure size 640x480 with 1 Axes>"
      ]
     },
     "metadata": {},
     "output_type": "display_data"
    }
   ],
   "source": [
    "for i in ['Industry', 'Sector']:\n",
    "    unique_categories = df_categorical[i].value_counts()[:20]\n",
    "    print('Graph for {} \\nTotal records: {}'. format(i, len(unique_categories)))\n",
    "    chart = sns.barplot(x = unique_categories, y = unique_categories.index)\n",
    "    chart.set_xticklabels(chart.get_xticklabels(), rotation = 90)\n",
    "    plt.show()\n",
    "    "
   ]
  },
  {
   "cell_type": "code",
   "execution_count": 86,
   "id": "d9cb3029-5e2f-4bb5-90e2-56c6405c8ff6",
   "metadata": {},
   "outputs": [
    {
     "name": "stdout",
     "output_type": "stream",
     "text": [
      "Graph for simplified_data \n",
      "Total records: 7\n"
     ]
    },
    {
     "data": {
      "image/png": "[encoded data removed]",
      "text/plain": [
       "<Figure size 640x480 with 1 Axes>"
      ]
     },
     "metadata": {},
     "output_type": "display_data"
    },
    {
     "name": "stdout",
     "output_type": "stream",
     "text": [
      "Graph for Job_seniority \n",
      "Total records: 3\n"
     ]
    },
    {
     "data": {
      "image/png": "[encoded data removed]",
      "text/plain": [
       "<Figure size 640x480 with 1 Axes>"
      ]
     },
     "metadata": {},
     "output_type": "display_data"
    }
   ],
   "source": [
    "for i in ['simplified_data','Job_seniority']:\n",
    "    unique_categories = df_categorical[i].value_counts()[:20]\n",
    "    print('Graph for {} \\nTotal records: {}'. format(i, len(unique_categories)))\n",
    "    chart = sns.barplot(x = unique_categories, y = unique_categories.index)\n",
    "    chart.set_xticklabels(chart.get_xticklabels(), rotation = 90)\n",
    "    plt.show()\n",
    "    "
   ]
  },
  {
   "cell_type": "code",
   "execution_count": 87,
   "id": "572f1ce8-4dd2-4fab-9dab-01c9d9d0bbf5",
   "metadata": {},
   "outputs": [
    {
     "data": {
      "text/html": [
       "<div>\n",
       "<style scoped>\n",
       "    .dataframe tbody tr th:only-of-type {\n",
       "        vertical-align: middle;\n",
       "    }\n",
       "\n",
       "    .dataframe tbody tr th {\n",
       "        vertical-align: top;\n",
       "    }\n",
       "\n",
       "    .dataframe thead th {\n",
       "        text-align: right;\n",
       "    }\n",
       "</style>\n",
       "<table border=\"1\" class=\"dataframe\">\n",
       "  <thead>\n",
       "    <tr style=\"text-align: right;\">\n",
       "      <th></th>\n",
       "      <th></th>\n",
       "      <th>avg_salary</th>\n",
       "    </tr>\n",
       "    <tr>\n",
       "      <th>simplified_data</th>\n",
       "      <th>Job_seniority</th>\n",
       "      <th></th>\n",
       "    </tr>\n",
       "  </thead>\n",
       "  <tbody>\n",
       "    <tr>\n",
       "      <th rowspan=\"3\" valign=\"top\">analyst</th>\n",
       "      <th>jr</th>\n",
       "      <td>56.500000</td>\n",
       "    </tr>\n",
       "    <tr>\n",
       "      <th>na</th>\n",
       "      <td>61.155405</td>\n",
       "    </tr>\n",
       "    <tr>\n",
       "      <th>sr</th>\n",
       "      <td>79.092593</td>\n",
       "    </tr>\n",
       "    <tr>\n",
       "      <th rowspan=\"2\" valign=\"top\">data engineer</th>\n",
       "      <th>na</th>\n",
       "      <td>96.701220</td>\n",
       "    </tr>\n",
       "    <tr>\n",
       "      <th>sr</th>\n",
       "      <td>124.689189</td>\n",
       "    </tr>\n",
       "    <tr>\n",
       "      <th rowspan=\"3\" valign=\"top\">data scientist</th>\n",
       "      <th>jr</th>\n",
       "      <td>106.500000</td>\n",
       "    </tr>\n",
       "    <tr>\n",
       "      <th>na</th>\n",
       "      <td>107.043011</td>\n",
       "    </tr>\n",
       "    <tr>\n",
       "      <th>sr</th>\n",
       "      <td>138.956522</td>\n",
       "    </tr>\n",
       "    <tr>\n",
       "      <th>director</th>\n",
       "      <th>na</th>\n",
       "      <td>168.607143</td>\n",
       "    </tr>\n",
       "    <tr>\n",
       "      <th>manager</th>\n",
       "      <th>na</th>\n",
       "      <td>84.022727</td>\n",
       "    </tr>\n",
       "    <tr>\n",
       "      <th rowspan=\"2\" valign=\"top\">mle</th>\n",
       "      <th>na</th>\n",
       "      <td>119.133333</td>\n",
       "    </tr>\n",
       "    <tr>\n",
       "      <th>sr</th>\n",
       "      <td>142.071429</td>\n",
       "    </tr>\n",
       "    <tr>\n",
       "      <th rowspan=\"2\" valign=\"top\">na</th>\n",
       "      <th>na</th>\n",
       "      <td>73.988189</td>\n",
       "    </tr>\n",
       "    <tr>\n",
       "      <th>sr</th>\n",
       "      <td>109.061404</td>\n",
       "    </tr>\n",
       "  </tbody>\n",
       "</table>\n",
       "</div>"
      ],
      "text/plain": [
       "                               avg_salary\n",
       "simplified_data Job_seniority            \n",
       "analyst         jr              56.500000\n",
       "                na              61.155405\n",
       "                sr              79.092593\n",
       "data engineer   na              96.701220\n",
       "                sr             124.689189\n",
       "data scientist  jr             106.500000\n",
       "                na             107.043011\n",
       "                sr             138.956522\n",
       "director        na             168.607143\n",
       "manager         na              84.022727\n",
       "mle             na             119.133333\n",
       "                sr             142.071429\n",
       "na              na              73.988189\n",
       "                sr             109.061404"
      ]
     },
     "execution_count": 87,
     "metadata": {},
     "output_type": "execute_result"
    }
   ],
   "source": [
    "pd.pivot_table(df, index = ['simplified_data','Job_seniority'], values = 'avg_salary')"
   ]
  },
  {
   "cell_type": "code",
   "execution_count": 88,
   "id": "994b275a-36d0-44e1-859f-376f6c3a47d9",
   "metadata": {},
   "outputs": [
    {
     "data": {
      "text/html": [
       "<div>\n",
       "<style scoped>\n",
       "    .dataframe tbody tr th:only-of-type {\n",
       "        vertical-align: middle;\n",
       "    }\n",
       "\n",
       "    .dataframe tbody tr th {\n",
       "        vertical-align: top;\n",
       "    }\n",
       "\n",
       "    .dataframe thead th {\n",
       "        text-align: right;\n",
       "    }\n",
       "</style>\n",
       "<table border=\"1\" class=\"dataframe\">\n",
       "  <thead>\n",
       "    <tr style=\"text-align: right;\">\n",
       "      <th></th>\n",
       "      <th></th>\n",
       "      <th>avg_salary</th>\n",
       "    </tr>\n",
       "    <tr>\n",
       "      <th>job_state</th>\n",
       "      <th>simplified_data</th>\n",
       "      <th></th>\n",
       "    </tr>\n",
       "  </thead>\n",
       "  <tbody>\n",
       "    <tr>\n",
       "      <th>IL</th>\n",
       "      <th>director</th>\n",
       "      <td>221.750000</td>\n",
       "    </tr>\n",
       "    <tr>\n",
       "      <th>CA</th>\n",
       "      <th>mle</th>\n",
       "      <td>177.300000</td>\n",
       "    </tr>\n",
       "    <tr>\n",
       "      <th>NJ</th>\n",
       "      <th>director</th>\n",
       "      <td>161.500000</td>\n",
       "    </tr>\n",
       "    <tr>\n",
       "      <th>DC</th>\n",
       "      <th>data scientist</th>\n",
       "      <td>149.000000</td>\n",
       "    </tr>\n",
       "    <tr>\n",
       "      <th>CA</th>\n",
       "      <th>data scientist</th>\n",
       "      <td>143.044776</td>\n",
       "    </tr>\n",
       "    <tr>\n",
       "      <th>...</th>\n",
       "      <th>...</th>\n",
       "      <td>...</td>\n",
       "    </tr>\n",
       "    <tr>\n",
       "      <th rowspan=\"2\" valign=\"top\">CO</th>\n",
       "      <th>na</th>\n",
       "      <td>31.500000</td>\n",
       "    </tr>\n",
       "    <tr>\n",
       "      <th>analyst</th>\n",
       "      <td>29.500000</td>\n",
       "    </tr>\n",
       "    <tr>\n",
       "      <th>DE</th>\n",
       "      <th>na</th>\n",
       "      <td>27.500000</td>\n",
       "    </tr>\n",
       "    <tr>\n",
       "      <th>LA</th>\n",
       "      <th>na</th>\n",
       "      <td>20.000000</td>\n",
       "    </tr>\n",
       "    <tr>\n",
       "      <th>TN</th>\n",
       "      <th>analyst</th>\n",
       "      <td>13.500000</td>\n",
       "    </tr>\n",
       "  </tbody>\n",
       "</table>\n",
       "<p>115 rows × 1 columns</p>\n",
       "</div>"
      ],
      "text/plain": [
       "                           avg_salary\n",
       "job_state simplified_data            \n",
       "IL        director         221.750000\n",
       "CA        mle              177.300000\n",
       "NJ        director         161.500000\n",
       "DC        data scientist   149.000000\n",
       "CA        data scientist   143.044776\n",
       "...                               ...\n",
       "CO        na                31.500000\n",
       "          analyst           29.500000\n",
       "DE        na                27.500000\n",
       "LA        na                20.000000\n",
       "TN        analyst           13.500000\n",
       "\n",
       "[115 rows x 1 columns]"
      ]
     },
     "execution_count": 88,
     "metadata": {},
     "output_type": "execute_result"
    }
   ],
   "source": [
    "pd.pivot_table(df, index=['job_state', 'simplified_data'], values='avg_salary', aggfunc='mean').sort_values(by='avg_salary', ascending=False)\n"
   ]
  },
  {
   "cell_type": "code",
   "execution_count": 89,
   "id": "59083bef-ca12-4223-b09a-e834fdebb636",
   "metadata": {},
   "outputs": [
    {
     "data": {
      "text/html": [
       "<div>\n",
       "<style scoped>\n",
       "    .dataframe tbody tr th:only-of-type {\n",
       "        vertical-align: middle;\n",
       "    }\n",
       "\n",
       "    .dataframe tbody tr th {\n",
       "        vertical-align: top;\n",
       "    }\n",
       "\n",
       "    .dataframe thead th {\n",
       "        text-align: right;\n",
       "    }\n",
       "</style>\n",
       "<table border=\"1\" class=\"dataframe\">\n",
       "  <thead>\n",
       "    <tr style=\"text-align: right;\">\n",
       "      <th></th>\n",
       "      <th>avg_salary</th>\n",
       "    </tr>\n",
       "    <tr>\n",
       "      <th>job_state</th>\n",
       "      <th></th>\n",
       "    </tr>\n",
       "  </thead>\n",
       "  <tbody>\n",
       "    <tr>\n",
       "      <th>CA</th>\n",
       "      <td>123.619205</td>\n",
       "    </tr>\n",
       "    <tr>\n",
       "      <th>IL</th>\n",
       "      <td>116.662500</td>\n",
       "    </tr>\n",
       "    <tr>\n",
       "      <th>DC</th>\n",
       "      <td>110.181818</td>\n",
       "    </tr>\n",
       "    <tr>\n",
       "      <th>MA</th>\n",
       "      <td>106.281553</td>\n",
       "    </tr>\n",
       "    <tr>\n",
       "      <th>NJ</th>\n",
       "      <td>104.558824</td>\n",
       "    </tr>\n",
       "    <tr>\n",
       "      <th>MI</th>\n",
       "      <td>100.250000</td>\n",
       "    </tr>\n",
       "    <tr>\n",
       "      <th>RI</th>\n",
       "      <td>100.000000</td>\n",
       "    </tr>\n",
       "    <tr>\n",
       "      <th>NY</th>\n",
       "      <td>98.652778</td>\n",
       "    </tr>\n",
       "    <tr>\n",
       "      <th>NC</th>\n",
       "      <td>98.452381</td>\n",
       "    </tr>\n",
       "    <tr>\n",
       "      <th>MD</th>\n",
       "      <td>97.357143</td>\n",
       "    </tr>\n",
       "    <tr>\n",
       "      <th>KY</th>\n",
       "      <td>97.000000</td>\n",
       "    </tr>\n",
       "    <tr>\n",
       "      <th>VA</th>\n",
       "      <td>95.621951</td>\n",
       "    </tr>\n",
       "    <tr>\n",
       "      <th>UT</th>\n",
       "      <td>94.150000</td>\n",
       "    </tr>\n",
       "    <tr>\n",
       "      <th>WA</th>\n",
       "      <td>93.190476</td>\n",
       "    </tr>\n",
       "    <tr>\n",
       "      <th>PA</th>\n",
       "      <td>92.560606</td>\n",
       "    </tr>\n",
       "    <tr>\n",
       "      <th>OR</th>\n",
       "      <td>92.125000</td>\n",
       "    </tr>\n",
       "    <tr>\n",
       "      <th>IN</th>\n",
       "      <td>90.300000</td>\n",
       "    </tr>\n",
       "    <tr>\n",
       "      <th>TX</th>\n",
       "      <td>89.392857</td>\n",
       "    </tr>\n",
       "    <tr>\n",
       "      <th>OH</th>\n",
       "      <td>87.571429</td>\n",
       "    </tr>\n",
       "    <tr>\n",
       "      <th>TN</th>\n",
       "      <td>87.115385</td>\n",
       "    </tr>\n",
       "    <tr>\n",
       "      <th>KS</th>\n",
       "      <td>87.000000</td>\n",
       "    </tr>\n",
       "    <tr>\n",
       "      <th>AZ</th>\n",
       "      <td>85.666667</td>\n",
       "    </tr>\n",
       "    <tr>\n",
       "      <th>MN</th>\n",
       "      <td>85.500000</td>\n",
       "    </tr>\n",
       "    <tr>\n",
       "      <th>MO</th>\n",
       "      <td>84.722222</td>\n",
       "    </tr>\n",
       "    <tr>\n",
       "      <th>GA</th>\n",
       "      <td>80.666667</td>\n",
       "    </tr>\n",
       "    <tr>\n",
       "      <th>IA</th>\n",
       "      <td>78.900000</td>\n",
       "    </tr>\n",
       "    <tr>\n",
       "      <th>FL</th>\n",
       "      <td>77.625000</td>\n",
       "    </tr>\n",
       "    <tr>\n",
       "      <th>CO</th>\n",
       "      <td>77.045455</td>\n",
       "    </tr>\n",
       "    <tr>\n",
       "      <th>NM</th>\n",
       "      <td>74.333333</td>\n",
       "    </tr>\n",
       "    <tr>\n",
       "      <th>WI</th>\n",
       "      <td>73.300000</td>\n",
       "    </tr>\n",
       "    <tr>\n",
       "      <th>CT</th>\n",
       "      <td>71.100000</td>\n",
       "    </tr>\n",
       "    <tr>\n",
       "      <th>LA</th>\n",
       "      <td>63.300000</td>\n",
       "    </tr>\n",
       "    <tr>\n",
       "      <th>SC</th>\n",
       "      <td>60.500000</td>\n",
       "    </tr>\n",
       "    <tr>\n",
       "      <th>AL</th>\n",
       "      <td>57.937500</td>\n",
       "    </tr>\n",
       "    <tr>\n",
       "      <th>ID</th>\n",
       "      <td>56.250000</td>\n",
       "    </tr>\n",
       "    <tr>\n",
       "      <th>NE</th>\n",
       "      <td>41.000000</td>\n",
       "    </tr>\n",
       "    <tr>\n",
       "      <th>DE</th>\n",
       "      <td>27.500000</td>\n",
       "    </tr>\n",
       "  </tbody>\n",
       "</table>\n",
       "</div>"
      ],
      "text/plain": [
       "           avg_salary\n",
       "job_state            \n",
       "CA         123.619205\n",
       "IL         116.662500\n",
       "DC         110.181818\n",
       "MA         106.281553\n",
       "NJ         104.558824\n",
       "MI         100.250000\n",
       "RI         100.000000\n",
       "NY          98.652778\n",
       "NC          98.452381\n",
       "MD          97.357143\n",
       "KY          97.000000\n",
       "VA          95.621951\n",
       "UT          94.150000\n",
       "WA          93.190476\n",
       "PA          92.560606\n",
       "OR          92.125000\n",
       "IN          90.300000\n",
       "TX          89.392857\n",
       "OH          87.571429\n",
       "TN          87.115385\n",
       "KS          87.000000\n",
       "AZ          85.666667\n",
       "MN          85.500000\n",
       "MO          84.722222\n",
       "GA          80.666667\n",
       "IA          78.900000\n",
       "FL          77.625000\n",
       "CO          77.045455\n",
       "NM          74.333333\n",
       "WI          73.300000\n",
       "CT          71.100000\n",
       "LA          63.300000\n",
       "SC          60.500000\n",
       "AL          57.937500\n",
       "ID          56.250000\n",
       "NE          41.000000\n",
       "DE          27.500000"
      ]
     },
     "execution_count": 89,
     "metadata": {},
     "output_type": "execute_result"
    }
   ],
   "source": [
    "pd.pivot_table(df, index='job_state', values='avg_salary').sort_values(by='avg_salary', ascending=False)\n"
   ]
  },
  {
   "cell_type": "code",
   "execution_count": 90,
   "id": "b55b960f-06b6-437b-8940-b79b41eb045d",
   "metadata": {},
   "outputs": [
    {
     "data": {
      "text/html": [
       "<div>\n",
       "<style scoped>\n",
       "    .dataframe tbody tr th:only-of-type {\n",
       "        vertical-align: middle;\n",
       "    }\n",
       "\n",
       "    .dataframe tbody tr th {\n",
       "        vertical-align: top;\n",
       "    }\n",
       "\n",
       "    .dataframe thead th {\n",
       "        text-align: right;\n",
       "    }\n",
       "</style>\n",
       "<table border=\"1\" class=\"dataframe\">\n",
       "  <thead>\n",
       "    <tr style=\"text-align: right;\">\n",
       "      <th></th>\n",
       "      <th>avg_salary</th>\n",
       "    </tr>\n",
       "    <tr>\n",
       "      <th>Industry</th>\n",
       "      <th></th>\n",
       "    </tr>\n",
       "  </thead>\n",
       "  <tbody>\n",
       "    <tr>\n",
       "      <th>Other Retail Stores</th>\n",
       "      <td>163.500000</td>\n",
       "    </tr>\n",
       "    <tr>\n",
       "      <th>Motion Picture Production &amp; Distribution</th>\n",
       "      <td>146.000000</td>\n",
       "    </tr>\n",
       "    <tr>\n",
       "      <th>Financial Analytics &amp; Research</th>\n",
       "      <td>145.125000</td>\n",
       "    </tr>\n",
       "    <tr>\n",
       "      <th>Health, Beauty, &amp; Fitness</th>\n",
       "      <td>139.500000</td>\n",
       "    </tr>\n",
       "    <tr>\n",
       "      <th>Telecommunications Services</th>\n",
       "      <td>131.500000</td>\n",
       "    </tr>\n",
       "    <tr>\n",
       "      <th>Brokerage Services</th>\n",
       "      <td>129.000000</td>\n",
       "    </tr>\n",
       "    <tr>\n",
       "      <th>Auctions &amp; Galleries</th>\n",
       "      <td>128.000000</td>\n",
       "    </tr>\n",
       "    <tr>\n",
       "      <th>Internet</th>\n",
       "      <td>123.810345</td>\n",
       "    </tr>\n",
       "    <tr>\n",
       "      <th>Investment Banking &amp; Asset Management</th>\n",
       "      <td>118.400000</td>\n",
       "    </tr>\n",
       "    <tr>\n",
       "      <th>TV Broadcast &amp; Cable Networks</th>\n",
       "      <td>117.750000</td>\n",
       "    </tr>\n",
       "    <tr>\n",
       "      <th>Enterprise Software &amp; Network Solutions</th>\n",
       "      <td>115.369048</td>\n",
       "    </tr>\n",
       "    <tr>\n",
       "      <th>Computer Hardware &amp; Software</th>\n",
       "      <td>115.194915</td>\n",
       "    </tr>\n",
       "    <tr>\n",
       "      <th>-1</th>\n",
       "      <td>114.650000</td>\n",
       "    </tr>\n",
       "    <tr>\n",
       "      <th>Accounting</th>\n",
       "      <td>113.500000</td>\n",
       "    </tr>\n",
       "    <tr>\n",
       "      <th>Biotech &amp; Pharmaceuticals</th>\n",
       "      <td>111.767857</td>\n",
       "    </tr>\n",
       "    <tr>\n",
       "      <th>Insurance Agencies &amp; Brokerages</th>\n",
       "      <td>109.250000</td>\n",
       "    </tr>\n",
       "    <tr>\n",
       "      <th>K-12 Education</th>\n",
       "      <td>108.875000</td>\n",
       "    </tr>\n",
       "    <tr>\n",
       "      <th>Consulting</th>\n",
       "      <td>108.689655</td>\n",
       "    </tr>\n",
       "    <tr>\n",
       "      <th>Transportation Management</th>\n",
       "      <td>107.500000</td>\n",
       "    </tr>\n",
       "    <tr>\n",
       "      <th>Metals Brokers</th>\n",
       "      <td>107.000000</td>\n",
       "    </tr>\n",
       "    <tr>\n",
       "      <th>Staffing &amp; Outsourcing</th>\n",
       "      <td>106.200000</td>\n",
       "    </tr>\n",
       "    <tr>\n",
       "      <th>Video Games</th>\n",
       "      <td>106.166667</td>\n",
       "    </tr>\n",
       "    <tr>\n",
       "      <th>Insurance Carriers</th>\n",
       "      <td>105.626984</td>\n",
       "    </tr>\n",
       "    <tr>\n",
       "      <th>Real Estate</th>\n",
       "      <td>104.750000</td>\n",
       "    </tr>\n",
       "    <tr>\n",
       "      <th>Transportation Equipment Manufacturing</th>\n",
       "      <td>104.500000</td>\n",
       "    </tr>\n",
       "    <tr>\n",
       "      <th>Advertising &amp; Marketing</th>\n",
       "      <td>104.300000</td>\n",
       "    </tr>\n",
       "    <tr>\n",
       "      <th>Wholesale</th>\n",
       "      <td>103.166667</td>\n",
       "    </tr>\n",
       "    <tr>\n",
       "      <th>IT Services</th>\n",
       "      <td>102.840000</td>\n",
       "    </tr>\n",
       "    <tr>\n",
       "      <th>Colleges &amp; Universities</th>\n",
       "      <td>102.687500</td>\n",
       "    </tr>\n",
       "    <tr>\n",
       "      <th>Aerospace &amp; Defense</th>\n",
       "      <td>99.060000</td>\n",
       "    </tr>\n",
       "    <tr>\n",
       "      <th>Logistics &amp; Supply Chain</th>\n",
       "      <td>98.250000</td>\n",
       "    </tr>\n",
       "    <tr>\n",
       "      <th>Gas Stations</th>\n",
       "      <td>98.000000</td>\n",
       "    </tr>\n",
       "    <tr>\n",
       "      <th>Mining</th>\n",
       "      <td>98.000000</td>\n",
       "    </tr>\n",
       "    <tr>\n",
       "      <th>Consumer Products Manufacturing</th>\n",
       "      <td>95.350000</td>\n",
       "    </tr>\n",
       "    <tr>\n",
       "      <th>Security Services</th>\n",
       "      <td>93.500000</td>\n",
       "    </tr>\n",
       "    <tr>\n",
       "      <th>Department, Clothing, &amp; Shoe Stores</th>\n",
       "      <td>92.666667</td>\n",
       "    </tr>\n",
       "    <tr>\n",
       "      <th>Stock Exchanges</th>\n",
       "      <td>87.000000</td>\n",
       "    </tr>\n",
       "    <tr>\n",
       "      <th>Industrial Manufacturing</th>\n",
       "      <td>86.750000</td>\n",
       "    </tr>\n",
       "    <tr>\n",
       "      <th>Consumer Product Rental</th>\n",
       "      <td>86.666667</td>\n",
       "    </tr>\n",
       "    <tr>\n",
       "      <th>Beauty &amp; Personal Accessories Stores</th>\n",
       "      <td>85.500000</td>\n",
       "    </tr>\n",
       "    <tr>\n",
       "      <th>Sporting Goods Stores</th>\n",
       "      <td>85.000000</td>\n",
       "    </tr>\n",
       "    <tr>\n",
       "      <th>Lending</th>\n",
       "      <td>83.000000</td>\n",
       "    </tr>\n",
       "    <tr>\n",
       "      <th>Farm Support Services</th>\n",
       "      <td>80.500000</td>\n",
       "    </tr>\n",
       "    <tr>\n",
       "      <th>Energy</th>\n",
       "      <td>80.464286</td>\n",
       "    </tr>\n",
       "    <tr>\n",
       "      <th>Education Training Services</th>\n",
       "      <td>79.500000</td>\n",
       "    </tr>\n",
       "    <tr>\n",
       "      <th>Trucking</th>\n",
       "      <td>79.000000</td>\n",
       "    </tr>\n",
       "    <tr>\n",
       "      <th>Religious Organizations</th>\n",
       "      <td>78.833333</td>\n",
       "    </tr>\n",
       "    <tr>\n",
       "      <th>Federal Agencies</th>\n",
       "      <td>78.545455</td>\n",
       "    </tr>\n",
       "    <tr>\n",
       "      <th>Research &amp; Development</th>\n",
       "      <td>78.394737</td>\n",
       "    </tr>\n",
       "    <tr>\n",
       "      <th>Financial Transaction Processing</th>\n",
       "      <td>76.500000</td>\n",
       "    </tr>\n",
       "    <tr>\n",
       "      <th>Health Care Products Manufacturing</th>\n",
       "      <td>73.000000</td>\n",
       "    </tr>\n",
       "    <tr>\n",
       "      <th>Banks &amp; Credit Unions</th>\n",
       "      <td>70.625000</td>\n",
       "    </tr>\n",
       "    <tr>\n",
       "      <th>Travel Agencies</th>\n",
       "      <td>69.500000</td>\n",
       "    </tr>\n",
       "    <tr>\n",
       "      <th>Health Care Services &amp; Hospitals</th>\n",
       "      <td>67.622449</td>\n",
       "    </tr>\n",
       "    <tr>\n",
       "      <th>Food &amp; Beverage Manufacturing</th>\n",
       "      <td>53.250000</td>\n",
       "    </tr>\n",
       "    <tr>\n",
       "      <th>Architectural &amp; Engineering Services</th>\n",
       "      <td>50.500000</td>\n",
       "    </tr>\n",
       "    <tr>\n",
       "      <th>Gambling</th>\n",
       "      <td>48.500000</td>\n",
       "    </tr>\n",
       "    <tr>\n",
       "      <th>Social Assistance</th>\n",
       "      <td>48.166667</td>\n",
       "    </tr>\n",
       "    <tr>\n",
       "      <th>Telecommunications Manufacturing</th>\n",
       "      <td>44.000000</td>\n",
       "    </tr>\n",
       "    <tr>\n",
       "      <th>Construction</th>\n",
       "      <td>26.500000</td>\n",
       "    </tr>\n",
       "  </tbody>\n",
       "</table>\n",
       "</div>"
      ],
      "text/plain": [
       "                                          avg_salary\n",
       "Industry                                            \n",
       "Other Retail Stores                       163.500000\n",
       "Motion Picture Production & Distribution  146.000000\n",
       "Financial Analytics & Research            145.125000\n",
       "Health, Beauty, & Fitness                 139.500000\n",
       "Telecommunications Services               131.500000\n",
       "Brokerage Services                        129.000000\n",
       "Auctions & Galleries                      128.000000\n",
       "Internet                                  123.810345\n",
       "Investment Banking & Asset Management     118.400000\n",
       "TV Broadcast & Cable Networks             117.750000\n",
       "Enterprise Software & Network Solutions   115.369048\n",
       "Computer Hardware & Software              115.194915\n",
       "-1                                        114.650000\n",
       "Accounting                                113.500000\n",
       "Biotech & Pharmaceuticals                 111.767857\n",
       "Insurance Agencies & Brokerages           109.250000\n",
       "K-12 Education                            108.875000\n",
       "Consulting                                108.689655\n",
       "Transportation Management                 107.500000\n",
       "Metals Brokers                            107.000000\n",
       "Staffing & Outsourcing                    106.200000\n",
       "Video Games                               106.166667\n",
       "Insurance Carriers                        105.626984\n",
       "Real Estate                               104.750000\n",
       "Transportation Equipment Manufacturing    104.500000\n",
       "Advertising & Marketing                   104.300000\n",
       "Wholesale                                 103.166667\n",
       "IT Services                               102.840000\n",
       "Colleges & Universities                   102.687500\n",
       "Aerospace & Defense                        99.060000\n",
       "Logistics & Supply Chain                   98.250000\n",
       "Gas Stations                               98.000000\n",
       "Mining                                     98.000000\n",
       "Consumer Products Manufacturing            95.350000\n",
       "Security Services                          93.500000\n",
       "Department, Clothing, & Shoe Stores        92.666667\n",
       "Stock Exchanges                            87.000000\n",
       "Industrial Manufacturing                   86.750000\n",
       "Consumer Product Rental                    86.666667\n",
       "Beauty & Personal Accessories Stores       85.500000\n",
       "Sporting Goods Stores                      85.000000\n",
       "Lending                                    83.000000\n",
       "Farm Support Services                      80.500000\n",
       "Energy                                     80.464286\n",
       "Education Training Services                79.500000\n",
       "Trucking                                   79.000000\n",
       "Religious Organizations                    78.833333\n",
       "Federal Agencies                           78.545455\n",
       "Research & Development                     78.394737\n",
       "Financial Transaction Processing           76.500000\n",
       "Health Care Products Manufacturing         73.000000\n",
       "Banks & Credit Unions                      70.625000\n",
       "Travel Agencies                            69.500000\n",
       "Health Care Services & Hospitals           67.622449\n",
       "Food & Beverage Manufacturing              53.250000\n",
       "Architectural & Engineering Services       50.500000\n",
       "Gambling                                   48.500000\n",
       "Social Assistance                          48.166667\n",
       "Telecommunications Manufacturing           44.000000\n",
       "Construction                               26.500000"
      ]
     },
     "execution_count": 90,
     "metadata": {},
     "output_type": "execute_result"
    }
   ],
   "source": [
    "pd.pivot_table(df, index='Industry', values='avg_salary', aggfunc='mean').sort_values(by='avg_salary', ascending=False)\n"
   ]
  },
  {
   "cell_type": "code",
   "execution_count": 91,
   "id": "a3eb135b-78b4-4440-9cfa-defabd9508e6",
   "metadata": {},
   "outputs": [],
   "source": [
    "df = df[df['Industry'] != -1]"
   ]
  },
  {
   "cell_type": "code",
   "execution_count": 92,
   "id": "a57ed095-ee08-4f5f-8740-6072284ef817",
   "metadata": {},
   "outputs": [
    {
     "data": {
      "text/html": [
       "<div>\n",
       "<style scoped>\n",
       "    .dataframe tbody tr th:only-of-type {\n",
       "        vertical-align: middle;\n",
       "    }\n",
       "\n",
       "    .dataframe tbody tr th {\n",
       "        vertical-align: top;\n",
       "    }\n",
       "\n",
       "    .dataframe thead th {\n",
       "        text-align: right;\n",
       "    }\n",
       "</style>\n",
       "<table border=\"1\" class=\"dataframe\">\n",
       "  <thead>\n",
       "    <tr style=\"text-align: right;\">\n",
       "      <th></th>\n",
       "      <th>avg_salary</th>\n",
       "    </tr>\n",
       "    <tr>\n",
       "      <th>Type of ownership</th>\n",
       "      <th></th>\n",
       "    </tr>\n",
       "  </thead>\n",
       "  <tbody>\n",
       "    <tr>\n",
       "      <th>Public</th>\n",
       "      <td>110.893782</td>\n",
       "    </tr>\n",
       "    <tr>\n",
       "      <th>Subsidiary or Business Segment</th>\n",
       "      <td>110.573529</td>\n",
       "    </tr>\n",
       "    <tr>\n",
       "      <th>College / University</th>\n",
       "      <td>107.615385</td>\n",
       "    </tr>\n",
       "    <tr>\n",
       "      <th>Private</th>\n",
       "      <td>101.776829</td>\n",
       "    </tr>\n",
       "    <tr>\n",
       "      <th>Government</th>\n",
       "      <td>84.300000</td>\n",
       "    </tr>\n",
       "    <tr>\n",
       "      <th>Other Organization</th>\n",
       "      <td>77.900000</td>\n",
       "    </tr>\n",
       "    <tr>\n",
       "      <th>School / School District</th>\n",
       "      <td>77.750000</td>\n",
       "    </tr>\n",
       "    <tr>\n",
       "      <th>Nonprofit Organization</th>\n",
       "      <td>68.281818</td>\n",
       "    </tr>\n",
       "    <tr>\n",
       "      <th>Hospital</th>\n",
       "      <td>54.000000</td>\n",
       "    </tr>\n",
       "  </tbody>\n",
       "</table>\n",
       "</div>"
      ],
      "text/plain": [
       "                                avg_salary\n",
       "Type of ownership                         \n",
       "Public                          110.893782\n",
       "Subsidiary or Business Segment  110.573529\n",
       "College / University            107.615385\n",
       "Private                         101.776829\n",
       "Government                       84.300000\n",
       "Other Organization               77.900000\n",
       "School / School District         77.750000\n",
       "Nonprofit Organization           68.281818\n",
       "Hospital                         54.000000"
      ]
     },
     "execution_count": 92,
     "metadata": {},
     "output_type": "execute_result"
    }
   ],
   "source": [
    "pd.pivot_table(df, index='Type of ownership', values='avg_salary', aggfunc='mean').sort_values(by='avg_salary', ascending=False)\n"
   ]
  },
  {
   "cell_type": "code",
   "execution_count": 93,
   "id": "533aced2-4aa6-458d-a86a-87e59443a7f8",
   "metadata": {},
   "outputs": [
    {
     "data": {
      "text/html": [
       "<div>\n",
       "<style scoped>\n",
       "    .dataframe tbody tr th:only-of-type {\n",
       "        vertical-align: middle;\n",
       "    }\n",
       "\n",
       "    .dataframe tbody tr th {\n",
       "        vertical-align: top;\n",
       "    }\n",
       "\n",
       "    .dataframe thead th {\n",
       "        text-align: right;\n",
       "    }\n",
       "</style>\n",
       "<table border=\"1\" class=\"dataframe\">\n",
       "  <thead>\n",
       "    <tr style=\"text-align: right;\">\n",
       "      <th></th>\n",
       "      <th>avg_salary</th>\n",
       "    </tr>\n",
       "    <tr>\n",
       "      <th>Company Name</th>\n",
       "      <th></th>\n",
       "    </tr>\n",
       "  </thead>\n",
       "  <tbody>\n",
       "    <tr>\n",
       "      <th>Gallup</th>\n",
       "      <td>237.5</td>\n",
       "    </tr>\n",
       "    <tr>\n",
       "      <th>Sage Intacct</th>\n",
       "      <td>232.5</td>\n",
       "    </tr>\n",
       "    <tr>\n",
       "      <th>CA-One Tech Cloud</th>\n",
       "      <td>225.0</td>\n",
       "    </tr>\n",
       "    <tr>\n",
       "      <th>Grand Rounds</th>\n",
       "      <td>221.5</td>\n",
       "    </tr>\n",
       "    <tr>\n",
       "      <th>Credit Sesame</th>\n",
       "      <td>205.0</td>\n",
       "    </tr>\n",
       "    <tr>\n",
       "      <th>...</th>\n",
       "      <td>...</td>\n",
       "    </tr>\n",
       "    <tr>\n",
       "      <th>Texas Health Huguley Hospital</th>\n",
       "      <td>21.5</td>\n",
       "    </tr>\n",
       "    <tr>\n",
       "      <th>Tower Health</th>\n",
       "      <td>20.5</td>\n",
       "    </tr>\n",
       "    <tr>\n",
       "      <th>Veterans Affairs, Veterans Health Administration</th>\n",
       "      <td>20.0</td>\n",
       "    </tr>\n",
       "    <tr>\n",
       "      <th>NPD</th>\n",
       "      <td>15.5</td>\n",
       "    </tr>\n",
       "    <tr>\n",
       "      <th>FLEETCOR</th>\n",
       "      <td>13.5</td>\n",
       "    </tr>\n",
       "  </tbody>\n",
       "</table>\n",
       "<p>343 rows × 1 columns</p>\n",
       "</div>"
      ],
      "text/plain": [
       "                                                  avg_salary\n",
       "Company Name                                                \n",
       "Gallup                                                 237.5\n",
       "Sage Intacct                                           232.5\n",
       "CA-One Tech Cloud                                      225.0\n",
       "Grand Rounds                                           221.5\n",
       "Credit Sesame                                          205.0\n",
       "...                                                      ...\n",
       "Texas Health Huguley Hospital                           21.5\n",
       "Tower Health                                            20.5\n",
       "Veterans Affairs, Veterans Health Administration        20.0\n",
       "NPD                                                     15.5\n",
       "FLEETCOR                                                13.5\n",
       "\n",
       "[343 rows x 1 columns]"
      ]
     },
     "execution_count": 93,
     "metadata": {},
     "output_type": "execute_result"
    }
   ],
   "source": [
    "pd.pivot_table(df, index='Company Name', values='avg_salary', aggfunc='mean').sort_values(by='avg_salary', ascending=False)\n"
   ]
  },
  {
   "cell_type": "markdown",
   "id": "8491a6fc-955c-4f49-b079-49eac4a5ee84",
   "metadata": {},
   "source": [
    "# Feature Engineering\n",
    "## Trimming Columns"
   ]
  },
  {
   "cell_type": "code",
   "execution_count": 94,
   "id": "da411c6a-f9e3-4fb8-ba13-d1a8204bf2bc",
   "metadata": {},
   "outputs": [
    {
     "data": {
      "text/plain": [
       "60"
      ]
     },
     "execution_count": 94,
     "metadata": {},
     "output_type": "execute_result"
    }
   ],
   "source": [
    "df.Industry.nunique()"
   ]
  },
  {
   "cell_type": "code",
   "execution_count": 95,
   "id": "aedde2d5-76a9-49a7-9576-5bc15afb41eb",
   "metadata": {},
   "outputs": [],
   "source": [
    "industry_list = ['Motion Picture Production & Distribution','Financial Analytics & Research','Health, Beauty, & Fitness','Telecommunications Services','Brokerage Services','Auctions & Galleries','Internet','Investment Banking & Asset Management','TV Broadcast & Cable Networks','Enterprise Software & Network Solutions','Other Retail Stores']"
   ]
  },
  {
   "cell_type": "code",
   "execution_count": 96,
   "id": "83a527bd-8a0e-4a7c-9474-bbdf3cc0ea79",
   "metadata": {},
   "outputs": [],
   "source": [
    "def simplified_industry(text):\n",
    "    if text not in industry_list:\n",
    "        return 'Others'\n",
    "    else:\n",
    "        return text\n",
    "df['Industry'] = df['Industry'].apply(simplified_industry)"
   ]
  },
  {
   "cell_type": "code",
   "execution_count": 97,
   "id": "d4c92f25-83e6-45ca-8680-0d4b045a8801",
   "metadata": {},
   "outputs": [
    {
     "data": {
      "text/plain": [
       "0      NM\n",
       "1      MD\n",
       "2      FL\n",
       "3      WA\n",
       "4      NY\n",
       "       ..\n",
       "950    MA\n",
       "951    TN\n",
       "952    PA\n",
       "953    PA\n",
       "955    OH\n",
       "Name: job_state, Length: 742, dtype: object"
      ]
     },
     "execution_count": 97,
     "metadata": {},
     "output_type": "execute_result"
    }
   ],
   "source": [
    "df.job_state"
   ]
  },
  {
   "cell_type": "code",
   "execution_count": 98,
   "id": "10cb96e6-2343-4b6e-95a5-a7df260048d4",
   "metadata": {},
   "outputs": [],
   "source": [
    "job_state_list = ['CA','MA','NY','VA','IL','MD','PA','TX','NC','WA']\n",
    "def simplified_state(text):\n",
    "    if text not in job_state_list:\n",
    "        return 'Others'\n",
    "    else:\n",
    "        return text\n",
    "df['job_state'] = df['job_state'].apply(simplified_state)"
   ]
  },
  {
   "cell_type": "code",
   "execution_count": 99,
   "id": "ca598084-29df-4619-8766-7f513437e85d",
   "metadata": {},
   "outputs": [
    {
     "data": {
      "text/plain": [
       "0      Others\n",
       "1          MD\n",
       "2      Others\n",
       "3          WA\n",
       "4          NY\n",
       "        ...  \n",
       "950        MA\n",
       "951    Others\n",
       "952        PA\n",
       "953        PA\n",
       "955    Others\n",
       "Name: job_state, Length: 742, dtype: object"
      ]
     },
     "execution_count": 99,
     "metadata": {},
     "output_type": "execute_result"
    }
   ],
   "source": [
    "df.job_state"
   ]
  },
  {
   "cell_type": "code",
   "execution_count": 100,
   "id": "3be6966d-ba2f-40ad-9726-43f2feb7157c",
   "metadata": {},
   "outputs": [],
   "source": [
    "df['job_in_headquarters'] = df.apply(lambda x: 1 if x.Headquarters == x.Location else 0, axis = 1) "
   ]
  },
  {
   "cell_type": "code",
   "execution_count": 101,
   "id": "dc2815df-1172-45c1-859d-6f90306c8e90",
   "metadata": {},
   "outputs": [
    {
     "data": {
      "text/plain": [
       "Index(['Job Title', 'Salary Estimate', 'Job Description', 'Rating',\n",
       "       'Company Name', 'Location', 'Headquarters', 'Size', 'Founded',\n",
       "       'Type of ownership', 'Industry', 'Sector', 'Revenue', 'Competitors',\n",
       "       'salary_per_hour', 'emp_provided_salary', 'min_salary', 'max_salary',\n",
       "       'avg_salary', 'job_state', 'company_age', 'python_job', 'r_job',\n",
       "       'aws_job', 'spark_job', 'excel_job', 'sql_job', 'simplified_data',\n",
       "       'Job_seniority', 'job_in_headquarters'],\n",
       "      dtype='object')"
      ]
     },
     "execution_count": 101,
     "metadata": {},
     "output_type": "execute_result"
    }
   ],
   "source": [
    "df.columns"
   ]
  },
  {
   "cell_type": "code",
   "execution_count": 102,
   "id": "d1c3ca10-c4e4-4b66-bd3e-dfc132925303",
   "metadata": {},
   "outputs": [],
   "source": [
    "df_model = df.copy(deep = True)\n",
    "df_model = df_model[['avg_salary','Rating','company_age','Size','Industry','Type of ownership','Revenue','Competitors','job_state','job_in_headquarters','python_job','spark_job','aws_job','excel_job','simplified_data','Job_seniority',]]"
   ]
  },
  {
   "cell_type": "code",
   "execution_count": 103,
   "id": "450d6aee-eb99-48e8-bae0-2b096749040e",
   "metadata": {},
   "outputs": [
    {
     "data": {
      "text/plain": [
       "Size\n",
       "1001 to 5000 employees     150\n",
       "501 to 1000 employees      134\n",
       "10000+ employees           130\n",
       "201 to 500 employees       117\n",
       "51 to 200 employees         94\n",
       "5001 to 10000 employees     76\n",
       "1 to 50 employees           31\n",
       "Unknown                     10\n",
       "Name: count, dtype: int64"
      ]
     },
     "execution_count": 103,
     "metadata": {},
     "output_type": "execute_result"
    }
   ],
   "source": [
    "df.Size.value_counts()"
   ]
  },
  {
   "cell_type": "code",
   "execution_count": 104,
   "id": "1734c9a3-23c8-4b68-b2a1-c71795e136c9",
   "metadata": {},
   "outputs": [
    {
     "data": {
      "text/plain": [
       "Index(['avg_salary', 'Rating', 'company_age', 'Size', 'Industry',\n",
       "       'Type of ownership', 'Revenue', 'Competitors', 'job_state',\n",
       "       'job_in_headquarters', 'python_job', 'spark_job', 'aws_job',\n",
       "       'excel_job', 'simplified_data', 'Job_seniority'],\n",
       "      dtype='object')"
      ]
     },
     "execution_count": 104,
     "metadata": {},
     "output_type": "execute_result"
    }
   ],
   "source": [
    "df_model.columns"
   ]
  },
  {
   "cell_type": "markdown",
   "id": "f6c97756-f47d-457b-932d-c9c07e6b8a34",
   "metadata": {},
   "source": [
    "## Handling Ordinal Categorical Features"
   ]
  },
  {
   "cell_type": "code",
   "execution_count": 105,
   "id": "f9e50ee1-770d-48d4-b4c7-598ecb11e50e",
   "metadata": {},
   "outputs": [],
   "source": [
    "size_map = {'Unknown': 0, '1 to 50 employees': 1, '51 to 200 employees': 2, '201 to 500 employees': 3, '501 to 1000 employees': 4, '1001 to 5000 employees': 5, '5001 to 10000 employees': 6, '10000+ employees': 7}\n",
    "\n",
    "df_model['company_size_rank'] = df_model['Size'].map(size_map)\n",
    "df_model.drop('Size', axis = True, inplace = True)"
   ]
  },
  {
   "cell_type": "code",
   "execution_count": 106,
   "id": "b2c716a5-de25-47b3-95eb-657e9e977b80",
   "metadata": {},
   "outputs": [],
   "source": [
    "revenue_map = {'Unknown / Non-Applicable': 0, 'Less than $1 million (USD)': 1, '$1 to $5 million (USD)': 2, '$5 to $10 million (USD)': 3, '$10 to $25 million (USD)': 4, '$25 to $50 million (USD)': 5, '$50 to $100 million (USD)': 6, '$100 to $500 million (USD)': 7, '$500 million to $1 billion (USD)': 8, '$1 to $2 billion (USD)': 9, '$2 to $5 billion (USD)': 10, '$5 to $10 billion (USD)': 11, '$10+ billion (USD)': 12}\n",
    "\n",
    "df_model['revenue_rank'] = df_model['Revenue'].map(revenue_map)\n",
    "df_model.drop('Revenue', axis = True, inplace = True)"
   ]
  },
  {
   "cell_type": "code",
   "execution_count": 107,
   "id": "74b02f14-e5c6-4973-9c16-fdb2e2e8beb5",
   "metadata": {},
   "outputs": [],
   "source": [
    "job_seniority_map = {'na': 0,'jr': 1,'sr': 2}\n",
    "\n",
    "df_model['job_seniority_rank'] = df_model['Job_seniority'].map(job_seniority_map)\n",
    "df_model.drop('Job_seniority', axis = True, inplace = True)"
   ]
  },
  {
   "cell_type": "markdown",
   "id": "20c10569-f444-401f-8b30-ad752f8959a8",
   "metadata": {},
   "source": [
    "## Handling Nominal Categorical Features"
   ]
  },
  {
   "cell_type": "code",
   "execution_count": 113,
   "id": "4ae68507-1567-4db2-913a-4fd78a29a246",
   "metadata": {},
   "outputs": [
    {
     "data": {
      "text/plain": [
       "(742, 35)"
      ]
     },
     "execution_count": 113,
     "metadata": {},
     "output_type": "execute_result"
    }
   ],
   "source": [
    "df_model = pd.get_dummies(columns=['Type of ownership'], data=df_model)\n",
    "df_model.shape"
   ]
  },
  {
   "cell_type": "code",
   "execution_count": 112,
   "id": "9d376154-8204-46a4-ac79-084be59a03d8",
   "metadata": {},
   "outputs": [
    {
     "data": {
      "text/plain": [
       "(742, 27)"
      ]
     },
     "execution_count": 112,
     "metadata": {},
     "output_type": "execute_result"
    }
   ],
   "source": [
    "df_model = pd.get_dummies(columns = ['Industry'], data = df_model)\n",
    "df_model.shape"
   ]
  },
  {
   "cell_type": "code",
   "execution_count": 114,
   "id": "cea7af3e-0b5e-4b15-b8b7-5de838046518",
   "metadata": {},
   "outputs": [
    {
     "data": {
      "text/plain": [
       "(742, 41)"
      ]
     },
     "execution_count": 114,
     "metadata": {},
     "output_type": "execute_result"
    }
   ],
   "source": [
    "df_model = pd.get_dummies(columns = ['simplified_data'], data = df_model)\n",
    "df_model.shape"
   ]
  },
  {
   "cell_type": "code",
   "execution_count": 115,
   "id": "51d46c1e-8ea9-4450-8182-f25b314aae75",
   "metadata": {},
   "outputs": [
    {
     "data": {
      "text/plain": [
       "(742, 51)"
      ]
     },
     "execution_count": 115,
     "metadata": {},
     "output_type": "execute_result"
    }
   ],
   "source": [
    "df_model = pd.get_dummies(columns=['job_state'], data = df_model)\n",
    "df_model.shape"
   ]
  },
  {
   "cell_type": "code",
   "execution_count": 116,
   "id": "8433f63f-c630-47a3-8655-47acbdbe10e8",
   "metadata": {},
   "outputs": [
    {
     "data": {
      "text/plain": [
       "0      Others\n",
       "1          MD\n",
       "2      Others\n",
       "3          WA\n",
       "4          NY\n",
       "        ...  \n",
       "950        MA\n",
       "951    Others\n",
       "952        PA\n",
       "953        PA\n",
       "955    Others\n",
       "Name: job_state, Length: 742, dtype: object"
      ]
     },
     "execution_count": 116,
     "metadata": {},
     "output_type": "execute_result"
    }
   ],
   "source": [
    "df['job_state']"
   ]
  },
  {
   "cell_type": "code",
   "execution_count": 117,
   "id": "127bbf68-13d3-4b8a-9748-c96bcaf62f9b",
   "metadata": {},
   "outputs": [
    {
     "data": {
      "text/html": [
       "<div>\n",
       "<style scoped>\n",
       "    .dataframe tbody tr th:only-of-type {\n",
       "        vertical-align: middle;\n",
       "    }\n",
       "\n",
       "    .dataframe tbody tr th {\n",
       "        vertical-align: top;\n",
       "    }\n",
       "\n",
       "    .dataframe thead th {\n",
       "        text-align: right;\n",
       "    }\n",
       "</style>\n",
       "<table border=\"1\" class=\"dataframe\">\n",
       "  <thead>\n",
       "    <tr style=\"text-align: right;\">\n",
       "      <th></th>\n",
       "      <th>avg_salary</th>\n",
       "      <th>Rating</th>\n",
       "      <th>company_age</th>\n",
       "      <th>Competitors</th>\n",
       "      <th>job_in_headquarters</th>\n",
       "      <th>python_job</th>\n",
       "      <th>spark_job</th>\n",
       "      <th>aws_job</th>\n",
       "      <th>excel_job</th>\n",
       "      <th>company_size_rank</th>\n",
       "      <th>...</th>\n",
       "      <th>job_state_IL</th>\n",
       "      <th>job_state_MA</th>\n",
       "      <th>job_state_MD</th>\n",
       "      <th>job_state_NC</th>\n",
       "      <th>job_state_NY</th>\n",
       "      <th>job_state_Others</th>\n",
       "      <th>job_state_PA</th>\n",
       "      <th>job_state_TX</th>\n",
       "      <th>job_state_VA</th>\n",
       "      <th>job_state_WA</th>\n",
       "    </tr>\n",
       "  </thead>\n",
       "  <tbody>\n",
       "    <tr>\n",
       "      <th>0</th>\n",
       "      <td>72.0</td>\n",
       "      <td>3.8</td>\n",
       "      <td>50</td>\n",
       "      <td>0</td>\n",
       "      <td>0</td>\n",
       "      <td>1</td>\n",
       "      <td>0</td>\n",
       "      <td>0</td>\n",
       "      <td>1</td>\n",
       "      <td>4</td>\n",
       "      <td>...</td>\n",
       "      <td>False</td>\n",
       "      <td>False</td>\n",
       "      <td>False</td>\n",
       "      <td>False</td>\n",
       "      <td>False</td>\n",
       "      <td>True</td>\n",
       "      <td>False</td>\n",
       "      <td>False</td>\n",
       "      <td>False</td>\n",
       "      <td>False</td>\n",
       "    </tr>\n",
       "    <tr>\n",
       "      <th>1</th>\n",
       "      <td>87.5</td>\n",
       "      <td>3.4</td>\n",
       "      <td>39</td>\n",
       "      <td>0</td>\n",
       "      <td>0</td>\n",
       "      <td>1</td>\n",
       "      <td>0</td>\n",
       "      <td>0</td>\n",
       "      <td>0</td>\n",
       "      <td>7</td>\n",
       "      <td>...</td>\n",
       "      <td>False</td>\n",
       "      <td>False</td>\n",
       "      <td>True</td>\n",
       "      <td>False</td>\n",
       "      <td>False</td>\n",
       "      <td>False</td>\n",
       "      <td>False</td>\n",
       "      <td>False</td>\n",
       "      <td>False</td>\n",
       "      <td>False</td>\n",
       "    </tr>\n",
       "    <tr>\n",
       "      <th>2</th>\n",
       "      <td>85.0</td>\n",
       "      <td>4.8</td>\n",
       "      <td>13</td>\n",
       "      <td>0</td>\n",
       "      <td>1</td>\n",
       "      <td>1</td>\n",
       "      <td>1</td>\n",
       "      <td>0</td>\n",
       "      <td>1</td>\n",
       "      <td>4</td>\n",
       "      <td>...</td>\n",
       "      <td>False</td>\n",
       "      <td>False</td>\n",
       "      <td>False</td>\n",
       "      <td>False</td>\n",
       "      <td>False</td>\n",
       "      <td>True</td>\n",
       "      <td>False</td>\n",
       "      <td>False</td>\n",
       "      <td>False</td>\n",
       "      <td>False</td>\n",
       "    </tr>\n",
       "    <tr>\n",
       "      <th>3</th>\n",
       "      <td>76.5</td>\n",
       "      <td>3.8</td>\n",
       "      <td>58</td>\n",
       "      <td>3</td>\n",
       "      <td>1</td>\n",
       "      <td>1</td>\n",
       "      <td>0</td>\n",
       "      <td>0</td>\n",
       "      <td>0</td>\n",
       "      <td>5</td>\n",
       "      <td>...</td>\n",
       "      <td>False</td>\n",
       "      <td>False</td>\n",
       "      <td>False</td>\n",
       "      <td>False</td>\n",
       "      <td>False</td>\n",
       "      <td>False</td>\n",
       "      <td>False</td>\n",
       "      <td>False</td>\n",
       "      <td>False</td>\n",
       "      <td>True</td>\n",
       "    </tr>\n",
       "    <tr>\n",
       "      <th>4</th>\n",
       "      <td>114.5</td>\n",
       "      <td>2.9</td>\n",
       "      <td>25</td>\n",
       "      <td>3</td>\n",
       "      <td>1</td>\n",
       "      <td>1</td>\n",
       "      <td>0</td>\n",
       "      <td>0</td>\n",
       "      <td>1</td>\n",
       "      <td>2</td>\n",
       "      <td>...</td>\n",
       "      <td>False</td>\n",
       "      <td>False</td>\n",
       "      <td>False</td>\n",
       "      <td>False</td>\n",
       "      <td>True</td>\n",
       "      <td>False</td>\n",
       "      <td>False</td>\n",
       "      <td>False</td>\n",
       "      <td>False</td>\n",
       "      <td>False</td>\n",
       "    </tr>\n",
       "  </tbody>\n",
       "</table>\n",
       "<p>5 rows × 51 columns</p>\n",
       "</div>"
      ],
      "text/plain": [
       "   avg_salary  Rating  company_age  Competitors  job_in_headquarters  \\\n",
       "0        72.0     3.8           50            0                    0   \n",
       "1        87.5     3.4           39            0                    0   \n",
       "2        85.0     4.8           13            0                    1   \n",
       "3        76.5     3.8           58            3                    1   \n",
       "4       114.5     2.9           25            3                    1   \n",
       "\n",
       "   python_job  spark_job  aws_job  excel_job  company_size_rank  ...  \\\n",
       "0           1          0        0          1                  4  ...   \n",
       "1           1          0        0          0                  7  ...   \n",
       "2           1          1        0          1                  4  ...   \n",
       "3           1          0        0          0                  5  ...   \n",
       "4           1          0        0          1                  2  ...   \n",
       "\n",
       "   job_state_IL  job_state_MA  job_state_MD  job_state_NC  job_state_NY  \\\n",
       "0         False         False         False         False         False   \n",
       "1         False         False          True         False         False   \n",
       "2         False         False         False         False         False   \n",
       "3         False         False         False         False         False   \n",
       "4         False         False         False         False          True   \n",
       "\n",
       "   job_state_Others  job_state_PA  job_state_TX  job_state_VA  job_state_WA  \n",
       "0              True         False         False         False         False  \n",
       "1             False         False         False         False         False  \n",
       "2              True         False         False         False         False  \n",
       "3             False         False         False         False          True  \n",
       "4             False         False         False         False         False  \n",
       "\n",
       "[5 rows x 51 columns]"
      ]
     },
     "execution_count": 117,
     "metadata": {},
     "output_type": "execute_result"
    }
   ],
   "source": [
    "df_model.head()"
   ]
  },
  {
   "cell_type": "code",
   "execution_count": 118,
   "id": "351ea847-114a-4d55-b224-9594db58bc92",
   "metadata": {},
   "outputs": [],
   "source": [
    "df_model.isnull().sum()\n",
    "df_model.dropna(inplace=True)"
   ]
  },
  {
   "cell_type": "code",
   "execution_count": 119,
   "id": "49ea8dde-3c83-442c-b12f-5f35a82bea66",
   "metadata": {},
   "outputs": [
    {
     "data": {
      "text/plain": [
       "avg_salary                                           0\n",
       "Rating                                               0\n",
       "company_age                                          0\n",
       "Competitors                                          0\n",
       "job_in_headquarters                                  0\n",
       "python_job                                           0\n",
       "spark_job                                            0\n",
       "aws_job                                              0\n",
       "excel_job                                            0\n",
       "company_size_rank                                    0\n",
       "revenue_rank                                         0\n",
       "job_seniority_rank                                   0\n",
       "Industry_Auctions & Galleries                        0\n",
       "Industry_Brokerage Services                          0\n",
       "Industry_Enterprise Software & Network Solutions     0\n",
       "Industry_Financial Analytics & Research              0\n",
       "Industry_Health, Beauty, & Fitness                   0\n",
       "Industry_Internet                                    0\n",
       "Industry_Investment Banking & Asset Management       0\n",
       "Industry_Motion Picture Production & Distribution    0\n",
       "Industry_Other Retail Stores                         0\n",
       "Industry_Others                                      0\n",
       "Industry_TV Broadcast & Cable Networks               0\n",
       "Industry_Telecommunications Services                 0\n",
       "Type of ownership_College / University               0\n",
       "Type of ownership_Government                         0\n",
       "Type of ownership_Hospital                           0\n",
       "Type of ownership_Nonprofit Organization             0\n",
       "Type of ownership_Other Organization                 0\n",
       "Type of ownership_Private                            0\n",
       "Type of ownership_Public                             0\n",
       "Type of ownership_School / School District           0\n",
       "Type of ownership_Subsidiary or Business Segment     0\n",
       "simplified_data_analyst                              0\n",
       "simplified_data_data engineer                        0\n",
       "simplified_data_data scientist                       0\n",
       "simplified_data_director                             0\n",
       "simplified_data_manager                              0\n",
       "simplified_data_mle                                  0\n",
       "simplified_data_na                                   0\n",
       "job_state_CA                                         0\n",
       "job_state_IL                                         0\n",
       "job_state_MA                                         0\n",
       "job_state_MD                                         0\n",
       "job_state_NC                                         0\n",
       "job_state_NY                                         0\n",
       "job_state_Others                                     0\n",
       "job_state_PA                                         0\n",
       "job_state_TX                                         0\n",
       "job_state_VA                                         0\n",
       "job_state_WA                                         0\n",
       "dtype: int64"
      ]
     },
     "execution_count": 119,
     "metadata": {},
     "output_type": "execute_result"
    }
   ],
   "source": [
    "df_model.isnull().sum()"
   ]
  },
  {
   "cell_type": "code",
   "execution_count": 120,
   "id": "f9be7c27-774b-49a2-bb76-24ac84ea8379",
   "metadata": {},
   "outputs": [],
   "source": [
    "x = df_model.drop('avg_salary', axis = 1)\n",
    "y = df_model['avg_salary']"
   ]
  },
  {
   "cell_type": "code",
   "execution_count": 121,
   "id": "16c53af1-0b23-49ea-af3f-19fda92be0c6",
   "metadata": {},
   "outputs": [
    {
     "data": {
      "text/plain": [
       "avg_salary                                           float64\n",
       "Rating                                               float64\n",
       "company_age                                            int64\n",
       "Competitors                                            int64\n",
       "job_in_headquarters                                    int64\n",
       "python_job                                             int64\n",
       "spark_job                                              int64\n",
       "aws_job                                                int64\n",
       "excel_job                                              int64\n",
       "company_size_rank                                      int64\n",
       "revenue_rank                                           int64\n",
       "job_seniority_rank                                     int64\n",
       "Industry_Auctions & Galleries                           bool\n",
       "Industry_Brokerage Services                             bool\n",
       "Industry_Enterprise Software & Network Solutions        bool\n",
       "Industry_Financial Analytics & Research                 bool\n",
       "Industry_Health, Beauty, & Fitness                      bool\n",
       "Industry_Internet                                       bool\n",
       "Industry_Investment Banking & Asset Management          bool\n",
       "Industry_Motion Picture Production & Distribution       bool\n",
       "Industry_Other Retail Stores                            bool\n",
       "Industry_Others                                         bool\n",
       "Industry_TV Broadcast & Cable Networks                  bool\n",
       "Industry_Telecommunications Services                    bool\n",
       "Type of ownership_College / University                  bool\n",
       "Type of ownership_Government                            bool\n",
       "Type of ownership_Hospital                              bool\n",
       "Type of ownership_Nonprofit Organization                bool\n",
       "Type of ownership_Other Organization                    bool\n",
       "Type of ownership_Private                               bool\n",
       "Type of ownership_Public                                bool\n",
       "Type of ownership_School / School District              bool\n",
       "Type of ownership_Subsidiary or Business Segment        bool\n",
       "simplified_data_analyst                                 bool\n",
       "simplified_data_data engineer                           bool\n",
       "simplified_data_data scientist                          bool\n",
       "simplified_data_director                                bool\n",
       "simplified_data_manager                                 bool\n",
       "simplified_data_mle                                     bool\n",
       "simplified_data_na                                      bool\n",
       "job_state_CA                                            bool\n",
       "job_state_IL                                            bool\n",
       "job_state_MA                                            bool\n",
       "job_state_MD                                            bool\n",
       "job_state_NC                                            bool\n",
       "job_state_NY                                            bool\n",
       "job_state_Others                                        bool\n",
       "job_state_PA                                            bool\n",
       "job_state_TX                                            bool\n",
       "job_state_VA                                            bool\n",
       "job_state_WA                                            bool\n",
       "dtype: object"
      ]
     },
     "execution_count": 121,
     "metadata": {},
     "output_type": "execute_result"
    }
   ],
   "source": [
    "df_model.dtypes"
   ]
  },
  {
   "cell_type": "markdown",
   "id": "e29396d4-bd0a-4e45-9a3a-37a8fd9d64fb",
   "metadata": {},
   "source": [
    "# Feature Scaling"
   ]
  },
  {
   "cell_type": "code",
   "execution_count": 122,
   "id": "1b3d29f8-240d-4adb-bab1-cdad6cb7a71e",
   "metadata": {},
   "outputs": [],
   "source": [
    "from sklearn.preprocessing import MinMaxScaler\n",
    "scaler = MinMaxScaler()\n",
    "columns_to_scale = ['Rating', 'Competitors', 'company_age','company_size_rank','revenue_rank']\n",
    "x[columns_to_scale] = scaler.fit_transform(x[columns_to_scale])"
   ]
  },
  {
   "cell_type": "code",
   "execution_count": 123,
   "id": "3263771e-16ec-4fed-bbfc-f1dfe3e1d74d",
   "metadata": {},
   "outputs": [],
   "source": [
    "from sklearn.model_selection import train_test_split\n",
    "x_train, x_test, y_train, y_test = train_test_split(x,y, test_size = 0.2, random_state = 42)"
   ]
  },
  {
   "cell_type": "code",
   "execution_count": 124,
   "id": "4959aa44-d54a-4948-a0eb-7d05809655ab",
   "metadata": {},
   "outputs": [
    {
     "name": "stdout",
     "output_type": "stream",
     "text": [
      "Training set size: (593, 50) and testing set size (149, 50)\n"
     ]
    }
   ],
   "source": [
    "print(\"Training set size: {} and testing set size {}\".format(x_train.shape, x_test.shape))"
   ]
  },
  {
   "cell_type": "markdown",
   "id": "693f31f5-1962-45ca-84bf-41cc582ba3dc",
   "metadata": {},
   "source": [
    "# Model Building"
   ]
  },
  {
   "cell_type": "code",
   "execution_count": 130,
   "id": "808e2de7-33bc-405a-908d-1cb26a6867e3",
   "metadata": {},
   "outputs": [],
   "source": [
    "from sklearn.linear_model import LinearRegression, Ridge\n",
    "from sklearn.tree import DecisionTreeRegressor\n",
    "from sklearn.ensemble import RandomForestRegressor\n",
    "from sklearn.ensemble import AdaBoostRegressor\n",
    "\n",
    "from sklearn.metrics import mean_squared_error, r2_score"
   ]
  },
  {
   "cell_type": "code",
   "execution_count": 126,
   "id": "0decd6c7-7f3a-42ef-ab2e-9c98670fa8f2",
   "metadata": {},
   "outputs": [
    {
     "name": "stdout",
     "output_type": "stream",
     "text": [
      "Requirement already satisfied: scikit-learn in c:\\python311\\lib\\site-packages (1.3.2)\n",
      "Requirement already satisfied: numpy<2.0,>=1.17.3 in c:\\python311\\lib\\site-packages (from scikit-learn) (1.26.0)\n",
      "Requirement already satisfied: scipy>=1.5.0 in c:\\python311\\lib\\site-packages (from scikit-learn) (1.11.3)\n",
      "Requirement already satisfied: joblib>=1.1.1 in c:\\python311\\lib\\site-packages (from scikit-learn) (1.3.2)\n",
      "Requirement already satisfied: threadpoolctl>=2.0.0 in c:\\python311\\lib\\site-packages (from scikit-learn) (3.2.0)\n",
      "Note: you may need to restart the kernel to use updated packages.\n"
     ]
    },
    {
     "name": "stderr",
     "output_type": "stream",
     "text": [
      "\n",
      "[notice] A new release of pip is available: 23.1.1 -> 23.3.2\n",
      "[notice] To update, run: python.exe -m pip install --upgrade pip\n"
     ]
    }
   ],
   "source": [
    "pip install --upgrade scikit-learn"
   ]
  },
  {
   "cell_type": "code",
   "execution_count": 137,
   "id": "faf9071a-5ddc-49aa-9d44-159d0b9b73ac",
   "metadata": {},
   "outputs": [
    {
     "name": "stdout",
     "output_type": "stream",
     "text": [
      "Linear Regression\n",
      "Training set\n",
      "Mean Squared Error: 604.0337488617862\n",
      "R-squared: 0.5900\n",
      "Testing set\n",
      "Mean Squared Error: 703.8827278117816\n",
      "R-squared: 0.5694\n",
      "Decision Tree\n",
      "Training set\n",
      "Mean Squared Error: 8.704082349634625\n",
      "R-squared: 0.9941\n",
      "Testing set\n",
      "Mean Squared Error: 566.1926850298285\n",
      "R-squared: 0.6536\n",
      "Random Forest\n",
      "Training set\n",
      "Mean Squared Error: 71.56338027919995\n",
      "R-squared: 0.9514\n",
      "Testing set\n",
      "Mean Squared Error: 409.07997547535314\n",
      "R-squared: 0.7497\n"
     ]
    }
   ],
   "source": [
    "models = {\n",
    "    \"Linear Regression\": Ridge(),\n",
    "    \"Decision Tree\": DecisionTreeRegressor(),\n",
    "    \"Random Forest\": RandomForestRegressor(),\n",
    "}\n",
    "\n",
    "for model_name, model in models.items():\n",
    "    model.fit(x_train, y_train)\n",
    "\n",
    "    y_train_pred = model.predict(x_train)\n",
    "    y_test_pred = model.predict(x_test)\n",
    "\n",
    "    model_train_mse = mean_squared_error(y_train, y_train_pred)\n",
    "    model_test_mse = mean_squared_error(y_test, y_test_pred)\n",
    "\n",
    "    model_train_r2 = r2_score(y_train, y_train_pred)\n",
    "    model_test_r2 = r2_score(y_test, y_test_pred)\n",
    "\n",
    "    print(model_name)\n",
    "    print('Training set')\n",
    "    print('Mean Squared Error: {}'.format(model_train_mse))\n",
    "    print('R-squared: {:.4f}'.format(model_train_r2))\n",
    "\n",
    "    print('Testing set')\n",
    "    print('Mean Squared Error: {}'.format(model_test_mse))\n",
    "    print('R-squared: {:.4f}'.format(model_test_r2))"
   ]
  },
  {
   "cell_type": "code",
   "execution_count": null,
   "id": "da8604c8-e9f4-4de7-a895-e08524e28804",
   "metadata": {},
   "outputs": [],
   "source": []
  },
  {
   "cell_type": "code",
   "execution_count": 131,
   "id": "a90099a2-e72b-4e9c-8203-565157fcfc64",
   "metadata": {},
   "outputs": [
    {
     "name": "stdout",
     "output_type": "stream",
     "text": [
      "Accuracy of the Linear Regression Model on Training set is : 59.37% and on Test set is 54.730000000000004%\n"
     ]
    }
   ],
   "source": [
    "lr_model = LinearRegression()\n",
    "lr_model.fit(x_train, y_train)\n",
    "print(\"Accuracy of the Linear Regression Model on Training set is : {}% and on Test set is {}%\".format(round(lr_model.score(x_train, y_train),4)*100, round(lr_model.score(x_test, y_test),4)*100))"
   ]
  },
  {
   "cell_type": "code",
   "execution_count": 132,
   "id": "49d3fb64-308d-4393-a1a0-ba20851b9db2",
   "metadata": {},
   "outputs": [
    {
     "name": "stdout",
     "output_type": "stream",
     "text": [
      "Accuracy train: 95.34 and test: 74.16\n"
     ]
    }
   ],
   "source": [
    "forest_model = RandomForestRegressor()\n",
    "forest_model.fit(x_train, y_train)\n",
    "print(\"Accuracy train: {} and test: {}\".format(round(forest_model.score(x_train, y_train), 4)*100, round(forest_model.score(x_test, y_test), 4)*100 ))"
   ]
  },
  {
   "cell_type": "code",
   "execution_count": 133,
   "id": "7318f87b-29d1-407f-a26f-8a9574b8bd69",
   "metadata": {},
   "outputs": [
    {
     "name": "stdout",
     "output_type": "stream",
     "text": [
      "Accuracy train: 59.0 and test: 56.940000000000005\n"
     ]
    }
   ],
   "source": [
    "ridge_model = Ridge()\n",
    "ridge_model.fit(x_train, y_train)\n",
    "print(\"Accuracy train: {} and test: {}\".format(round(ridge_model.score(x_train, y_train), 4)*100, round(ridge_model.score(x_test, y_test), 4)*100 ))"
   ]
  },
  {
   "cell_type": "code",
   "execution_count": 134,
   "id": "0ce05f20-1575-4e35-acb9-32e9f497b1bc",
   "metadata": {},
   "outputs": [
    {
     "name": "stdout",
     "output_type": "stream",
     "text": [
      "Accuracy train: 99.41 and test: 53.769999999999996\n"
     ]
    }
   ],
   "source": [
    "dt_model = DecisionTreeRegressor()\n",
    "dt_model.fit(x_train, y_train)\n",
    "print(\"Accuracy train: {} and test: {}\".format(round(dt_model.score(x_train, y_train), 4)*100, round(dt_model.score(x_test, y_test), 4)*100 ))"
   ]
  },
  {
   "cell_type": "code",
   "execution_count": 135,
   "id": "1c3ea3d6-f183-4ac9-adf5-f7f54cf236a1",
   "metadata": {},
   "outputs": [
    {
     "data": {
      "text/html": [
       "<style>#sk-container-id-1 {color: black;}#sk-container-id-1 pre{padding: 0;}#sk-container-id-1 div.sk-toggleable {background-color: white;}#sk-container-id-1 label.sk-toggleable__label {cursor: pointer;display: block;width: 100%;margin-bottom: 0;padding: 0.3em;box-sizing: border-box;text-align: center;}#sk-container-id-1 label.sk-toggleable__label-arrow:before {content: \"▸\";float: left;margin-right: 0.25em;color: #696969;}#sk-container-id-1 label.sk-toggleable__label-arrow:hover:before {color: black;}#sk-container-id-1 div.sk-estimator:hover label.sk-toggleable__label-arrow:before {color: black;}#sk-container-id-1 div.sk-toggleable__content {max-height: 0;max-width: 0;overflow: hidden;text-align: left;background-color: #f0f8ff;}#sk-container-id-1 div.sk-toggleable__content pre {margin: 0.2em;color: black;border-radius: 0.25em;background-color: #f0f8ff;}#sk-container-id-1 input.sk-toggleable__control:checked~div.sk-toggleable__content {max-height: 200px;max-width: 100%;overflow: auto;}#sk-container-id-1 input.sk-toggleable__control:checked~label.sk-toggleable__label-arrow:before {content: \"▾\";}#sk-container-id-1 div.sk-estimator input.sk-toggleable__control:checked~label.sk-toggleable__label {background-color: #d4ebff;}#sk-container-id-1 div.sk-label input.sk-toggleable__control:checked~label.sk-toggleable__label {background-color: #d4ebff;}#sk-container-id-1 input.sk-hidden--visually {border: 0;clip: rect(1px 1px 1px 1px);clip: rect(1px, 1px, 1px, 1px);height: 1px;margin: -1px;overflow: hidden;padding: 0;position: absolute;width: 1px;}#sk-container-id-1 div.sk-estimator {font-family: monospace;background-color: #f0f8ff;border: 1px dotted black;border-radius: 0.25em;box-sizing: border-box;margin-bottom: 0.5em;}#sk-container-id-1 div.sk-estimator:hover {background-color: #d4ebff;}#sk-container-id-1 div.sk-parallel-item::after {content: \"\";width: 100%;border-bottom: 1px solid gray;flex-grow: 1;}#sk-container-id-1 div.sk-label:hover label.sk-toggleable__label {background-color: #d4ebff;}#sk-container-id-1 div.sk-serial::before {content: \"\";position: absolute;border-left: 1px solid gray;box-sizing: border-box;top: 0;bottom: 0;left: 50%;z-index: 0;}#sk-container-id-1 div.sk-serial {display: flex;flex-direction: column;align-items: center;background-color: white;padding-right: 0.2em;padding-left: 0.2em;position: relative;}#sk-container-id-1 div.sk-item {position: relative;z-index: 1;}#sk-container-id-1 div.sk-parallel {display: flex;align-items: stretch;justify-content: center;background-color: white;position: relative;}#sk-container-id-1 div.sk-item::before, #sk-container-id-1 div.sk-parallel-item::before {content: \"\";position: absolute;border-left: 1px solid gray;box-sizing: border-box;top: 0;bottom: 0;left: 50%;z-index: -1;}#sk-container-id-1 div.sk-parallel-item {display: flex;flex-direction: column;z-index: 1;position: relative;background-color: white;}#sk-container-id-1 div.sk-parallel-item:first-child::after {align-self: flex-end;width: 50%;}#sk-container-id-1 div.sk-parallel-item:last-child::after {align-self: flex-start;width: 50%;}#sk-container-id-1 div.sk-parallel-item:only-child::after {width: 0;}#sk-container-id-1 div.sk-dashed-wrapped {border: 1px dashed gray;margin: 0 0.4em 0.5em 0.4em;box-sizing: border-box;padding-bottom: 0.4em;background-color: white;}#sk-container-id-1 div.sk-label label {font-family: monospace;font-weight: bold;display: inline-block;line-height: 1.2em;}#sk-container-id-1 div.sk-label-container {text-align: center;}#sk-container-id-1 div.sk-container {/* jupyter's `normalize.less` sets `[hidden] { display: none; }` but bootstrap.min.css set `[hidden] { display: none !important; }` so we also need the `!important` here to be able to override the default hidden behavior on the sphinx rendered scikit-learn.org. See: https://github.com/scikit-learn/scikit-learn/issues/21755 */display: inline-block !important;position: relative;}#sk-container-id-1 div.sk-text-repr-fallback {display: none;}</style><div id=\"sk-container-id-1\" class=\"sk-top-container\"><div class=\"sk-text-repr-fallback\"><pre>AdaBoostRegressor()</pre><b>In a Jupyter environment, please rerun this cell to show the HTML representation or trust the notebook. <br />On GitHub, the HTML representation is unable to render, please try loading this page with nbviewer.org.</b></div><div class=\"sk-container\" hidden><div class=\"sk-item\"><div class=\"sk-estimator sk-toggleable\"><input class=\"sk-toggleable__control sk-hidden--visually\" id=\"sk-estimator-id-1\" type=\"checkbox\" checked><label for=\"sk-estimator-id-1\" class=\"sk-toggleable__label sk-toggleable__label-arrow\">AdaBoostRegressor</label><div class=\"sk-toggleable__content\"><pre>AdaBoostRegressor()</pre></div></div></div></div></div>"
      ],
      "text/plain": [
       "AdaBoostRegressor()"
      ]
     },
     "execution_count": 135,
     "metadata": {},
     "output_type": "execute_result"
    }
   ],
   "source": [
    "from sklearn.ensemble import AdaBoostRegressor\n",
    "adb_model = AdaBoostRegressor()\n",
    "adb_model.fit(x_train, y_train)\n"
   ]
  },
  {
   "cell_type": "code",
   "execution_count": 136,
   "id": "934e4bfd-2c15-426c-9a75-c1a3c2431b5b",
   "metadata": {},
   "outputs": [
    {
     "name": "stdout",
     "output_type": "stream",
     "text": [
      "Accuracy train: 55.1 and test: 47.74\n"
     ]
    }
   ],
   "source": [
    "print(\"Accuracy train: {} and test: {}\".format(round(adb_model.score(x_train, y_train), 4)*100, round(adb_model.score(x_test, y_test), 4)*100 ))"
   ]
  },
  {
   "cell_type": "code",
   "execution_count": 143,
   "id": "865b9db8-a61b-458c-8c88-d4c4f5f3ff26",
   "metadata": {},
   "outputs": [],
   "source": [
    "import pickle"
   ]
  },
  {
   "cell_type": "code",
   "execution_count": 147,
   "id": "260347d2-bab2-447d-8d46-36da446e166f",
   "metadata": {},
   "outputs": [],
   "source": [
    "pickle.dump(forest_model,open('Salary_Prediction.pkl','wb'))"
   ]
  },
  {
   "cell_type": "code",
   "execution_count": 148,
   "id": "71938c86-ea62-4444-b9bf-5b943bba0176",
   "metadata": {},
   "outputs": [],
   "source": [
    "pickeled_model = pickle.load(open('Salary_Prediction.pkl','rb'))"
   ]
  }
 ],
 "metadata": {
  "kernelspec": {
   "display_name": "Python 3 (ipykernel)",
   "language": "python",
   "name": "python3"
  },
  "language_info": {
   "codemirror_mode": {
    "name": "ipython",
    "version": 3
   },
   "file_extension": ".py",
   "mimetype": "text/x-python",
   "name": "python",
   "nbconvert_exporter": "python",
   "pygments_lexer": "ipython3",
   "version": "3.7.0"
  }
 },
 "nbformat": 4,
 "nbformat_minor": 5
}
